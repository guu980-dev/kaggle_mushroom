{
  "metadata": {
    "kernelspec": {
      "name": "python3",
      "display_name": "Python 3"
    },
    "language_info": {
      "name": "python",
      "version": "3.10.14",
      "mimetype": "text/x-python",
      "codemirror_mode": {
        "name": "ipython",
        "version": 3
      },
      "pygments_lexer": "ipython3",
      "nbconvert_exporter": "python",
      "file_extension": ".py"
    },
    "kaggle": {
      "accelerator": "gpu",
      "dataSources": [
        {
          "sourceId": 76727,
          "databundleVersionId": 9045607,
          "sourceType": "competition"
        },
        {
          "sourceId": 3918849,
          "sourceType": "datasetVersion",
          "datasetId": 2327251
        },
        {
          "sourceId": 192934997,
          "sourceType": "kernelVersion"
        },
        {
          "sourceId": 192988856,
          "sourceType": "kernelVersion"
        },
        {
          "sourceId": 193240295,
          "sourceType": "kernelVersion"
        },
        {
          "sourceId": 194042613,
          "sourceType": "kernelVersion"
        },
        {
          "sourceId": 194069363,
          "sourceType": "kernelVersion"
        }
      ],
      "isInternetEnabled": false,
      "language": "python",
      "sourceType": "notebook",
      "isGpuEnabled": true
    },
    "colab": {
      "provenance": [],
      "gpuType": "T4",
      "machine_shape": "hm"
    },
    "accelerator": "GPU"
  },
  "nbformat_minor": 0,
  "nbformat": 4,
  "cells": [
    {
      "cell_type": "markdown",
      "source": [
        "# Import Libraries"
      ],
      "metadata": {
        "id": "lA8--JFahiK4"
      }
    },
    {
      "cell_type": "code",
      "source": [
        "!mkdir -p ~/.kaggle\n",
        "!cp kaggle.json ~/.kaggle/\n",
        "\n",
        "# Permission Warning 방지\n",
        "!chmod 600 ~/.kaggle/kaggle.json"
      ],
      "metadata": {
        "id": "V-oi8FxsbKdf"
      },
      "execution_count": null,
      "outputs": []
    },
    {
      "cell_type": "code",
      "source": [
        "!kaggle competitions download -c playground-series-s4e8"
      ],
      "metadata": {
        "colab": {
          "base_uri": "https://localhost:8080/"
        },
        "id": "UyPRYQyQbVL1",
        "outputId": "8361146f-f784-4b95-dcf9-7c96c6a47ed3"
      },
      "execution_count": null,
      "outputs": [
        {
          "output_type": "stream",
          "name": "stdout",
          "text": [
            "Downloading playground-series-s4e8.zip to /content\n",
            "100% 82.3M/82.3M [00:05<00:00, 20.2MB/s]\n",
            "100% 82.3M/82.3M [00:05<00:00, 15.3MB/s]\n"
          ]
        }
      ]
    },
    {
      "cell_type": "code",
      "source": [
        "!pip install --upgrade catboost"
      ],
      "metadata": {
        "colab": {
          "base_uri": "https://localhost:8080/"
        },
        "id": "pdlKKbTeco_N",
        "outputId": "ee353436-a940-4a94-af14-1052bfefcf66"
      },
      "execution_count": null,
      "outputs": [
        {
          "output_type": "stream",
          "name": "stdout",
          "text": [
            "Collecting catboost\n",
            "  Downloading catboost-1.2.5-cp310-cp310-manylinux2014_x86_64.whl.metadata (1.2 kB)\n",
            "Requirement already satisfied: graphviz in /usr/local/lib/python3.10/dist-packages (from catboost) (0.20.3)\n",
            "Requirement already satisfied: matplotlib in /usr/local/lib/python3.10/dist-packages (from catboost) (3.7.1)\n",
            "Requirement already satisfied: numpy>=1.16.0 in /usr/local/lib/python3.10/dist-packages (from catboost) (1.26.4)\n",
            "Requirement already satisfied: pandas>=0.24 in /usr/local/lib/python3.10/dist-packages (from catboost) (2.1.4)\n",
            "Requirement already satisfied: scipy in /usr/local/lib/python3.10/dist-packages (from catboost) (1.13.1)\n",
            "Requirement already satisfied: plotly in /usr/local/lib/python3.10/dist-packages (from catboost) (5.15.0)\n",
            "Requirement already satisfied: six in /usr/local/lib/python3.10/dist-packages (from catboost) (1.16.0)\n",
            "Requirement already satisfied: python-dateutil>=2.8.2 in /usr/local/lib/python3.10/dist-packages (from pandas>=0.24->catboost) (2.8.2)\n",
            "Requirement already satisfied: pytz>=2020.1 in /usr/local/lib/python3.10/dist-packages (from pandas>=0.24->catboost) (2024.1)\n",
            "Requirement already satisfied: tzdata>=2022.1 in /usr/local/lib/python3.10/dist-packages (from pandas>=0.24->catboost) (2024.1)\n",
            "Requirement already satisfied: contourpy>=1.0.1 in /usr/local/lib/python3.10/dist-packages (from matplotlib->catboost) (1.2.1)\n",
            "Requirement already satisfied: cycler>=0.10 in /usr/local/lib/python3.10/dist-packages (from matplotlib->catboost) (0.12.1)\n",
            "Requirement already satisfied: fonttools>=4.22.0 in /usr/local/lib/python3.10/dist-packages (from matplotlib->catboost) (4.53.1)\n",
            "Requirement already satisfied: kiwisolver>=1.0.1 in /usr/local/lib/python3.10/dist-packages (from matplotlib->catboost) (1.4.5)\n",
            "Requirement already satisfied: packaging>=20.0 in /usr/local/lib/python3.10/dist-packages (from matplotlib->catboost) (24.1)\n",
            "Requirement already satisfied: pillow>=6.2.0 in /usr/local/lib/python3.10/dist-packages (from matplotlib->catboost) (9.4.0)\n",
            "Requirement already satisfied: pyparsing>=2.3.1 in /usr/local/lib/python3.10/dist-packages (from matplotlib->catboost) (3.1.2)\n",
            "Requirement already satisfied: tenacity>=6.2.0 in /usr/local/lib/python3.10/dist-packages (from plotly->catboost) (9.0.0)\n",
            "Downloading catboost-1.2.5-cp310-cp310-manylinux2014_x86_64.whl (98.2 MB)\n",
            "\u001b[2K   \u001b[90m━━━━━━━━━━━━━━━━━━━━━━━━━━━━━━━━━━━━━━━━\u001b[0m \u001b[32m98.2/98.2 MB\u001b[0m \u001b[31m11.6 MB/s\u001b[0m eta \u001b[36m0:00:00\u001b[0m\n",
            "\u001b[?25hInstalling collected packages: catboost\n",
            "Successfully installed catboost-1.2.5\n"
          ]
        }
      ]
    },
    {
      "cell_type": "code",
      "source": [
        "!mkdir -p /etc/OpenCL/vendors && echo \"libnvidia-opencl.so.1\" > /etc/OpenCL/vendors/nvidia.icd\n",
        "# https://www.kaggle.com/code/kirankunapuli/ieee-fraud-lightgbm-with-gpu/notebook"
      ],
      "metadata": {
        "id": "EN_bBLG3spgI"
      },
      "execution_count": null,
      "outputs": []
    },
    {
      "cell_type": "code",
      "source": [
        "import numpy as np\n",
        "import pandas as pd\n",
        "import matplotlib.pyplot as plt\n",
        "import seaborn as sns\n",
        "import warnings\n",
        "\n",
        "warnings.filterwarnings(\"ignore\")\n",
        "\n",
        "from sklearn.impute import SimpleImputer\n",
        "from sklearn.model_selection import StratifiedKFold, train_test_split, cross_val_score, cross_validate\n",
        "from sklearn.metrics import matthews_corrcoef, f1_score, confusion_matrix, ConfusionMatrixDisplay, make_scorer\n",
        "from sklearn.preprocessing import StandardScaler, LabelEncoder\n",
        "from scipy.stats import mode\n",
        "\n",
        "from xgboost import XGBClassifier\n",
        "from catboost import CatBoostClassifier\n",
        "from lightgbm import LGBMClassifier"
      ],
      "metadata": {
        "execution": {
          "iopub.status.busy": "2024-08-26T10:34:58.546618Z",
          "iopub.execute_input": "2024-08-26T10:34:58.547016Z",
          "iopub.status.idle": "2024-08-26T10:35:01.551094Z",
          "shell.execute_reply.started": "2024-08-26T10:34:58.546976Z",
          "shell.execute_reply": "2024-08-26T10:35:01.549907Z"
        },
        "trusted": true,
        "id": "5VWRUO7thiK9"
      },
      "execution_count": null,
      "outputs": []
    },
    {
      "cell_type": "markdown",
      "source": [
        "# Loading Data"
      ],
      "metadata": {
        "id": "MMlwkR-nhiLD"
      }
    },
    {
      "cell_type": "code",
      "source": [
        "!unzip /content/playground-series-s4e8.zip"
      ],
      "metadata": {
        "colab": {
          "base_uri": "https://localhost:8080/"
        },
        "id": "fj7f_bG8dzw2",
        "outputId": "c5cd0b5d-da59-406c-bb67-562a77e40b4f"
      },
      "execution_count": null,
      "outputs": [
        {
          "output_type": "stream",
          "name": "stdout",
          "text": [
            "Archive:  /content/playground-series-s4e8.zip\n",
            "  inflating: sample_submission.csv   \n",
            "  inflating: test.csv                \n",
            "  inflating: train.csv               \n"
          ]
        }
      ]
    },
    {
      "cell_type": "code",
      "source": [
        "train_df = pd.read_csv(\"/content/train.csv\", index_col='id')\n",
        "orig_df = pd.read_csv(\"/content/secondary_data.csv\", sep=\";\")\n",
        "test_df = pd.read_csv(\"/content/test.csv\", index_col='id')"
      ],
      "metadata": {
        "execution": {
          "iopub.status.busy": "2024-08-26T10:35:01.553024Z",
          "iopub.execute_input": "2024-08-26T10:35:01.553599Z",
          "iopub.status.idle": "2024-08-26T10:35:19.005227Z",
          "shell.execute_reply.started": "2024-08-26T10:35:01.553557Z",
          "shell.execute_reply": "2024-08-26T10:35:19.004003Z"
        },
        "trusted": true,
        "id": "0Bbs-4FFhiLE"
      },
      "execution_count": null,
      "outputs": []
    },
    {
      "cell_type": "code",
      "source": [
        "train_df = pd.concat([train_df, orig_df], ignore_index=True)"
      ],
      "metadata": {
        "execution": {
          "iopub.status.busy": "2024-08-26T10:35:19.006551Z",
          "iopub.execute_input": "2024-08-26T10:35:19.006896Z",
          "iopub.status.idle": "2024-08-26T10:35:19.786804Z",
          "shell.execute_reply.started": "2024-08-26T10:35:19.006861Z",
          "shell.execute_reply": "2024-08-26T10:35:19.785781Z"
        },
        "trusted": true,
        "id": "zpNyntvYhiLG"
      },
      "execution_count": null,
      "outputs": []
    },
    {
      "cell_type": "code",
      "source": [
        "train_df.head()"
      ],
      "metadata": {
        "execution": {
          "iopub.status.busy": "2024-08-26T10:35:19.789734Z",
          "iopub.execute_input": "2024-08-26T10:35:19.790214Z",
          "iopub.status.idle": "2024-08-26T10:35:19.824459Z",
          "shell.execute_reply.started": "2024-08-26T10:35:19.790163Z",
          "shell.execute_reply": "2024-08-26T10:35:19.823396Z"
        },
        "trusted": true,
        "id": "LhCoUlu7hiLI",
        "outputId": "ebf7a2df-9aec-44b5-cb11-aa7915aa1724",
        "colab": {
          "base_uri": "https://localhost:8080/",
          "height": 307
        }
      },
      "execution_count": null,
      "outputs": [
        {
          "output_type": "execute_result",
          "data": {
            "text/plain": [
              "  class  cap-diameter cap-shape cap-surface cap-color does-bruise-or-bleed  \\\n",
              "0     e          8.80         f           s         u                    f   \n",
              "1     p          4.51         x           h         o                    f   \n",
              "2     e          6.94         f           s         b                    f   \n",
              "3     e          3.88         f           y         g                    f   \n",
              "4     e          5.85         x           l         w                    f   \n",
              "\n",
              "  gill-attachment gill-spacing gill-color  stem-height  ...  stem-root  \\\n",
              "0               a            c          w         4.51  ...        NaN   \n",
              "1               a            c          n         4.79  ...        NaN   \n",
              "2               x            c          w         6.85  ...        NaN   \n",
              "3               s          NaN          g         4.16  ...        NaN   \n",
              "4               d          NaN          w         3.37  ...        NaN   \n",
              "\n",
              "  stem-surface stem-color veil-type veil-color has-ring ring-type  \\\n",
              "0          NaN          w       NaN        NaN        f         f   \n",
              "1            y          o       NaN        NaN        t         z   \n",
              "2            s          n       NaN        NaN        f         f   \n",
              "3          NaN          w       NaN        NaN        f         f   \n",
              "4          NaN          w       NaN        NaN        f         f   \n",
              "\n",
              "  spore-print-color habitat season  \n",
              "0               NaN       d      a  \n",
              "1               NaN       d      w  \n",
              "2               NaN       l      w  \n",
              "3               NaN       d      u  \n",
              "4               NaN       g      a  \n",
              "\n",
              "[5 rows x 21 columns]"
            ],
            "text/html": [
              "\n",
              "  <div id=\"df-84b1d607-21b2-4c18-b62a-ff2aa8c52da0\" class=\"colab-df-container\">\n",
              "    <div>\n",
              "<style scoped>\n",
              "    .dataframe tbody tr th:only-of-type {\n",
              "        vertical-align: middle;\n",
              "    }\n",
              "\n",
              "    .dataframe tbody tr th {\n",
              "        vertical-align: top;\n",
              "    }\n",
              "\n",
              "    .dataframe thead th {\n",
              "        text-align: right;\n",
              "    }\n",
              "</style>\n",
              "<table border=\"1\" class=\"dataframe\">\n",
              "  <thead>\n",
              "    <tr style=\"text-align: right;\">\n",
              "      <th></th>\n",
              "      <th>class</th>\n",
              "      <th>cap-diameter</th>\n",
              "      <th>cap-shape</th>\n",
              "      <th>cap-surface</th>\n",
              "      <th>cap-color</th>\n",
              "      <th>does-bruise-or-bleed</th>\n",
              "      <th>gill-attachment</th>\n",
              "      <th>gill-spacing</th>\n",
              "      <th>gill-color</th>\n",
              "      <th>stem-height</th>\n",
              "      <th>...</th>\n",
              "      <th>stem-root</th>\n",
              "      <th>stem-surface</th>\n",
              "      <th>stem-color</th>\n",
              "      <th>veil-type</th>\n",
              "      <th>veil-color</th>\n",
              "      <th>has-ring</th>\n",
              "      <th>ring-type</th>\n",
              "      <th>spore-print-color</th>\n",
              "      <th>habitat</th>\n",
              "      <th>season</th>\n",
              "    </tr>\n",
              "  </thead>\n",
              "  <tbody>\n",
              "    <tr>\n",
              "      <th>0</th>\n",
              "      <td>e</td>\n",
              "      <td>8.80</td>\n",
              "      <td>f</td>\n",
              "      <td>s</td>\n",
              "      <td>u</td>\n",
              "      <td>f</td>\n",
              "      <td>a</td>\n",
              "      <td>c</td>\n",
              "      <td>w</td>\n",
              "      <td>4.51</td>\n",
              "      <td>...</td>\n",
              "      <td>NaN</td>\n",
              "      <td>NaN</td>\n",
              "      <td>w</td>\n",
              "      <td>NaN</td>\n",
              "      <td>NaN</td>\n",
              "      <td>f</td>\n",
              "      <td>f</td>\n",
              "      <td>NaN</td>\n",
              "      <td>d</td>\n",
              "      <td>a</td>\n",
              "    </tr>\n",
              "    <tr>\n",
              "      <th>1</th>\n",
              "      <td>p</td>\n",
              "      <td>4.51</td>\n",
              "      <td>x</td>\n",
              "      <td>h</td>\n",
              "      <td>o</td>\n",
              "      <td>f</td>\n",
              "      <td>a</td>\n",
              "      <td>c</td>\n",
              "      <td>n</td>\n",
              "      <td>4.79</td>\n",
              "      <td>...</td>\n",
              "      <td>NaN</td>\n",
              "      <td>y</td>\n",
              "      <td>o</td>\n",
              "      <td>NaN</td>\n",
              "      <td>NaN</td>\n",
              "      <td>t</td>\n",
              "      <td>z</td>\n",
              "      <td>NaN</td>\n",
              "      <td>d</td>\n",
              "      <td>w</td>\n",
              "    </tr>\n",
              "    <tr>\n",
              "      <th>2</th>\n",
              "      <td>e</td>\n",
              "      <td>6.94</td>\n",
              "      <td>f</td>\n",
              "      <td>s</td>\n",
              "      <td>b</td>\n",
              "      <td>f</td>\n",
              "      <td>x</td>\n",
              "      <td>c</td>\n",
              "      <td>w</td>\n",
              "      <td>6.85</td>\n",
              "      <td>...</td>\n",
              "      <td>NaN</td>\n",
              "      <td>s</td>\n",
              "      <td>n</td>\n",
              "      <td>NaN</td>\n",
              "      <td>NaN</td>\n",
              "      <td>f</td>\n",
              "      <td>f</td>\n",
              "      <td>NaN</td>\n",
              "      <td>l</td>\n",
              "      <td>w</td>\n",
              "    </tr>\n",
              "    <tr>\n",
              "      <th>3</th>\n",
              "      <td>e</td>\n",
              "      <td>3.88</td>\n",
              "      <td>f</td>\n",
              "      <td>y</td>\n",
              "      <td>g</td>\n",
              "      <td>f</td>\n",
              "      <td>s</td>\n",
              "      <td>NaN</td>\n",
              "      <td>g</td>\n",
              "      <td>4.16</td>\n",
              "      <td>...</td>\n",
              "      <td>NaN</td>\n",
              "      <td>NaN</td>\n",
              "      <td>w</td>\n",
              "      <td>NaN</td>\n",
              "      <td>NaN</td>\n",
              "      <td>f</td>\n",
              "      <td>f</td>\n",
              "      <td>NaN</td>\n",
              "      <td>d</td>\n",
              "      <td>u</td>\n",
              "    </tr>\n",
              "    <tr>\n",
              "      <th>4</th>\n",
              "      <td>e</td>\n",
              "      <td>5.85</td>\n",
              "      <td>x</td>\n",
              "      <td>l</td>\n",
              "      <td>w</td>\n",
              "      <td>f</td>\n",
              "      <td>d</td>\n",
              "      <td>NaN</td>\n",
              "      <td>w</td>\n",
              "      <td>3.37</td>\n",
              "      <td>...</td>\n",
              "      <td>NaN</td>\n",
              "      <td>NaN</td>\n",
              "      <td>w</td>\n",
              "      <td>NaN</td>\n",
              "      <td>NaN</td>\n",
              "      <td>f</td>\n",
              "      <td>f</td>\n",
              "      <td>NaN</td>\n",
              "      <td>g</td>\n",
              "      <td>a</td>\n",
              "    </tr>\n",
              "  </tbody>\n",
              "</table>\n",
              "<p>5 rows × 21 columns</p>\n",
              "</div>\n",
              "    <div class=\"colab-df-buttons\">\n",
              "\n",
              "  <div class=\"colab-df-container\">\n",
              "    <button class=\"colab-df-convert\" onclick=\"convertToInteractive('df-84b1d607-21b2-4c18-b62a-ff2aa8c52da0')\"\n",
              "            title=\"Convert this dataframe to an interactive table.\"\n",
              "            style=\"display:none;\">\n",
              "\n",
              "  <svg xmlns=\"http://www.w3.org/2000/svg\" height=\"24px\" viewBox=\"0 -960 960 960\">\n",
              "    <path d=\"M120-120v-720h720v720H120Zm60-500h600v-160H180v160Zm220 220h160v-160H400v160Zm0 220h160v-160H400v160ZM180-400h160v-160H180v160Zm440 0h160v-160H620v160ZM180-180h160v-160H180v160Zm440 0h160v-160H620v160Z\"/>\n",
              "  </svg>\n",
              "    </button>\n",
              "\n",
              "  <style>\n",
              "    .colab-df-container {\n",
              "      display:flex;\n",
              "      gap: 12px;\n",
              "    }\n",
              "\n",
              "    .colab-df-convert {\n",
              "      background-color: #E8F0FE;\n",
              "      border: none;\n",
              "      border-radius: 50%;\n",
              "      cursor: pointer;\n",
              "      display: none;\n",
              "      fill: #1967D2;\n",
              "      height: 32px;\n",
              "      padding: 0 0 0 0;\n",
              "      width: 32px;\n",
              "    }\n",
              "\n",
              "    .colab-df-convert:hover {\n",
              "      background-color: #E2EBFA;\n",
              "      box-shadow: 0px 1px 2px rgba(60, 64, 67, 0.3), 0px 1px 3px 1px rgba(60, 64, 67, 0.15);\n",
              "      fill: #174EA6;\n",
              "    }\n",
              "\n",
              "    .colab-df-buttons div {\n",
              "      margin-bottom: 4px;\n",
              "    }\n",
              "\n",
              "    [theme=dark] .colab-df-convert {\n",
              "      background-color: #3B4455;\n",
              "      fill: #D2E3FC;\n",
              "    }\n",
              "\n",
              "    [theme=dark] .colab-df-convert:hover {\n",
              "      background-color: #434B5C;\n",
              "      box-shadow: 0px 1px 3px 1px rgba(0, 0, 0, 0.15);\n",
              "      filter: drop-shadow(0px 1px 2px rgba(0, 0, 0, 0.3));\n",
              "      fill: #FFFFFF;\n",
              "    }\n",
              "  </style>\n",
              "\n",
              "    <script>\n",
              "      const buttonEl =\n",
              "        document.querySelector('#df-84b1d607-21b2-4c18-b62a-ff2aa8c52da0 button.colab-df-convert');\n",
              "      buttonEl.style.display =\n",
              "        google.colab.kernel.accessAllowed ? 'block' : 'none';\n",
              "\n",
              "      async function convertToInteractive(key) {\n",
              "        const element = document.querySelector('#df-84b1d607-21b2-4c18-b62a-ff2aa8c52da0');\n",
              "        const dataTable =\n",
              "          await google.colab.kernel.invokeFunction('convertToInteractive',\n",
              "                                                    [key], {});\n",
              "        if (!dataTable) return;\n",
              "\n",
              "        const docLinkHtml = 'Like what you see? Visit the ' +\n",
              "          '<a target=\"_blank\" href=https://colab.research.google.com/notebooks/data_table.ipynb>data table notebook</a>'\n",
              "          + ' to learn more about interactive tables.';\n",
              "        element.innerHTML = '';\n",
              "        dataTable['output_type'] = 'display_data';\n",
              "        await google.colab.output.renderOutput(dataTable, element);\n",
              "        const docLink = document.createElement('div');\n",
              "        docLink.innerHTML = docLinkHtml;\n",
              "        element.appendChild(docLink);\n",
              "      }\n",
              "    </script>\n",
              "  </div>\n",
              "\n",
              "\n",
              "<div id=\"df-2df6fadd-c792-4d61-bafc-ba16e07b842f\">\n",
              "  <button class=\"colab-df-quickchart\" onclick=\"quickchart('df-2df6fadd-c792-4d61-bafc-ba16e07b842f')\"\n",
              "            title=\"Suggest charts\"\n",
              "            style=\"display:none;\">\n",
              "\n",
              "<svg xmlns=\"http://www.w3.org/2000/svg\" height=\"24px\"viewBox=\"0 0 24 24\"\n",
              "     width=\"24px\">\n",
              "    <g>\n",
              "        <path d=\"M19 3H5c-1.1 0-2 .9-2 2v14c0 1.1.9 2 2 2h14c1.1 0 2-.9 2-2V5c0-1.1-.9-2-2-2zM9 17H7v-7h2v7zm4 0h-2V7h2v10zm4 0h-2v-4h2v4z\"/>\n",
              "    </g>\n",
              "</svg>\n",
              "  </button>\n",
              "\n",
              "<style>\n",
              "  .colab-df-quickchart {\n",
              "      --bg-color: #E8F0FE;\n",
              "      --fill-color: #1967D2;\n",
              "      --hover-bg-color: #E2EBFA;\n",
              "      --hover-fill-color: #174EA6;\n",
              "      --disabled-fill-color: #AAA;\n",
              "      --disabled-bg-color: #DDD;\n",
              "  }\n",
              "\n",
              "  [theme=dark] .colab-df-quickchart {\n",
              "      --bg-color: #3B4455;\n",
              "      --fill-color: #D2E3FC;\n",
              "      --hover-bg-color: #434B5C;\n",
              "      --hover-fill-color: #FFFFFF;\n",
              "      --disabled-bg-color: #3B4455;\n",
              "      --disabled-fill-color: #666;\n",
              "  }\n",
              "\n",
              "  .colab-df-quickchart {\n",
              "    background-color: var(--bg-color);\n",
              "    border: none;\n",
              "    border-radius: 50%;\n",
              "    cursor: pointer;\n",
              "    display: none;\n",
              "    fill: var(--fill-color);\n",
              "    height: 32px;\n",
              "    padding: 0;\n",
              "    width: 32px;\n",
              "  }\n",
              "\n",
              "  .colab-df-quickchart:hover {\n",
              "    background-color: var(--hover-bg-color);\n",
              "    box-shadow: 0 1px 2px rgba(60, 64, 67, 0.3), 0 1px 3px 1px rgba(60, 64, 67, 0.15);\n",
              "    fill: var(--button-hover-fill-color);\n",
              "  }\n",
              "\n",
              "  .colab-df-quickchart-complete:disabled,\n",
              "  .colab-df-quickchart-complete:disabled:hover {\n",
              "    background-color: var(--disabled-bg-color);\n",
              "    fill: var(--disabled-fill-color);\n",
              "    box-shadow: none;\n",
              "  }\n",
              "\n",
              "  .colab-df-spinner {\n",
              "    border: 2px solid var(--fill-color);\n",
              "    border-color: transparent;\n",
              "    border-bottom-color: var(--fill-color);\n",
              "    animation:\n",
              "      spin 1s steps(1) infinite;\n",
              "  }\n",
              "\n",
              "  @keyframes spin {\n",
              "    0% {\n",
              "      border-color: transparent;\n",
              "      border-bottom-color: var(--fill-color);\n",
              "      border-left-color: var(--fill-color);\n",
              "    }\n",
              "    20% {\n",
              "      border-color: transparent;\n",
              "      border-left-color: var(--fill-color);\n",
              "      border-top-color: var(--fill-color);\n",
              "    }\n",
              "    30% {\n",
              "      border-color: transparent;\n",
              "      border-left-color: var(--fill-color);\n",
              "      border-top-color: var(--fill-color);\n",
              "      border-right-color: var(--fill-color);\n",
              "    }\n",
              "    40% {\n",
              "      border-color: transparent;\n",
              "      border-right-color: var(--fill-color);\n",
              "      border-top-color: var(--fill-color);\n",
              "    }\n",
              "    60% {\n",
              "      border-color: transparent;\n",
              "      border-right-color: var(--fill-color);\n",
              "    }\n",
              "    80% {\n",
              "      border-color: transparent;\n",
              "      border-right-color: var(--fill-color);\n",
              "      border-bottom-color: var(--fill-color);\n",
              "    }\n",
              "    90% {\n",
              "      border-color: transparent;\n",
              "      border-bottom-color: var(--fill-color);\n",
              "    }\n",
              "  }\n",
              "</style>\n",
              "\n",
              "  <script>\n",
              "    async function quickchart(key) {\n",
              "      const quickchartButtonEl =\n",
              "        document.querySelector('#' + key + ' button');\n",
              "      quickchartButtonEl.disabled = true;  // To prevent multiple clicks.\n",
              "      quickchartButtonEl.classList.add('colab-df-spinner');\n",
              "      try {\n",
              "        const charts = await google.colab.kernel.invokeFunction(\n",
              "            'suggestCharts', [key], {});\n",
              "      } catch (error) {\n",
              "        console.error('Error during call to suggestCharts:', error);\n",
              "      }\n",
              "      quickchartButtonEl.classList.remove('colab-df-spinner');\n",
              "      quickchartButtonEl.classList.add('colab-df-quickchart-complete');\n",
              "    }\n",
              "    (() => {\n",
              "      let quickchartButtonEl =\n",
              "        document.querySelector('#df-2df6fadd-c792-4d61-bafc-ba16e07b842f button');\n",
              "      quickchartButtonEl.style.display =\n",
              "        google.colab.kernel.accessAllowed ? 'block' : 'none';\n",
              "    })();\n",
              "  </script>\n",
              "</div>\n",
              "\n",
              "    </div>\n",
              "  </div>\n"
            ],
            "application/vnd.google.colaboratory.intrinsic+json": {
              "type": "dataframe",
              "variable_name": "train_df"
            }
          },
          "metadata": {},
          "execution_count": 9
        }
      ]
    },
    {
      "cell_type": "code",
      "source": [
        "test_df.head()"
      ],
      "metadata": {
        "execution": {
          "iopub.status.busy": "2024-08-26T10:35:19.825895Z",
          "iopub.execute_input": "2024-08-26T10:35:19.826688Z",
          "iopub.status.idle": "2024-08-26T10:35:19.847687Z",
          "shell.execute_reply.started": "2024-08-26T10:35:19.826639Z",
          "shell.execute_reply": "2024-08-26T10:35:19.846548Z"
        },
        "trusted": true,
        "id": "yX63f4hjhiLO",
        "outputId": "11ca8349-a69a-4b84-cd41-a859a62e9c7f",
        "colab": {
          "base_uri": "https://localhost:8080/",
          "height": 309
        }
      },
      "execution_count": null,
      "outputs": [
        {
          "output_type": "execute_result",
          "data": {
            "text/plain": [
              "         cap-diameter cap-shape cap-surface cap-color does-bruise-or-bleed  \\\n",
              "id                                                                           \n",
              "3116945          8.64         x         NaN         n                    t   \n",
              "3116946          6.90         o           t         o                    f   \n",
              "3116947          2.00         b           g         n                    f   \n",
              "3116948          3.47         x           t         n                    f   \n",
              "3116949          6.17         x           h         y                    f   \n",
              "\n",
              "        gill-attachment gill-spacing gill-color  stem-height  stem-width  \\\n",
              "id                                                                         \n",
              "3116945             NaN          NaN          w        11.13       17.12   \n",
              "3116946             NaN            c          y         1.27       10.75   \n",
              "3116947             NaN            c          n         6.18        3.14   \n",
              "3116948               s            c          n         4.98        8.51   \n",
              "3116949               p          NaN          y         6.73       13.70   \n",
              "\n",
              "        stem-root stem-surface stem-color veil-type veil-color has-ring  \\\n",
              "id                                                                        \n",
              "3116945         b          NaN          w         u          w        t   \n",
              "3116946       NaN          NaN          n       NaN        NaN        f   \n",
              "3116947       NaN          NaN          n       NaN        NaN        f   \n",
              "3116948       NaN          NaN          w       NaN          n        t   \n",
              "3116949       NaN          NaN          y       NaN          y        t   \n",
              "\n",
              "        ring-type spore-print-color habitat season  \n",
              "id                                                  \n",
              "3116945         g               NaN       d      a  \n",
              "3116946         f               NaN       d      a  \n",
              "3116947         f               NaN       d      s  \n",
              "3116948         z               NaN       d      u  \n",
              "3116949       NaN               NaN       d      u  "
            ],
            "text/html": [
              "\n",
              "  <div id=\"df-980e5e6a-99e3-408d-9658-00914e8492a3\" class=\"colab-df-container\">\n",
              "    <div>\n",
              "<style scoped>\n",
              "    .dataframe tbody tr th:only-of-type {\n",
              "        vertical-align: middle;\n",
              "    }\n",
              "\n",
              "    .dataframe tbody tr th {\n",
              "        vertical-align: top;\n",
              "    }\n",
              "\n",
              "    .dataframe thead th {\n",
              "        text-align: right;\n",
              "    }\n",
              "</style>\n",
              "<table border=\"1\" class=\"dataframe\">\n",
              "  <thead>\n",
              "    <tr style=\"text-align: right;\">\n",
              "      <th></th>\n",
              "      <th>cap-diameter</th>\n",
              "      <th>cap-shape</th>\n",
              "      <th>cap-surface</th>\n",
              "      <th>cap-color</th>\n",
              "      <th>does-bruise-or-bleed</th>\n",
              "      <th>gill-attachment</th>\n",
              "      <th>gill-spacing</th>\n",
              "      <th>gill-color</th>\n",
              "      <th>stem-height</th>\n",
              "      <th>stem-width</th>\n",
              "      <th>stem-root</th>\n",
              "      <th>stem-surface</th>\n",
              "      <th>stem-color</th>\n",
              "      <th>veil-type</th>\n",
              "      <th>veil-color</th>\n",
              "      <th>has-ring</th>\n",
              "      <th>ring-type</th>\n",
              "      <th>spore-print-color</th>\n",
              "      <th>habitat</th>\n",
              "      <th>season</th>\n",
              "    </tr>\n",
              "    <tr>\n",
              "      <th>id</th>\n",
              "      <th></th>\n",
              "      <th></th>\n",
              "      <th></th>\n",
              "      <th></th>\n",
              "      <th></th>\n",
              "      <th></th>\n",
              "      <th></th>\n",
              "      <th></th>\n",
              "      <th></th>\n",
              "      <th></th>\n",
              "      <th></th>\n",
              "      <th></th>\n",
              "      <th></th>\n",
              "      <th></th>\n",
              "      <th></th>\n",
              "      <th></th>\n",
              "      <th></th>\n",
              "      <th></th>\n",
              "      <th></th>\n",
              "      <th></th>\n",
              "    </tr>\n",
              "  </thead>\n",
              "  <tbody>\n",
              "    <tr>\n",
              "      <th>3116945</th>\n",
              "      <td>8.64</td>\n",
              "      <td>x</td>\n",
              "      <td>NaN</td>\n",
              "      <td>n</td>\n",
              "      <td>t</td>\n",
              "      <td>NaN</td>\n",
              "      <td>NaN</td>\n",
              "      <td>w</td>\n",
              "      <td>11.13</td>\n",
              "      <td>17.12</td>\n",
              "      <td>b</td>\n",
              "      <td>NaN</td>\n",
              "      <td>w</td>\n",
              "      <td>u</td>\n",
              "      <td>w</td>\n",
              "      <td>t</td>\n",
              "      <td>g</td>\n",
              "      <td>NaN</td>\n",
              "      <td>d</td>\n",
              "      <td>a</td>\n",
              "    </tr>\n",
              "    <tr>\n",
              "      <th>3116946</th>\n",
              "      <td>6.90</td>\n",
              "      <td>o</td>\n",
              "      <td>t</td>\n",
              "      <td>o</td>\n",
              "      <td>f</td>\n",
              "      <td>NaN</td>\n",
              "      <td>c</td>\n",
              "      <td>y</td>\n",
              "      <td>1.27</td>\n",
              "      <td>10.75</td>\n",
              "      <td>NaN</td>\n",
              "      <td>NaN</td>\n",
              "      <td>n</td>\n",
              "      <td>NaN</td>\n",
              "      <td>NaN</td>\n",
              "      <td>f</td>\n",
              "      <td>f</td>\n",
              "      <td>NaN</td>\n",
              "      <td>d</td>\n",
              "      <td>a</td>\n",
              "    </tr>\n",
              "    <tr>\n",
              "      <th>3116947</th>\n",
              "      <td>2.00</td>\n",
              "      <td>b</td>\n",
              "      <td>g</td>\n",
              "      <td>n</td>\n",
              "      <td>f</td>\n",
              "      <td>NaN</td>\n",
              "      <td>c</td>\n",
              "      <td>n</td>\n",
              "      <td>6.18</td>\n",
              "      <td>3.14</td>\n",
              "      <td>NaN</td>\n",
              "      <td>NaN</td>\n",
              "      <td>n</td>\n",
              "      <td>NaN</td>\n",
              "      <td>NaN</td>\n",
              "      <td>f</td>\n",
              "      <td>f</td>\n",
              "      <td>NaN</td>\n",
              "      <td>d</td>\n",
              "      <td>s</td>\n",
              "    </tr>\n",
              "    <tr>\n",
              "      <th>3116948</th>\n",
              "      <td>3.47</td>\n",
              "      <td>x</td>\n",
              "      <td>t</td>\n",
              "      <td>n</td>\n",
              "      <td>f</td>\n",
              "      <td>s</td>\n",
              "      <td>c</td>\n",
              "      <td>n</td>\n",
              "      <td>4.98</td>\n",
              "      <td>8.51</td>\n",
              "      <td>NaN</td>\n",
              "      <td>NaN</td>\n",
              "      <td>w</td>\n",
              "      <td>NaN</td>\n",
              "      <td>n</td>\n",
              "      <td>t</td>\n",
              "      <td>z</td>\n",
              "      <td>NaN</td>\n",
              "      <td>d</td>\n",
              "      <td>u</td>\n",
              "    </tr>\n",
              "    <tr>\n",
              "      <th>3116949</th>\n",
              "      <td>6.17</td>\n",
              "      <td>x</td>\n",
              "      <td>h</td>\n",
              "      <td>y</td>\n",
              "      <td>f</td>\n",
              "      <td>p</td>\n",
              "      <td>NaN</td>\n",
              "      <td>y</td>\n",
              "      <td>6.73</td>\n",
              "      <td>13.70</td>\n",
              "      <td>NaN</td>\n",
              "      <td>NaN</td>\n",
              "      <td>y</td>\n",
              "      <td>NaN</td>\n",
              "      <td>y</td>\n",
              "      <td>t</td>\n",
              "      <td>NaN</td>\n",
              "      <td>NaN</td>\n",
              "      <td>d</td>\n",
              "      <td>u</td>\n",
              "    </tr>\n",
              "  </tbody>\n",
              "</table>\n",
              "</div>\n",
              "    <div class=\"colab-df-buttons\">\n",
              "\n",
              "  <div class=\"colab-df-container\">\n",
              "    <button class=\"colab-df-convert\" onclick=\"convertToInteractive('df-980e5e6a-99e3-408d-9658-00914e8492a3')\"\n",
              "            title=\"Convert this dataframe to an interactive table.\"\n",
              "            style=\"display:none;\">\n",
              "\n",
              "  <svg xmlns=\"http://www.w3.org/2000/svg\" height=\"24px\" viewBox=\"0 -960 960 960\">\n",
              "    <path d=\"M120-120v-720h720v720H120Zm60-500h600v-160H180v160Zm220 220h160v-160H400v160Zm0 220h160v-160H400v160ZM180-400h160v-160H180v160Zm440 0h160v-160H620v160ZM180-180h160v-160H180v160Zm440 0h160v-160H620v160Z\"/>\n",
              "  </svg>\n",
              "    </button>\n",
              "\n",
              "  <style>\n",
              "    .colab-df-container {\n",
              "      display:flex;\n",
              "      gap: 12px;\n",
              "    }\n",
              "\n",
              "    .colab-df-convert {\n",
              "      background-color: #E8F0FE;\n",
              "      border: none;\n",
              "      border-radius: 50%;\n",
              "      cursor: pointer;\n",
              "      display: none;\n",
              "      fill: #1967D2;\n",
              "      height: 32px;\n",
              "      padding: 0 0 0 0;\n",
              "      width: 32px;\n",
              "    }\n",
              "\n",
              "    .colab-df-convert:hover {\n",
              "      background-color: #E2EBFA;\n",
              "      box-shadow: 0px 1px 2px rgba(60, 64, 67, 0.3), 0px 1px 3px 1px rgba(60, 64, 67, 0.15);\n",
              "      fill: #174EA6;\n",
              "    }\n",
              "\n",
              "    .colab-df-buttons div {\n",
              "      margin-bottom: 4px;\n",
              "    }\n",
              "\n",
              "    [theme=dark] .colab-df-convert {\n",
              "      background-color: #3B4455;\n",
              "      fill: #D2E3FC;\n",
              "    }\n",
              "\n",
              "    [theme=dark] .colab-df-convert:hover {\n",
              "      background-color: #434B5C;\n",
              "      box-shadow: 0px 1px 3px 1px rgba(0, 0, 0, 0.15);\n",
              "      filter: drop-shadow(0px 1px 2px rgba(0, 0, 0, 0.3));\n",
              "      fill: #FFFFFF;\n",
              "    }\n",
              "  </style>\n",
              "\n",
              "    <script>\n",
              "      const buttonEl =\n",
              "        document.querySelector('#df-980e5e6a-99e3-408d-9658-00914e8492a3 button.colab-df-convert');\n",
              "      buttonEl.style.display =\n",
              "        google.colab.kernel.accessAllowed ? 'block' : 'none';\n",
              "\n",
              "      async function convertToInteractive(key) {\n",
              "        const element = document.querySelector('#df-980e5e6a-99e3-408d-9658-00914e8492a3');\n",
              "        const dataTable =\n",
              "          await google.colab.kernel.invokeFunction('convertToInteractive',\n",
              "                                                    [key], {});\n",
              "        if (!dataTable) return;\n",
              "\n",
              "        const docLinkHtml = 'Like what you see? Visit the ' +\n",
              "          '<a target=\"_blank\" href=https://colab.research.google.com/notebooks/data_table.ipynb>data table notebook</a>'\n",
              "          + ' to learn more about interactive tables.';\n",
              "        element.innerHTML = '';\n",
              "        dataTable['output_type'] = 'display_data';\n",
              "        await google.colab.output.renderOutput(dataTable, element);\n",
              "        const docLink = document.createElement('div');\n",
              "        docLink.innerHTML = docLinkHtml;\n",
              "        element.appendChild(docLink);\n",
              "      }\n",
              "    </script>\n",
              "  </div>\n",
              "\n",
              "\n",
              "<div id=\"df-77169cc5-3d7c-4eaa-b832-3254f6a5fb99\">\n",
              "  <button class=\"colab-df-quickchart\" onclick=\"quickchart('df-77169cc5-3d7c-4eaa-b832-3254f6a5fb99')\"\n",
              "            title=\"Suggest charts\"\n",
              "            style=\"display:none;\">\n",
              "\n",
              "<svg xmlns=\"http://www.w3.org/2000/svg\" height=\"24px\"viewBox=\"0 0 24 24\"\n",
              "     width=\"24px\">\n",
              "    <g>\n",
              "        <path d=\"M19 3H5c-1.1 0-2 .9-2 2v14c0 1.1.9 2 2 2h14c1.1 0 2-.9 2-2V5c0-1.1-.9-2-2-2zM9 17H7v-7h2v7zm4 0h-2V7h2v10zm4 0h-2v-4h2v4z\"/>\n",
              "    </g>\n",
              "</svg>\n",
              "  </button>\n",
              "\n",
              "<style>\n",
              "  .colab-df-quickchart {\n",
              "      --bg-color: #E8F0FE;\n",
              "      --fill-color: #1967D2;\n",
              "      --hover-bg-color: #E2EBFA;\n",
              "      --hover-fill-color: #174EA6;\n",
              "      --disabled-fill-color: #AAA;\n",
              "      --disabled-bg-color: #DDD;\n",
              "  }\n",
              "\n",
              "  [theme=dark] .colab-df-quickchart {\n",
              "      --bg-color: #3B4455;\n",
              "      --fill-color: #D2E3FC;\n",
              "      --hover-bg-color: #434B5C;\n",
              "      --hover-fill-color: #FFFFFF;\n",
              "      --disabled-bg-color: #3B4455;\n",
              "      --disabled-fill-color: #666;\n",
              "  }\n",
              "\n",
              "  .colab-df-quickchart {\n",
              "    background-color: var(--bg-color);\n",
              "    border: none;\n",
              "    border-radius: 50%;\n",
              "    cursor: pointer;\n",
              "    display: none;\n",
              "    fill: var(--fill-color);\n",
              "    height: 32px;\n",
              "    padding: 0;\n",
              "    width: 32px;\n",
              "  }\n",
              "\n",
              "  .colab-df-quickchart:hover {\n",
              "    background-color: var(--hover-bg-color);\n",
              "    box-shadow: 0 1px 2px rgba(60, 64, 67, 0.3), 0 1px 3px 1px rgba(60, 64, 67, 0.15);\n",
              "    fill: var(--button-hover-fill-color);\n",
              "  }\n",
              "\n",
              "  .colab-df-quickchart-complete:disabled,\n",
              "  .colab-df-quickchart-complete:disabled:hover {\n",
              "    background-color: var(--disabled-bg-color);\n",
              "    fill: var(--disabled-fill-color);\n",
              "    box-shadow: none;\n",
              "  }\n",
              "\n",
              "  .colab-df-spinner {\n",
              "    border: 2px solid var(--fill-color);\n",
              "    border-color: transparent;\n",
              "    border-bottom-color: var(--fill-color);\n",
              "    animation:\n",
              "      spin 1s steps(1) infinite;\n",
              "  }\n",
              "\n",
              "  @keyframes spin {\n",
              "    0% {\n",
              "      border-color: transparent;\n",
              "      border-bottom-color: var(--fill-color);\n",
              "      border-left-color: var(--fill-color);\n",
              "    }\n",
              "    20% {\n",
              "      border-color: transparent;\n",
              "      border-left-color: var(--fill-color);\n",
              "      border-top-color: var(--fill-color);\n",
              "    }\n",
              "    30% {\n",
              "      border-color: transparent;\n",
              "      border-left-color: var(--fill-color);\n",
              "      border-top-color: var(--fill-color);\n",
              "      border-right-color: var(--fill-color);\n",
              "    }\n",
              "    40% {\n",
              "      border-color: transparent;\n",
              "      border-right-color: var(--fill-color);\n",
              "      border-top-color: var(--fill-color);\n",
              "    }\n",
              "    60% {\n",
              "      border-color: transparent;\n",
              "      border-right-color: var(--fill-color);\n",
              "    }\n",
              "    80% {\n",
              "      border-color: transparent;\n",
              "      border-right-color: var(--fill-color);\n",
              "      border-bottom-color: var(--fill-color);\n",
              "    }\n",
              "    90% {\n",
              "      border-color: transparent;\n",
              "      border-bottom-color: var(--fill-color);\n",
              "    }\n",
              "  }\n",
              "</style>\n",
              "\n",
              "  <script>\n",
              "    async function quickchart(key) {\n",
              "      const quickchartButtonEl =\n",
              "        document.querySelector('#' + key + ' button');\n",
              "      quickchartButtonEl.disabled = true;  // To prevent multiple clicks.\n",
              "      quickchartButtonEl.classList.add('colab-df-spinner');\n",
              "      try {\n",
              "        const charts = await google.colab.kernel.invokeFunction(\n",
              "            'suggestCharts', [key], {});\n",
              "      } catch (error) {\n",
              "        console.error('Error during call to suggestCharts:', error);\n",
              "      }\n",
              "      quickchartButtonEl.classList.remove('colab-df-spinner');\n",
              "      quickchartButtonEl.classList.add('colab-df-quickchart-complete');\n",
              "    }\n",
              "    (() => {\n",
              "      let quickchartButtonEl =\n",
              "        document.querySelector('#df-77169cc5-3d7c-4eaa-b832-3254f6a5fb99 button');\n",
              "      quickchartButtonEl.style.display =\n",
              "        google.colab.kernel.accessAllowed ? 'block' : 'none';\n",
              "    })();\n",
              "  </script>\n",
              "</div>\n",
              "\n",
              "    </div>\n",
              "  </div>\n"
            ],
            "application/vnd.google.colaboratory.intrinsic+json": {
              "type": "dataframe",
              "variable_name": "test_df"
            }
          },
          "metadata": {},
          "execution_count": 10
        }
      ]
    },
    {
      "cell_type": "markdown",
      "source": [
        "# EDA"
      ],
      "metadata": {
        "id": "E8FcSxChhiLS"
      }
    },
    {
      "cell_type": "code",
      "source": [
        "train_df.info()"
      ],
      "metadata": {
        "execution": {
          "iopub.status.busy": "2024-08-26T10:35:19.849048Z",
          "iopub.execute_input": "2024-08-26T10:35:19.849418Z",
          "iopub.status.idle": "2024-08-26T10:35:19.872010Z",
          "shell.execute_reply.started": "2024-08-26T10:35:19.849371Z",
          "shell.execute_reply": "2024-08-26T10:35:19.870873Z"
        },
        "trusted": true,
        "id": "ZUK3T41-hiLU",
        "outputId": "d96956b3-274b-476d-fb3e-e909317897c3",
        "colab": {
          "base_uri": "https://localhost:8080/"
        }
      },
      "execution_count": null,
      "outputs": [
        {
          "output_type": "stream",
          "name": "stdout",
          "text": [
            "<class 'pandas.core.frame.DataFrame'>\n",
            "RangeIndex: 3178014 entries, 0 to 3178013\n",
            "Data columns (total 21 columns):\n",
            " #   Column                Dtype  \n",
            "---  ------                -----  \n",
            " 0   class                 object \n",
            " 1   cap-diameter          float64\n",
            " 2   cap-shape             object \n",
            " 3   cap-surface           object \n",
            " 4   cap-color             object \n",
            " 5   does-bruise-or-bleed  object \n",
            " 6   gill-attachment       object \n",
            " 7   gill-spacing          object \n",
            " 8   gill-color            object \n",
            " 9   stem-height           float64\n",
            " 10  stem-width            float64\n",
            " 11  stem-root             object \n",
            " 12  stem-surface          object \n",
            " 13  stem-color            object \n",
            " 14  veil-type             object \n",
            " 15  veil-color            object \n",
            " 16  has-ring              object \n",
            " 17  ring-type             object \n",
            " 18  spore-print-color     object \n",
            " 19  habitat               object \n",
            " 20  season                object \n",
            "dtypes: float64(3), object(18)\n",
            "memory usage: 509.2+ MB\n"
          ]
        }
      ]
    },
    {
      "cell_type": "code",
      "source": [
        "pd.DataFrame({\n",
        "    'column': train_df.columns,\n",
        "    'null-count': train_df.isna().sum().values,\n",
        "    '% null-count': np.round(train_df.isna().sum().values*100/len(train_df),6)\n",
        "}).sort_values(by='null-count', ascending=False).reset_index(drop=True)"
      ],
      "metadata": {
        "execution": {
          "iopub.status.busy": "2024-08-26T10:35:19.873835Z",
          "iopub.execute_input": "2024-08-26T10:35:19.874196Z",
          "iopub.status.idle": "2024-08-26T10:35:24.616271Z",
          "shell.execute_reply.started": "2024-08-26T10:35:19.874148Z",
          "shell.execute_reply": "2024-08-26T10:35:24.614729Z"
        },
        "trusted": true,
        "id": "ZnQxXmcdhiLW",
        "outputId": "ec4e041c-efb2-45fc-92bb-463682988216",
        "colab": {
          "base_uri": "https://localhost:8080/",
          "height": 707
        }
      },
      "execution_count": null,
      "outputs": [
        {
          "output_type": "execute_result",
          "data": {
            "text/plain": [
              "                  column  null-count  % null-count\n",
              "0              veil-type     3015385     94.882685\n",
              "1      spore-print-color     2904397     91.390315\n",
              "2              stem-root     2808561     88.374721\n",
              "3             veil-color     2794603     87.935516\n",
              "4           stem-surface     2018985     63.529770\n",
              "5           gill-spacing     1283498     40.386795\n",
              "6            cap-surface      685143     21.558841\n",
              "7        gill-attachment      533820     16.797283\n",
              "8              ring-type      131351      4.133116\n",
              "9             gill-color          57      0.001794\n",
              "10               habitat          45      0.001416\n",
              "11             cap-shape          40      0.001259\n",
              "12            stem-color          38      0.001196\n",
              "13              has-ring          24      0.000755\n",
              "14             cap-color          12      0.000378\n",
              "15  does-bruise-or-bleed           8      0.000252\n",
              "16          cap-diameter           4      0.000126\n",
              "17                 class           0      0.000000\n",
              "18            stem-width           0      0.000000\n",
              "19           stem-height           0      0.000000\n",
              "20                season           0      0.000000"
            ],
            "text/html": [
              "\n",
              "  <div id=\"df-85cb980c-a99c-4441-8e3d-3ce37873b339\" class=\"colab-df-container\">\n",
              "    <div>\n",
              "<style scoped>\n",
              "    .dataframe tbody tr th:only-of-type {\n",
              "        vertical-align: middle;\n",
              "    }\n",
              "\n",
              "    .dataframe tbody tr th {\n",
              "        vertical-align: top;\n",
              "    }\n",
              "\n",
              "    .dataframe thead th {\n",
              "        text-align: right;\n",
              "    }\n",
              "</style>\n",
              "<table border=\"1\" class=\"dataframe\">\n",
              "  <thead>\n",
              "    <tr style=\"text-align: right;\">\n",
              "      <th></th>\n",
              "      <th>column</th>\n",
              "      <th>null-count</th>\n",
              "      <th>% null-count</th>\n",
              "    </tr>\n",
              "  </thead>\n",
              "  <tbody>\n",
              "    <tr>\n",
              "      <th>0</th>\n",
              "      <td>veil-type</td>\n",
              "      <td>3015385</td>\n",
              "      <td>94.882685</td>\n",
              "    </tr>\n",
              "    <tr>\n",
              "      <th>1</th>\n",
              "      <td>spore-print-color</td>\n",
              "      <td>2904397</td>\n",
              "      <td>91.390315</td>\n",
              "    </tr>\n",
              "    <tr>\n",
              "      <th>2</th>\n",
              "      <td>stem-root</td>\n",
              "      <td>2808561</td>\n",
              "      <td>88.374721</td>\n",
              "    </tr>\n",
              "    <tr>\n",
              "      <th>3</th>\n",
              "      <td>veil-color</td>\n",
              "      <td>2794603</td>\n",
              "      <td>87.935516</td>\n",
              "    </tr>\n",
              "    <tr>\n",
              "      <th>4</th>\n",
              "      <td>stem-surface</td>\n",
              "      <td>2018985</td>\n",
              "      <td>63.529770</td>\n",
              "    </tr>\n",
              "    <tr>\n",
              "      <th>5</th>\n",
              "      <td>gill-spacing</td>\n",
              "      <td>1283498</td>\n",
              "      <td>40.386795</td>\n",
              "    </tr>\n",
              "    <tr>\n",
              "      <th>6</th>\n",
              "      <td>cap-surface</td>\n",
              "      <td>685143</td>\n",
              "      <td>21.558841</td>\n",
              "    </tr>\n",
              "    <tr>\n",
              "      <th>7</th>\n",
              "      <td>gill-attachment</td>\n",
              "      <td>533820</td>\n",
              "      <td>16.797283</td>\n",
              "    </tr>\n",
              "    <tr>\n",
              "      <th>8</th>\n",
              "      <td>ring-type</td>\n",
              "      <td>131351</td>\n",
              "      <td>4.133116</td>\n",
              "    </tr>\n",
              "    <tr>\n",
              "      <th>9</th>\n",
              "      <td>gill-color</td>\n",
              "      <td>57</td>\n",
              "      <td>0.001794</td>\n",
              "    </tr>\n",
              "    <tr>\n",
              "      <th>10</th>\n",
              "      <td>habitat</td>\n",
              "      <td>45</td>\n",
              "      <td>0.001416</td>\n",
              "    </tr>\n",
              "    <tr>\n",
              "      <th>11</th>\n",
              "      <td>cap-shape</td>\n",
              "      <td>40</td>\n",
              "      <td>0.001259</td>\n",
              "    </tr>\n",
              "    <tr>\n",
              "      <th>12</th>\n",
              "      <td>stem-color</td>\n",
              "      <td>38</td>\n",
              "      <td>0.001196</td>\n",
              "    </tr>\n",
              "    <tr>\n",
              "      <th>13</th>\n",
              "      <td>has-ring</td>\n",
              "      <td>24</td>\n",
              "      <td>0.000755</td>\n",
              "    </tr>\n",
              "    <tr>\n",
              "      <th>14</th>\n",
              "      <td>cap-color</td>\n",
              "      <td>12</td>\n",
              "      <td>0.000378</td>\n",
              "    </tr>\n",
              "    <tr>\n",
              "      <th>15</th>\n",
              "      <td>does-bruise-or-bleed</td>\n",
              "      <td>8</td>\n",
              "      <td>0.000252</td>\n",
              "    </tr>\n",
              "    <tr>\n",
              "      <th>16</th>\n",
              "      <td>cap-diameter</td>\n",
              "      <td>4</td>\n",
              "      <td>0.000126</td>\n",
              "    </tr>\n",
              "    <tr>\n",
              "      <th>17</th>\n",
              "      <td>class</td>\n",
              "      <td>0</td>\n",
              "      <td>0.000000</td>\n",
              "    </tr>\n",
              "    <tr>\n",
              "      <th>18</th>\n",
              "      <td>stem-width</td>\n",
              "      <td>0</td>\n",
              "      <td>0.000000</td>\n",
              "    </tr>\n",
              "    <tr>\n",
              "      <th>19</th>\n",
              "      <td>stem-height</td>\n",
              "      <td>0</td>\n",
              "      <td>0.000000</td>\n",
              "    </tr>\n",
              "    <tr>\n",
              "      <th>20</th>\n",
              "      <td>season</td>\n",
              "      <td>0</td>\n",
              "      <td>0.000000</td>\n",
              "    </tr>\n",
              "  </tbody>\n",
              "</table>\n",
              "</div>\n",
              "    <div class=\"colab-df-buttons\">\n",
              "\n",
              "  <div class=\"colab-df-container\">\n",
              "    <button class=\"colab-df-convert\" onclick=\"convertToInteractive('df-85cb980c-a99c-4441-8e3d-3ce37873b339')\"\n",
              "            title=\"Convert this dataframe to an interactive table.\"\n",
              "            style=\"display:none;\">\n",
              "\n",
              "  <svg xmlns=\"http://www.w3.org/2000/svg\" height=\"24px\" viewBox=\"0 -960 960 960\">\n",
              "    <path d=\"M120-120v-720h720v720H120Zm60-500h600v-160H180v160Zm220 220h160v-160H400v160Zm0 220h160v-160H400v160ZM180-400h160v-160H180v160Zm440 0h160v-160H620v160ZM180-180h160v-160H180v160Zm440 0h160v-160H620v160Z\"/>\n",
              "  </svg>\n",
              "    </button>\n",
              "\n",
              "  <style>\n",
              "    .colab-df-container {\n",
              "      display:flex;\n",
              "      gap: 12px;\n",
              "    }\n",
              "\n",
              "    .colab-df-convert {\n",
              "      background-color: #E8F0FE;\n",
              "      border: none;\n",
              "      border-radius: 50%;\n",
              "      cursor: pointer;\n",
              "      display: none;\n",
              "      fill: #1967D2;\n",
              "      height: 32px;\n",
              "      padding: 0 0 0 0;\n",
              "      width: 32px;\n",
              "    }\n",
              "\n",
              "    .colab-df-convert:hover {\n",
              "      background-color: #E2EBFA;\n",
              "      box-shadow: 0px 1px 2px rgba(60, 64, 67, 0.3), 0px 1px 3px 1px rgba(60, 64, 67, 0.15);\n",
              "      fill: #174EA6;\n",
              "    }\n",
              "\n",
              "    .colab-df-buttons div {\n",
              "      margin-bottom: 4px;\n",
              "    }\n",
              "\n",
              "    [theme=dark] .colab-df-convert {\n",
              "      background-color: #3B4455;\n",
              "      fill: #D2E3FC;\n",
              "    }\n",
              "\n",
              "    [theme=dark] .colab-df-convert:hover {\n",
              "      background-color: #434B5C;\n",
              "      box-shadow: 0px 1px 3px 1px rgba(0, 0, 0, 0.15);\n",
              "      filter: drop-shadow(0px 1px 2px rgba(0, 0, 0, 0.3));\n",
              "      fill: #FFFFFF;\n",
              "    }\n",
              "  </style>\n",
              "\n",
              "    <script>\n",
              "      const buttonEl =\n",
              "        document.querySelector('#df-85cb980c-a99c-4441-8e3d-3ce37873b339 button.colab-df-convert');\n",
              "      buttonEl.style.display =\n",
              "        google.colab.kernel.accessAllowed ? 'block' : 'none';\n",
              "\n",
              "      async function convertToInteractive(key) {\n",
              "        const element = document.querySelector('#df-85cb980c-a99c-4441-8e3d-3ce37873b339');\n",
              "        const dataTable =\n",
              "          await google.colab.kernel.invokeFunction('convertToInteractive',\n",
              "                                                    [key], {});\n",
              "        if (!dataTable) return;\n",
              "\n",
              "        const docLinkHtml = 'Like what you see? Visit the ' +\n",
              "          '<a target=\"_blank\" href=https://colab.research.google.com/notebooks/data_table.ipynb>data table notebook</a>'\n",
              "          + ' to learn more about interactive tables.';\n",
              "        element.innerHTML = '';\n",
              "        dataTable['output_type'] = 'display_data';\n",
              "        await google.colab.output.renderOutput(dataTable, element);\n",
              "        const docLink = document.createElement('div');\n",
              "        docLink.innerHTML = docLinkHtml;\n",
              "        element.appendChild(docLink);\n",
              "      }\n",
              "    </script>\n",
              "  </div>\n",
              "\n",
              "\n",
              "<div id=\"df-cd2bfb4c-d443-4672-80e1-839e89162c0f\">\n",
              "  <button class=\"colab-df-quickchart\" onclick=\"quickchart('df-cd2bfb4c-d443-4672-80e1-839e89162c0f')\"\n",
              "            title=\"Suggest charts\"\n",
              "            style=\"display:none;\">\n",
              "\n",
              "<svg xmlns=\"http://www.w3.org/2000/svg\" height=\"24px\"viewBox=\"0 0 24 24\"\n",
              "     width=\"24px\">\n",
              "    <g>\n",
              "        <path d=\"M19 3H5c-1.1 0-2 .9-2 2v14c0 1.1.9 2 2 2h14c1.1 0 2-.9 2-2V5c0-1.1-.9-2-2-2zM9 17H7v-7h2v7zm4 0h-2V7h2v10zm4 0h-2v-4h2v4z\"/>\n",
              "    </g>\n",
              "</svg>\n",
              "  </button>\n",
              "\n",
              "<style>\n",
              "  .colab-df-quickchart {\n",
              "      --bg-color: #E8F0FE;\n",
              "      --fill-color: #1967D2;\n",
              "      --hover-bg-color: #E2EBFA;\n",
              "      --hover-fill-color: #174EA6;\n",
              "      --disabled-fill-color: #AAA;\n",
              "      --disabled-bg-color: #DDD;\n",
              "  }\n",
              "\n",
              "  [theme=dark] .colab-df-quickchart {\n",
              "      --bg-color: #3B4455;\n",
              "      --fill-color: #D2E3FC;\n",
              "      --hover-bg-color: #434B5C;\n",
              "      --hover-fill-color: #FFFFFF;\n",
              "      --disabled-bg-color: #3B4455;\n",
              "      --disabled-fill-color: #666;\n",
              "  }\n",
              "\n",
              "  .colab-df-quickchart {\n",
              "    background-color: var(--bg-color);\n",
              "    border: none;\n",
              "    border-radius: 50%;\n",
              "    cursor: pointer;\n",
              "    display: none;\n",
              "    fill: var(--fill-color);\n",
              "    height: 32px;\n",
              "    padding: 0;\n",
              "    width: 32px;\n",
              "  }\n",
              "\n",
              "  .colab-df-quickchart:hover {\n",
              "    background-color: var(--hover-bg-color);\n",
              "    box-shadow: 0 1px 2px rgba(60, 64, 67, 0.3), 0 1px 3px 1px rgba(60, 64, 67, 0.15);\n",
              "    fill: var(--button-hover-fill-color);\n",
              "  }\n",
              "\n",
              "  .colab-df-quickchart-complete:disabled,\n",
              "  .colab-df-quickchart-complete:disabled:hover {\n",
              "    background-color: var(--disabled-bg-color);\n",
              "    fill: var(--disabled-fill-color);\n",
              "    box-shadow: none;\n",
              "  }\n",
              "\n",
              "  .colab-df-spinner {\n",
              "    border: 2px solid var(--fill-color);\n",
              "    border-color: transparent;\n",
              "    border-bottom-color: var(--fill-color);\n",
              "    animation:\n",
              "      spin 1s steps(1) infinite;\n",
              "  }\n",
              "\n",
              "  @keyframes spin {\n",
              "    0% {\n",
              "      border-color: transparent;\n",
              "      border-bottom-color: var(--fill-color);\n",
              "      border-left-color: var(--fill-color);\n",
              "    }\n",
              "    20% {\n",
              "      border-color: transparent;\n",
              "      border-left-color: var(--fill-color);\n",
              "      border-top-color: var(--fill-color);\n",
              "    }\n",
              "    30% {\n",
              "      border-color: transparent;\n",
              "      border-left-color: var(--fill-color);\n",
              "      border-top-color: var(--fill-color);\n",
              "      border-right-color: var(--fill-color);\n",
              "    }\n",
              "    40% {\n",
              "      border-color: transparent;\n",
              "      border-right-color: var(--fill-color);\n",
              "      border-top-color: var(--fill-color);\n",
              "    }\n",
              "    60% {\n",
              "      border-color: transparent;\n",
              "      border-right-color: var(--fill-color);\n",
              "    }\n",
              "    80% {\n",
              "      border-color: transparent;\n",
              "      border-right-color: var(--fill-color);\n",
              "      border-bottom-color: var(--fill-color);\n",
              "    }\n",
              "    90% {\n",
              "      border-color: transparent;\n",
              "      border-bottom-color: var(--fill-color);\n",
              "    }\n",
              "  }\n",
              "</style>\n",
              "\n",
              "  <script>\n",
              "    async function quickchart(key) {\n",
              "      const quickchartButtonEl =\n",
              "        document.querySelector('#' + key + ' button');\n",
              "      quickchartButtonEl.disabled = true;  // To prevent multiple clicks.\n",
              "      quickchartButtonEl.classList.add('colab-df-spinner');\n",
              "      try {\n",
              "        const charts = await google.colab.kernel.invokeFunction(\n",
              "            'suggestCharts', [key], {});\n",
              "      } catch (error) {\n",
              "        console.error('Error during call to suggestCharts:', error);\n",
              "      }\n",
              "      quickchartButtonEl.classList.remove('colab-df-spinner');\n",
              "      quickchartButtonEl.classList.add('colab-df-quickchart-complete');\n",
              "    }\n",
              "    (() => {\n",
              "      let quickchartButtonEl =\n",
              "        document.querySelector('#df-cd2bfb4c-d443-4672-80e1-839e89162c0f button');\n",
              "      quickchartButtonEl.style.display =\n",
              "        google.colab.kernel.accessAllowed ? 'block' : 'none';\n",
              "    })();\n",
              "  </script>\n",
              "</div>\n",
              "\n",
              "    </div>\n",
              "  </div>\n"
            ],
            "application/vnd.google.colaboratory.intrinsic+json": {
              "type": "dataframe",
              "summary": "{\n  \"name\": \"})\",\n  \"rows\": 21,\n  \"fields\": [\n    {\n      \"column\": \"column\",\n      \"properties\": {\n        \"dtype\": \"string\",\n        \"num_unique_values\": 21,\n        \"samples\": [\n          \"veil-type\",\n          \"class\",\n          \"does-bruise-or-bleed\"\n        ],\n        \"semantic_type\": \"\",\n        \"description\": \"\"\n      }\n    },\n    {\n      \"column\": \"null-count\",\n      \"properties\": {\n        \"dtype\": \"number\",\n        \"std\": 1167499,\n        \"min\": 0,\n        \"max\": 3015385,\n        \"num_unique_values\": 18,\n        \"samples\": [\n          3015385,\n          2904397,\n          131351\n        ],\n        \"semantic_type\": \"\",\n        \"description\": \"\"\n      }\n    },\n    {\n      \"column\": \"% null-count\",\n      \"properties\": {\n        \"dtype\": \"number\",\n        \"std\": 36.73676130232111,\n        \"min\": 0.0,\n        \"max\": 94.882685,\n        \"num_unique_values\": 18,\n        \"samples\": [\n          94.882685,\n          91.390315,\n          4.133116\n        ],\n        \"semantic_type\": \"\",\n        \"description\": \"\"\n      }\n    }\n  ]\n}"
            }
          },
          "metadata": {},
          "execution_count": 12
        }
      ]
    },
    {
      "cell_type": "code",
      "source": [
        "train_df.describe().T"
      ],
      "metadata": {
        "execution": {
          "iopub.status.busy": "2024-08-26T10:35:24.617849Z",
          "iopub.execute_input": "2024-08-26T10:35:24.618696Z",
          "iopub.status.idle": "2024-08-26T10:35:25.161852Z",
          "shell.execute_reply.started": "2024-08-26T10:35:24.618623Z",
          "shell.execute_reply": "2024-08-26T10:35:25.160810Z"
        },
        "trusted": true,
        "id": "H7CDCAJWhiLZ",
        "outputId": "7a27ca67-6748-4a1f-8198-a648b44cd4f6",
        "colab": {
          "base_uri": "https://localhost:8080/",
          "height": 143
        }
      },
      "execution_count": null,
      "outputs": [
        {
          "output_type": "execute_result",
          "data": {
            "text/plain": [
              "                  count       mean       std   min   25%   50%    75%     max\n",
              "cap-diameter  3178010.0   6.317996  4.670698  0.03  3.32  5.75   8.24   80.67\n",
              "stem-height   3178014.0   6.352815  2.714383  0.00  4.67  5.88   7.41   88.72\n",
              "stem-width    3178014.0  11.172917  8.138274  0.00  4.97  9.66  15.65  103.91"
            ],
            "text/html": [
              "\n",
              "  <div id=\"df-51a821d0-d4c3-4f1c-bf7f-129848c951eb\" class=\"colab-df-container\">\n",
              "    <div>\n",
              "<style scoped>\n",
              "    .dataframe tbody tr th:only-of-type {\n",
              "        vertical-align: middle;\n",
              "    }\n",
              "\n",
              "    .dataframe tbody tr th {\n",
              "        vertical-align: top;\n",
              "    }\n",
              "\n",
              "    .dataframe thead th {\n",
              "        text-align: right;\n",
              "    }\n",
              "</style>\n",
              "<table border=\"1\" class=\"dataframe\">\n",
              "  <thead>\n",
              "    <tr style=\"text-align: right;\">\n",
              "      <th></th>\n",
              "      <th>count</th>\n",
              "      <th>mean</th>\n",
              "      <th>std</th>\n",
              "      <th>min</th>\n",
              "      <th>25%</th>\n",
              "      <th>50%</th>\n",
              "      <th>75%</th>\n",
              "      <th>max</th>\n",
              "    </tr>\n",
              "  </thead>\n",
              "  <tbody>\n",
              "    <tr>\n",
              "      <th>cap-diameter</th>\n",
              "      <td>3178010.0</td>\n",
              "      <td>6.317996</td>\n",
              "      <td>4.670698</td>\n",
              "      <td>0.03</td>\n",
              "      <td>3.32</td>\n",
              "      <td>5.75</td>\n",
              "      <td>8.24</td>\n",
              "      <td>80.67</td>\n",
              "    </tr>\n",
              "    <tr>\n",
              "      <th>stem-height</th>\n",
              "      <td>3178014.0</td>\n",
              "      <td>6.352815</td>\n",
              "      <td>2.714383</td>\n",
              "      <td>0.00</td>\n",
              "      <td>4.67</td>\n",
              "      <td>5.88</td>\n",
              "      <td>7.41</td>\n",
              "      <td>88.72</td>\n",
              "    </tr>\n",
              "    <tr>\n",
              "      <th>stem-width</th>\n",
              "      <td>3178014.0</td>\n",
              "      <td>11.172917</td>\n",
              "      <td>8.138274</td>\n",
              "      <td>0.00</td>\n",
              "      <td>4.97</td>\n",
              "      <td>9.66</td>\n",
              "      <td>15.65</td>\n",
              "      <td>103.91</td>\n",
              "    </tr>\n",
              "  </tbody>\n",
              "</table>\n",
              "</div>\n",
              "    <div class=\"colab-df-buttons\">\n",
              "\n",
              "  <div class=\"colab-df-container\">\n",
              "    <button class=\"colab-df-convert\" onclick=\"convertToInteractive('df-51a821d0-d4c3-4f1c-bf7f-129848c951eb')\"\n",
              "            title=\"Convert this dataframe to an interactive table.\"\n",
              "            style=\"display:none;\">\n",
              "\n",
              "  <svg xmlns=\"http://www.w3.org/2000/svg\" height=\"24px\" viewBox=\"0 -960 960 960\">\n",
              "    <path d=\"M120-120v-720h720v720H120Zm60-500h600v-160H180v160Zm220 220h160v-160H400v160Zm0 220h160v-160H400v160ZM180-400h160v-160H180v160Zm440 0h160v-160H620v160ZM180-180h160v-160H180v160Zm440 0h160v-160H620v160Z\"/>\n",
              "  </svg>\n",
              "    </button>\n",
              "\n",
              "  <style>\n",
              "    .colab-df-container {\n",
              "      display:flex;\n",
              "      gap: 12px;\n",
              "    }\n",
              "\n",
              "    .colab-df-convert {\n",
              "      background-color: #E8F0FE;\n",
              "      border: none;\n",
              "      border-radius: 50%;\n",
              "      cursor: pointer;\n",
              "      display: none;\n",
              "      fill: #1967D2;\n",
              "      height: 32px;\n",
              "      padding: 0 0 0 0;\n",
              "      width: 32px;\n",
              "    }\n",
              "\n",
              "    .colab-df-convert:hover {\n",
              "      background-color: #E2EBFA;\n",
              "      box-shadow: 0px 1px 2px rgba(60, 64, 67, 0.3), 0px 1px 3px 1px rgba(60, 64, 67, 0.15);\n",
              "      fill: #174EA6;\n",
              "    }\n",
              "\n",
              "    .colab-df-buttons div {\n",
              "      margin-bottom: 4px;\n",
              "    }\n",
              "\n",
              "    [theme=dark] .colab-df-convert {\n",
              "      background-color: #3B4455;\n",
              "      fill: #D2E3FC;\n",
              "    }\n",
              "\n",
              "    [theme=dark] .colab-df-convert:hover {\n",
              "      background-color: #434B5C;\n",
              "      box-shadow: 0px 1px 3px 1px rgba(0, 0, 0, 0.15);\n",
              "      filter: drop-shadow(0px 1px 2px rgba(0, 0, 0, 0.3));\n",
              "      fill: #FFFFFF;\n",
              "    }\n",
              "  </style>\n",
              "\n",
              "    <script>\n",
              "      const buttonEl =\n",
              "        document.querySelector('#df-51a821d0-d4c3-4f1c-bf7f-129848c951eb button.colab-df-convert');\n",
              "      buttonEl.style.display =\n",
              "        google.colab.kernel.accessAllowed ? 'block' : 'none';\n",
              "\n",
              "      async function convertToInteractive(key) {\n",
              "        const element = document.querySelector('#df-51a821d0-d4c3-4f1c-bf7f-129848c951eb');\n",
              "        const dataTable =\n",
              "          await google.colab.kernel.invokeFunction('convertToInteractive',\n",
              "                                                    [key], {});\n",
              "        if (!dataTable) return;\n",
              "\n",
              "        const docLinkHtml = 'Like what you see? Visit the ' +\n",
              "          '<a target=\"_blank\" href=https://colab.research.google.com/notebooks/data_table.ipynb>data table notebook</a>'\n",
              "          + ' to learn more about interactive tables.';\n",
              "        element.innerHTML = '';\n",
              "        dataTable['output_type'] = 'display_data';\n",
              "        await google.colab.output.renderOutput(dataTable, element);\n",
              "        const docLink = document.createElement('div');\n",
              "        docLink.innerHTML = docLinkHtml;\n",
              "        element.appendChild(docLink);\n",
              "      }\n",
              "    </script>\n",
              "  </div>\n",
              "\n",
              "\n",
              "<div id=\"df-79e59805-22fd-4faa-bc61-c735275fe1de\">\n",
              "  <button class=\"colab-df-quickchart\" onclick=\"quickchart('df-79e59805-22fd-4faa-bc61-c735275fe1de')\"\n",
              "            title=\"Suggest charts\"\n",
              "            style=\"display:none;\">\n",
              "\n",
              "<svg xmlns=\"http://www.w3.org/2000/svg\" height=\"24px\"viewBox=\"0 0 24 24\"\n",
              "     width=\"24px\">\n",
              "    <g>\n",
              "        <path d=\"M19 3H5c-1.1 0-2 .9-2 2v14c0 1.1.9 2 2 2h14c1.1 0 2-.9 2-2V5c0-1.1-.9-2-2-2zM9 17H7v-7h2v7zm4 0h-2V7h2v10zm4 0h-2v-4h2v4z\"/>\n",
              "    </g>\n",
              "</svg>\n",
              "  </button>\n",
              "\n",
              "<style>\n",
              "  .colab-df-quickchart {\n",
              "      --bg-color: #E8F0FE;\n",
              "      --fill-color: #1967D2;\n",
              "      --hover-bg-color: #E2EBFA;\n",
              "      --hover-fill-color: #174EA6;\n",
              "      --disabled-fill-color: #AAA;\n",
              "      --disabled-bg-color: #DDD;\n",
              "  }\n",
              "\n",
              "  [theme=dark] .colab-df-quickchart {\n",
              "      --bg-color: #3B4455;\n",
              "      --fill-color: #D2E3FC;\n",
              "      --hover-bg-color: #434B5C;\n",
              "      --hover-fill-color: #FFFFFF;\n",
              "      --disabled-bg-color: #3B4455;\n",
              "      --disabled-fill-color: #666;\n",
              "  }\n",
              "\n",
              "  .colab-df-quickchart {\n",
              "    background-color: var(--bg-color);\n",
              "    border: none;\n",
              "    border-radius: 50%;\n",
              "    cursor: pointer;\n",
              "    display: none;\n",
              "    fill: var(--fill-color);\n",
              "    height: 32px;\n",
              "    padding: 0;\n",
              "    width: 32px;\n",
              "  }\n",
              "\n",
              "  .colab-df-quickchart:hover {\n",
              "    background-color: var(--hover-bg-color);\n",
              "    box-shadow: 0 1px 2px rgba(60, 64, 67, 0.3), 0 1px 3px 1px rgba(60, 64, 67, 0.15);\n",
              "    fill: var(--button-hover-fill-color);\n",
              "  }\n",
              "\n",
              "  .colab-df-quickchart-complete:disabled,\n",
              "  .colab-df-quickchart-complete:disabled:hover {\n",
              "    background-color: var(--disabled-bg-color);\n",
              "    fill: var(--disabled-fill-color);\n",
              "    box-shadow: none;\n",
              "  }\n",
              "\n",
              "  .colab-df-spinner {\n",
              "    border: 2px solid var(--fill-color);\n",
              "    border-color: transparent;\n",
              "    border-bottom-color: var(--fill-color);\n",
              "    animation:\n",
              "      spin 1s steps(1) infinite;\n",
              "  }\n",
              "\n",
              "  @keyframes spin {\n",
              "    0% {\n",
              "      border-color: transparent;\n",
              "      border-bottom-color: var(--fill-color);\n",
              "      border-left-color: var(--fill-color);\n",
              "    }\n",
              "    20% {\n",
              "      border-color: transparent;\n",
              "      border-left-color: var(--fill-color);\n",
              "      border-top-color: var(--fill-color);\n",
              "    }\n",
              "    30% {\n",
              "      border-color: transparent;\n",
              "      border-left-color: var(--fill-color);\n",
              "      border-top-color: var(--fill-color);\n",
              "      border-right-color: var(--fill-color);\n",
              "    }\n",
              "    40% {\n",
              "      border-color: transparent;\n",
              "      border-right-color: var(--fill-color);\n",
              "      border-top-color: var(--fill-color);\n",
              "    }\n",
              "    60% {\n",
              "      border-color: transparent;\n",
              "      border-right-color: var(--fill-color);\n",
              "    }\n",
              "    80% {\n",
              "      border-color: transparent;\n",
              "      border-right-color: var(--fill-color);\n",
              "      border-bottom-color: var(--fill-color);\n",
              "    }\n",
              "    90% {\n",
              "      border-color: transparent;\n",
              "      border-bottom-color: var(--fill-color);\n",
              "    }\n",
              "  }\n",
              "</style>\n",
              "\n",
              "  <script>\n",
              "    async function quickchart(key) {\n",
              "      const quickchartButtonEl =\n",
              "        document.querySelector('#' + key + ' button');\n",
              "      quickchartButtonEl.disabled = true;  // To prevent multiple clicks.\n",
              "      quickchartButtonEl.classList.add('colab-df-spinner');\n",
              "      try {\n",
              "        const charts = await google.colab.kernel.invokeFunction(\n",
              "            'suggestCharts', [key], {});\n",
              "      } catch (error) {\n",
              "        console.error('Error during call to suggestCharts:', error);\n",
              "      }\n",
              "      quickchartButtonEl.classList.remove('colab-df-spinner');\n",
              "      quickchartButtonEl.classList.add('colab-df-quickchart-complete');\n",
              "    }\n",
              "    (() => {\n",
              "      let quickchartButtonEl =\n",
              "        document.querySelector('#df-79e59805-22fd-4faa-bc61-c735275fe1de button');\n",
              "      quickchartButtonEl.style.display =\n",
              "        google.colab.kernel.accessAllowed ? 'block' : 'none';\n",
              "    })();\n",
              "  </script>\n",
              "</div>\n",
              "\n",
              "    </div>\n",
              "  </div>\n"
            ],
            "application/vnd.google.colaboratory.intrinsic+json": {
              "type": "dataframe",
              "summary": "{\n  \"name\": \"train_df\",\n  \"rows\": 3,\n  \"fields\": [\n    {\n      \"column\": \"count\",\n      \"properties\": {\n        \"dtype\": \"number\",\n        \"std\": 2.3094010767585034,\n        \"min\": 3178010.0,\n        \"max\": 3178014.0,\n        \"num_unique_values\": 2,\n        \"samples\": [\n          3178014.0,\n          3178010.0\n        ],\n        \"semantic_type\": \"\",\n        \"description\": \"\"\n      }\n    },\n    {\n      \"column\": \"mean\",\n      \"properties\": {\n        \"dtype\": \"number\",\n        \"std\": 2.792993077763978,\n        \"min\": 6.317996107627096,\n        \"max\": 11.172917309363632,\n        \"num_unique_values\": 3,\n        \"samples\": [\n          6.317996107627096,\n          6.352814635177816\n        ],\n        \"semantic_type\": \"\",\n        \"description\": \"\"\n      }\n    },\n    {\n      \"column\": \"std\",\n      \"properties\": {\n        \"dtype\": \"number\",\n        \"std\": 2.7468113828565066,\n        \"min\": 2.714382977226942,\n        \"max\": 8.13827351784604,\n        \"num_unique_values\": 3,\n        \"samples\": [\n          4.670698131998983,\n          2.714382977226942\n        ],\n        \"semantic_type\": \"\",\n        \"description\": \"\"\n      }\n    },\n    {\n      \"column\": \"min\",\n      \"properties\": {\n        \"dtype\": \"number\",\n        \"std\": 0.017320508075688773,\n        \"min\": 0.0,\n        \"max\": 0.03,\n        \"num_unique_values\": 2,\n        \"samples\": [\n          0.0,\n          0.03\n        ],\n        \"semantic_type\": \"\",\n        \"description\": \"\"\n      }\n    },\n    {\n      \"column\": \"25%\",\n      \"properties\": {\n        \"dtype\": \"number\",\n        \"std\": 0.8789197915623472,\n        \"min\": 3.32,\n        \"max\": 4.97,\n        \"num_unique_values\": 3,\n        \"samples\": [\n          3.32,\n          4.67\n        ],\n        \"semantic_type\": \"\",\n        \"description\": \"\"\n      }\n    },\n    {\n      \"column\": \"50%\",\n      \"properties\": {\n        \"dtype\": \"number\",\n        \"std\": 2.2208631955465723,\n        \"min\": 5.75,\n        \"max\": 9.66,\n        \"num_unique_values\": 3,\n        \"samples\": [\n          5.75,\n          5.88\n        ],\n        \"semantic_type\": \"\",\n        \"description\": \"\"\n      }\n    },\n    {\n      \"column\": \"75%\",\n      \"properties\": {\n        \"dtype\": \"number\",\n        \"std\": 4.536786674876099,\n        \"min\": 7.41,\n        \"max\": 15.65,\n        \"num_unique_values\": 3,\n        \"samples\": [\n          8.24,\n          7.41\n        ],\n        \"semantic_type\": \"\",\n        \"description\": \"\"\n      }\n    },\n    {\n      \"column\": \"max\",\n      \"properties\": {\n        \"dtype\": \"number\",\n        \"std\": 11.801385511879525,\n        \"min\": 80.67,\n        \"max\": 103.91,\n        \"num_unique_values\": 3,\n        \"samples\": [\n          80.67,\n          88.72\n        ],\n        \"semantic_type\": \"\",\n        \"description\": \"\"\n      }\n    }\n  ]\n}"
            }
          },
          "metadata": {},
          "execution_count": 13
        }
      ]
    },
    {
      "cell_type": "code",
      "source": [
        "train_df.describe(include='O').T"
      ],
      "metadata": {
        "execution": {
          "iopub.status.busy": "2024-08-26T10:35:25.163123Z",
          "iopub.execute_input": "2024-08-26T10:35:25.163448Z",
          "iopub.status.idle": "2024-08-26T10:35:32.745794Z",
          "shell.execute_reply.started": "2024-08-26T10:35:25.163415Z",
          "shell.execute_reply": "2024-08-26T10:35:32.744740Z"
        },
        "trusted": true,
        "id": "thRWqreDhiLc",
        "outputId": "1da93397-968b-4b81-c0d6-d1c89e1c17ab",
        "colab": {
          "base_uri": "https://localhost:8080/",
          "height": 613
        }
      },
      "execution_count": null,
      "outputs": [
        {
          "output_type": "execute_result",
          "data": {
            "text/plain": [
              "                        count unique top     freq\n",
              "class                 3178014      2   p  1739284\n",
              "cap-shape             3177974     74   x  1462960\n",
              "cap-surface           2492871     83   t   468973\n",
              "cap-color             3178002     78   n  1383760\n",
              "does-bruise-or-bleed  3178006     26   f  2620222\n",
              "gill-attachment       2644194     78   a   658732\n",
              "gill-spacing          1894516     48   c  1355764\n",
              "gill-color            3177957     63   w   950059\n",
              "stem-root              369453     38   b   168978\n",
              "stem-surface          1159029     60   s   333635\n",
              "stem-color            3177976     59   w  1219563\n",
              "veil-type              162629     22   u   162550\n",
              "veil-color             383411     24   w   284544\n",
              "has-ring              3177990     23   f  2414710\n",
              "ring-type             3046663     40   f  2525531\n",
              "spore-print-color      273617     32   k   109428\n",
              "habitat               3177969     52   d  2221782\n",
              "season                3178014      4   a  1573498"
            ],
            "text/html": [
              "\n",
              "  <div id=\"df-1c699016-1822-467b-8748-ad53b81e6d09\" class=\"colab-df-container\">\n",
              "    <div>\n",
              "<style scoped>\n",
              "    .dataframe tbody tr th:only-of-type {\n",
              "        vertical-align: middle;\n",
              "    }\n",
              "\n",
              "    .dataframe tbody tr th {\n",
              "        vertical-align: top;\n",
              "    }\n",
              "\n",
              "    .dataframe thead th {\n",
              "        text-align: right;\n",
              "    }\n",
              "</style>\n",
              "<table border=\"1\" class=\"dataframe\">\n",
              "  <thead>\n",
              "    <tr style=\"text-align: right;\">\n",
              "      <th></th>\n",
              "      <th>count</th>\n",
              "      <th>unique</th>\n",
              "      <th>top</th>\n",
              "      <th>freq</th>\n",
              "    </tr>\n",
              "  </thead>\n",
              "  <tbody>\n",
              "    <tr>\n",
              "      <th>class</th>\n",
              "      <td>3178014</td>\n",
              "      <td>2</td>\n",
              "      <td>p</td>\n",
              "      <td>1739284</td>\n",
              "    </tr>\n",
              "    <tr>\n",
              "      <th>cap-shape</th>\n",
              "      <td>3177974</td>\n",
              "      <td>74</td>\n",
              "      <td>x</td>\n",
              "      <td>1462960</td>\n",
              "    </tr>\n",
              "    <tr>\n",
              "      <th>cap-surface</th>\n",
              "      <td>2492871</td>\n",
              "      <td>83</td>\n",
              "      <td>t</td>\n",
              "      <td>468973</td>\n",
              "    </tr>\n",
              "    <tr>\n",
              "      <th>cap-color</th>\n",
              "      <td>3178002</td>\n",
              "      <td>78</td>\n",
              "      <td>n</td>\n",
              "      <td>1383760</td>\n",
              "    </tr>\n",
              "    <tr>\n",
              "      <th>does-bruise-or-bleed</th>\n",
              "      <td>3178006</td>\n",
              "      <td>26</td>\n",
              "      <td>f</td>\n",
              "      <td>2620222</td>\n",
              "    </tr>\n",
              "    <tr>\n",
              "      <th>gill-attachment</th>\n",
              "      <td>2644194</td>\n",
              "      <td>78</td>\n",
              "      <td>a</td>\n",
              "      <td>658732</td>\n",
              "    </tr>\n",
              "    <tr>\n",
              "      <th>gill-spacing</th>\n",
              "      <td>1894516</td>\n",
              "      <td>48</td>\n",
              "      <td>c</td>\n",
              "      <td>1355764</td>\n",
              "    </tr>\n",
              "    <tr>\n",
              "      <th>gill-color</th>\n",
              "      <td>3177957</td>\n",
              "      <td>63</td>\n",
              "      <td>w</td>\n",
              "      <td>950059</td>\n",
              "    </tr>\n",
              "    <tr>\n",
              "      <th>stem-root</th>\n",
              "      <td>369453</td>\n",
              "      <td>38</td>\n",
              "      <td>b</td>\n",
              "      <td>168978</td>\n",
              "    </tr>\n",
              "    <tr>\n",
              "      <th>stem-surface</th>\n",
              "      <td>1159029</td>\n",
              "      <td>60</td>\n",
              "      <td>s</td>\n",
              "      <td>333635</td>\n",
              "    </tr>\n",
              "    <tr>\n",
              "      <th>stem-color</th>\n",
              "      <td>3177976</td>\n",
              "      <td>59</td>\n",
              "      <td>w</td>\n",
              "      <td>1219563</td>\n",
              "    </tr>\n",
              "    <tr>\n",
              "      <th>veil-type</th>\n",
              "      <td>162629</td>\n",
              "      <td>22</td>\n",
              "      <td>u</td>\n",
              "      <td>162550</td>\n",
              "    </tr>\n",
              "    <tr>\n",
              "      <th>veil-color</th>\n",
              "      <td>383411</td>\n",
              "      <td>24</td>\n",
              "      <td>w</td>\n",
              "      <td>284544</td>\n",
              "    </tr>\n",
              "    <tr>\n",
              "      <th>has-ring</th>\n",
              "      <td>3177990</td>\n",
              "      <td>23</td>\n",
              "      <td>f</td>\n",
              "      <td>2414710</td>\n",
              "    </tr>\n",
              "    <tr>\n",
              "      <th>ring-type</th>\n",
              "      <td>3046663</td>\n",
              "      <td>40</td>\n",
              "      <td>f</td>\n",
              "      <td>2525531</td>\n",
              "    </tr>\n",
              "    <tr>\n",
              "      <th>spore-print-color</th>\n",
              "      <td>273617</td>\n",
              "      <td>32</td>\n",
              "      <td>k</td>\n",
              "      <td>109428</td>\n",
              "    </tr>\n",
              "    <tr>\n",
              "      <th>habitat</th>\n",
              "      <td>3177969</td>\n",
              "      <td>52</td>\n",
              "      <td>d</td>\n",
              "      <td>2221782</td>\n",
              "    </tr>\n",
              "    <tr>\n",
              "      <th>season</th>\n",
              "      <td>3178014</td>\n",
              "      <td>4</td>\n",
              "      <td>a</td>\n",
              "      <td>1573498</td>\n",
              "    </tr>\n",
              "  </tbody>\n",
              "</table>\n",
              "</div>\n",
              "    <div class=\"colab-df-buttons\">\n",
              "\n",
              "  <div class=\"colab-df-container\">\n",
              "    <button class=\"colab-df-convert\" onclick=\"convertToInteractive('df-1c699016-1822-467b-8748-ad53b81e6d09')\"\n",
              "            title=\"Convert this dataframe to an interactive table.\"\n",
              "            style=\"display:none;\">\n",
              "\n",
              "  <svg xmlns=\"http://www.w3.org/2000/svg\" height=\"24px\" viewBox=\"0 -960 960 960\">\n",
              "    <path d=\"M120-120v-720h720v720H120Zm60-500h600v-160H180v160Zm220 220h160v-160H400v160Zm0 220h160v-160H400v160ZM180-400h160v-160H180v160Zm440 0h160v-160H620v160ZM180-180h160v-160H180v160Zm440 0h160v-160H620v160Z\"/>\n",
              "  </svg>\n",
              "    </button>\n",
              "\n",
              "  <style>\n",
              "    .colab-df-container {\n",
              "      display:flex;\n",
              "      gap: 12px;\n",
              "    }\n",
              "\n",
              "    .colab-df-convert {\n",
              "      background-color: #E8F0FE;\n",
              "      border: none;\n",
              "      border-radius: 50%;\n",
              "      cursor: pointer;\n",
              "      display: none;\n",
              "      fill: #1967D2;\n",
              "      height: 32px;\n",
              "      padding: 0 0 0 0;\n",
              "      width: 32px;\n",
              "    }\n",
              "\n",
              "    .colab-df-convert:hover {\n",
              "      background-color: #E2EBFA;\n",
              "      box-shadow: 0px 1px 2px rgba(60, 64, 67, 0.3), 0px 1px 3px 1px rgba(60, 64, 67, 0.15);\n",
              "      fill: #174EA6;\n",
              "    }\n",
              "\n",
              "    .colab-df-buttons div {\n",
              "      margin-bottom: 4px;\n",
              "    }\n",
              "\n",
              "    [theme=dark] .colab-df-convert {\n",
              "      background-color: #3B4455;\n",
              "      fill: #D2E3FC;\n",
              "    }\n",
              "\n",
              "    [theme=dark] .colab-df-convert:hover {\n",
              "      background-color: #434B5C;\n",
              "      box-shadow: 0px 1px 3px 1px rgba(0, 0, 0, 0.15);\n",
              "      filter: drop-shadow(0px 1px 2px rgba(0, 0, 0, 0.3));\n",
              "      fill: #FFFFFF;\n",
              "    }\n",
              "  </style>\n",
              "\n",
              "    <script>\n",
              "      const buttonEl =\n",
              "        document.querySelector('#df-1c699016-1822-467b-8748-ad53b81e6d09 button.colab-df-convert');\n",
              "      buttonEl.style.display =\n",
              "        google.colab.kernel.accessAllowed ? 'block' : 'none';\n",
              "\n",
              "      async function convertToInteractive(key) {\n",
              "        const element = document.querySelector('#df-1c699016-1822-467b-8748-ad53b81e6d09');\n",
              "        const dataTable =\n",
              "          await google.colab.kernel.invokeFunction('convertToInteractive',\n",
              "                                                    [key], {});\n",
              "        if (!dataTable) return;\n",
              "\n",
              "        const docLinkHtml = 'Like what you see? Visit the ' +\n",
              "          '<a target=\"_blank\" href=https://colab.research.google.com/notebooks/data_table.ipynb>data table notebook</a>'\n",
              "          + ' to learn more about interactive tables.';\n",
              "        element.innerHTML = '';\n",
              "        dataTable['output_type'] = 'display_data';\n",
              "        await google.colab.output.renderOutput(dataTable, element);\n",
              "        const docLink = document.createElement('div');\n",
              "        docLink.innerHTML = docLinkHtml;\n",
              "        element.appendChild(docLink);\n",
              "      }\n",
              "    </script>\n",
              "  </div>\n",
              "\n",
              "\n",
              "<div id=\"df-89915a42-8f60-409d-a4b0-c1ce9651fa2f\">\n",
              "  <button class=\"colab-df-quickchart\" onclick=\"quickchart('df-89915a42-8f60-409d-a4b0-c1ce9651fa2f')\"\n",
              "            title=\"Suggest charts\"\n",
              "            style=\"display:none;\">\n",
              "\n",
              "<svg xmlns=\"http://www.w3.org/2000/svg\" height=\"24px\"viewBox=\"0 0 24 24\"\n",
              "     width=\"24px\">\n",
              "    <g>\n",
              "        <path d=\"M19 3H5c-1.1 0-2 .9-2 2v14c0 1.1.9 2 2 2h14c1.1 0 2-.9 2-2V5c0-1.1-.9-2-2-2zM9 17H7v-7h2v7zm4 0h-2V7h2v10zm4 0h-2v-4h2v4z\"/>\n",
              "    </g>\n",
              "</svg>\n",
              "  </button>\n",
              "\n",
              "<style>\n",
              "  .colab-df-quickchart {\n",
              "      --bg-color: #E8F0FE;\n",
              "      --fill-color: #1967D2;\n",
              "      --hover-bg-color: #E2EBFA;\n",
              "      --hover-fill-color: #174EA6;\n",
              "      --disabled-fill-color: #AAA;\n",
              "      --disabled-bg-color: #DDD;\n",
              "  }\n",
              "\n",
              "  [theme=dark] .colab-df-quickchart {\n",
              "      --bg-color: #3B4455;\n",
              "      --fill-color: #D2E3FC;\n",
              "      --hover-bg-color: #434B5C;\n",
              "      --hover-fill-color: #FFFFFF;\n",
              "      --disabled-bg-color: #3B4455;\n",
              "      --disabled-fill-color: #666;\n",
              "  }\n",
              "\n",
              "  .colab-df-quickchart {\n",
              "    background-color: var(--bg-color);\n",
              "    border: none;\n",
              "    border-radius: 50%;\n",
              "    cursor: pointer;\n",
              "    display: none;\n",
              "    fill: var(--fill-color);\n",
              "    height: 32px;\n",
              "    padding: 0;\n",
              "    width: 32px;\n",
              "  }\n",
              "\n",
              "  .colab-df-quickchart:hover {\n",
              "    background-color: var(--hover-bg-color);\n",
              "    box-shadow: 0 1px 2px rgba(60, 64, 67, 0.3), 0 1px 3px 1px rgba(60, 64, 67, 0.15);\n",
              "    fill: var(--button-hover-fill-color);\n",
              "  }\n",
              "\n",
              "  .colab-df-quickchart-complete:disabled,\n",
              "  .colab-df-quickchart-complete:disabled:hover {\n",
              "    background-color: var(--disabled-bg-color);\n",
              "    fill: var(--disabled-fill-color);\n",
              "    box-shadow: none;\n",
              "  }\n",
              "\n",
              "  .colab-df-spinner {\n",
              "    border: 2px solid var(--fill-color);\n",
              "    border-color: transparent;\n",
              "    border-bottom-color: var(--fill-color);\n",
              "    animation:\n",
              "      spin 1s steps(1) infinite;\n",
              "  }\n",
              "\n",
              "  @keyframes spin {\n",
              "    0% {\n",
              "      border-color: transparent;\n",
              "      border-bottom-color: var(--fill-color);\n",
              "      border-left-color: var(--fill-color);\n",
              "    }\n",
              "    20% {\n",
              "      border-color: transparent;\n",
              "      border-left-color: var(--fill-color);\n",
              "      border-top-color: var(--fill-color);\n",
              "    }\n",
              "    30% {\n",
              "      border-color: transparent;\n",
              "      border-left-color: var(--fill-color);\n",
              "      border-top-color: var(--fill-color);\n",
              "      border-right-color: var(--fill-color);\n",
              "    }\n",
              "    40% {\n",
              "      border-color: transparent;\n",
              "      border-right-color: var(--fill-color);\n",
              "      border-top-color: var(--fill-color);\n",
              "    }\n",
              "    60% {\n",
              "      border-color: transparent;\n",
              "      border-right-color: var(--fill-color);\n",
              "    }\n",
              "    80% {\n",
              "      border-color: transparent;\n",
              "      border-right-color: var(--fill-color);\n",
              "      border-bottom-color: var(--fill-color);\n",
              "    }\n",
              "    90% {\n",
              "      border-color: transparent;\n",
              "      border-bottom-color: var(--fill-color);\n",
              "    }\n",
              "  }\n",
              "</style>\n",
              "\n",
              "  <script>\n",
              "    async function quickchart(key) {\n",
              "      const quickchartButtonEl =\n",
              "        document.querySelector('#' + key + ' button');\n",
              "      quickchartButtonEl.disabled = true;  // To prevent multiple clicks.\n",
              "      quickchartButtonEl.classList.add('colab-df-spinner');\n",
              "      try {\n",
              "        const charts = await google.colab.kernel.invokeFunction(\n",
              "            'suggestCharts', [key], {});\n",
              "      } catch (error) {\n",
              "        console.error('Error during call to suggestCharts:', error);\n",
              "      }\n",
              "      quickchartButtonEl.classList.remove('colab-df-spinner');\n",
              "      quickchartButtonEl.classList.add('colab-df-quickchart-complete');\n",
              "    }\n",
              "    (() => {\n",
              "      let quickchartButtonEl =\n",
              "        document.querySelector('#df-89915a42-8f60-409d-a4b0-c1ce9651fa2f button');\n",
              "      quickchartButtonEl.style.display =\n",
              "        google.colab.kernel.accessAllowed ? 'block' : 'none';\n",
              "    })();\n",
              "  </script>\n",
              "</div>\n",
              "\n",
              "    </div>\n",
              "  </div>\n"
            ],
            "application/vnd.google.colaboratory.intrinsic+json": {
              "type": "dataframe",
              "summary": "{\n  \"name\": \"train_df\",\n  \"rows\": 18,\n  \"fields\": [\n    {\n      \"column\": \"count\",\n      \"properties\": {\n        \"dtype\": \"date\",\n        \"min\": \"162629\",\n        \"max\": \"3178014\",\n        \"num_unique_values\": 17,\n        \"samples\": [\n          \"3178014\",\n          \"3177974\",\n          \"2644194\"\n        ],\n        \"semantic_type\": \"\",\n        \"description\": \"\"\n      }\n    },\n    {\n      \"column\": \"unique\",\n      \"properties\": {\n        \"dtype\": \"date\",\n        \"min\": 2,\n        \"max\": 83,\n        \"num_unique_values\": 17,\n        \"samples\": [\n          2,\n          74,\n          48\n        ],\n        \"semantic_type\": \"\",\n        \"description\": \"\"\n      }\n    },\n    {\n      \"column\": \"top\",\n      \"properties\": {\n        \"dtype\": \"string\",\n        \"num_unique_values\": 13,\n        \"samples\": [\n          \"k\",\n          \"s\",\n          \"p\"\n        ],\n        \"semantic_type\": \"\",\n        \"description\": \"\"\n      }\n    },\n    {\n      \"column\": \"freq\",\n      \"properties\": {\n        \"dtype\": \"date\",\n        \"min\": \"109428\",\n        \"max\": \"2620222\",\n        \"num_unique_values\": 18,\n        \"samples\": [\n          \"1739284\",\n          \"1462960\",\n          \"168978\"\n        ],\n        \"semantic_type\": \"\",\n        \"description\": \"\"\n      }\n    }\n  ]\n}"
            }
          },
          "metadata": {},
          "execution_count": 14
        }
      ]
    },
    {
      "cell_type": "code",
      "source": [
        "train_df.duplicated().sum()"
      ],
      "metadata": {
        "execution": {
          "iopub.status.busy": "2024-08-26T10:35:32.748724Z",
          "iopub.execute_input": "2024-08-26T10:35:32.749098Z",
          "iopub.status.idle": "2024-08-26T10:35:37.379324Z",
          "shell.execute_reply.started": "2024-08-26T10:35:32.749060Z",
          "shell.execute_reply": "2024-08-26T10:35:37.378190Z"
        },
        "trusted": true,
        "id": "deihOQs7hiLe",
        "outputId": "749b000a-6240-4417-db46-678e2e58bf90",
        "colab": {
          "base_uri": "https://localhost:8080/"
        }
      },
      "execution_count": null,
      "outputs": [
        {
          "output_type": "execute_result",
          "data": {
            "text/plain": [
              "146"
            ]
          },
          "metadata": {},
          "execution_count": 15
        }
      ]
    },
    {
      "cell_type": "code",
      "source": [
        "train_df.drop_duplicates(inplace=True)"
      ],
      "metadata": {
        "execution": {
          "iopub.status.busy": "2024-08-26T10:35:37.380846Z",
          "iopub.execute_input": "2024-08-26T10:35:37.381310Z",
          "iopub.status.idle": "2024-08-26T10:35:42.842033Z",
          "shell.execute_reply.started": "2024-08-26T10:35:37.381261Z",
          "shell.execute_reply": "2024-08-26T10:35:42.841092Z"
        },
        "trusted": true,
        "id": "45i37ZrChiLg"
      },
      "execution_count": null,
      "outputs": []
    },
    {
      "cell_type": "code",
      "source": [
        "target = 'class'"
      ],
      "metadata": {
        "execution": {
          "iopub.status.busy": "2024-08-26T10:35:42.843185Z",
          "iopub.execute_input": "2024-08-26T10:35:42.843492Z",
          "iopub.status.idle": "2024-08-26T10:35:42.847744Z",
          "shell.execute_reply.started": "2024-08-26T10:35:42.843461Z",
          "shell.execute_reply": "2024-08-26T10:35:42.846674Z"
        },
        "trusted": true,
        "id": "4kAQVIKKhiLi"
      },
      "execution_count": null,
      "outputs": []
    },
    {
      "cell_type": "code",
      "source": [
        "features = train_df.drop(target, axis=1).columns.to_list()\n",
        "features"
      ],
      "metadata": {
        "execution": {
          "iopub.status.busy": "2024-08-26T10:35:42.848939Z",
          "iopub.execute_input": "2024-08-26T10:35:42.849259Z",
          "iopub.status.idle": "2024-08-26T10:35:43.710082Z",
          "shell.execute_reply.started": "2024-08-26T10:35:42.849226Z",
          "shell.execute_reply": "2024-08-26T10:35:43.709004Z"
        },
        "trusted": true,
        "id": "yoReWD6XhiLj",
        "outputId": "9c567a4b-5258-4111-88aa-5135b60dfeb3",
        "colab": {
          "base_uri": "https://localhost:8080/"
        }
      },
      "execution_count": null,
      "outputs": [
        {
          "output_type": "execute_result",
          "data": {
            "text/plain": [
              "['cap-diameter',\n",
              " 'cap-shape',\n",
              " 'cap-surface',\n",
              " 'cap-color',\n",
              " 'does-bruise-or-bleed',\n",
              " 'gill-attachment',\n",
              " 'gill-spacing',\n",
              " 'gill-color',\n",
              " 'stem-height',\n",
              " 'stem-width',\n",
              " 'stem-root',\n",
              " 'stem-surface',\n",
              " 'stem-color',\n",
              " 'veil-type',\n",
              " 'veil-color',\n",
              " 'has-ring',\n",
              " 'ring-type',\n",
              " 'spore-print-color',\n",
              " 'habitat',\n",
              " 'season']"
            ]
          },
          "metadata": {},
          "execution_count": 18
        }
      ]
    },
    {
      "cell_type": "code",
      "source": [
        "features_with_high_null_values = [feature for feature in features if (train_df[feature].isna().sum()/len(train_df)*100)>20]\n",
        "features_with_high_null_values"
      ],
      "metadata": {
        "execution": {
          "iopub.status.busy": "2024-08-26T10:35:43.711389Z",
          "iopub.execute_input": "2024-08-26T10:35:43.711758Z",
          "iopub.status.idle": "2024-08-26T10:35:45.874814Z",
          "shell.execute_reply.started": "2024-08-26T10:35:43.711709Z",
          "shell.execute_reply": "2024-08-26T10:35:45.873598Z"
        },
        "trusted": true,
        "id": "S50LSx_ahiLl",
        "outputId": "c0cdcdcf-e2e2-42a1-90f7-f2f5da3e6489",
        "colab": {
          "base_uri": "https://localhost:8080/"
        }
      },
      "execution_count": null,
      "outputs": [
        {
          "output_type": "execute_result",
          "data": {
            "text/plain": [
              "['cap-surface',\n",
              " 'gill-spacing',\n",
              " 'stem-root',\n",
              " 'stem-surface',\n",
              " 'veil-type',\n",
              " 'veil-color',\n",
              " 'spore-print-color']"
            ]
          },
          "metadata": {},
          "execution_count": 19
        }
      ]
    },
    {
      "cell_type": "code",
      "source": [
        "categorical_features = train_df[features].select_dtypes(include='object').columns.to_list()\n",
        "categorical_features"
      ],
      "metadata": {
        "execution": {
          "iopub.status.busy": "2024-08-26T10:35:45.876341Z",
          "iopub.execute_input": "2024-08-26T10:35:45.876854Z",
          "iopub.status.idle": "2024-08-26T10:35:49.389702Z",
          "shell.execute_reply.started": "2024-08-26T10:35:45.876802Z",
          "shell.execute_reply": "2024-08-26T10:35:49.388596Z"
        },
        "trusted": true,
        "id": "VQLGuw63hiLm",
        "outputId": "17b665f3-4ccc-4fb6-f75e-3c19e6aecdae",
        "colab": {
          "base_uri": "https://localhost:8080/"
        }
      },
      "execution_count": null,
      "outputs": [
        {
          "output_type": "execute_result",
          "data": {
            "text/plain": [
              "['cap-shape',\n",
              " 'cap-surface',\n",
              " 'cap-color',\n",
              " 'does-bruise-or-bleed',\n",
              " 'gill-attachment',\n",
              " 'gill-spacing',\n",
              " 'gill-color',\n",
              " 'stem-root',\n",
              " 'stem-surface',\n",
              " 'stem-color',\n",
              " 'veil-type',\n",
              " 'veil-color',\n",
              " 'has-ring',\n",
              " 'ring-type',\n",
              " 'spore-print-color',\n",
              " 'habitat',\n",
              " 'season']"
            ]
          },
          "metadata": {},
          "execution_count": 20
        }
      ]
    },
    {
      "cell_type": "code",
      "source": [
        "numerical_features = list(set(features) - set(categorical_features))\n",
        "numerical_features"
      ],
      "metadata": {
        "execution": {
          "iopub.status.busy": "2024-08-26T10:35:49.390845Z",
          "iopub.execute_input": "2024-08-26T10:35:49.391179Z",
          "iopub.status.idle": "2024-08-26T10:35:49.399626Z",
          "shell.execute_reply.started": "2024-08-26T10:35:49.391143Z",
          "shell.execute_reply": "2024-08-26T10:35:49.398642Z"
        },
        "trusted": true,
        "id": "CaDPgf-whiLp",
        "outputId": "689b2804-0cee-45b1-d98e-e525d2430e46",
        "colab": {
          "base_uri": "https://localhost:8080/"
        }
      },
      "execution_count": null,
      "outputs": [
        {
          "output_type": "execute_result",
          "data": {
            "text/plain": [
              "['stem-width', 'cap-diameter', 'stem-height']"
            ]
          },
          "metadata": {},
          "execution_count": 21
        }
      ]
    },
    {
      "cell_type": "code",
      "source": [
        "pd.concat([train_df, test_df])[categorical_features].describe(include='O').T"
      ],
      "metadata": {
        "execution": {
          "iopub.status.busy": "2024-08-26T10:35:49.400958Z",
          "iopub.execute_input": "2024-08-26T10:35:49.403008Z",
          "iopub.status.idle": "2024-08-26T10:36:04.437542Z",
          "shell.execute_reply.started": "2024-08-26T10:35:49.402968Z",
          "shell.execute_reply": "2024-08-26T10:36:04.436307Z"
        },
        "trusted": true,
        "id": "u01UWy9mhiLr",
        "outputId": "d2472380-d2a5-426d-b3ae-b3de6c9a4666",
        "colab": {
          "base_uri": "https://localhost:8080/",
          "height": 582
        }
      },
      "execution_count": null,
      "outputs": [
        {
          "output_type": "execute_result",
          "data": {
            "text/plain": [
              "                        count unique top     freq\n",
              "cap-shape             5255761    108   x  2420907\n",
              "cap-surface           4123785    114   t   775813\n",
              "cap-color             5255807    109   n  2288054\n",
              "does-bruise-or-bleed  5255814     29   f  4333738\n",
              "gill-attachment       4372220    117   a  1089691\n",
              "gill-spacing          3132740     66   c  2242712\n",
              "gill-color            5255726     86   w  1570803\n",
              "stem-root              609261     45   b   279559\n",
              "stem-surface          1915361     87   s   552131\n",
              "stem-color            5255773     88   w  2016928\n",
              "veil-type              269048     24   u   268923\n",
              "veil-color             635251     27   w   470976\n",
              "has-ring              5255789     26   f  3992668\n",
              "ring-type             5038286     47   f  4175585\n",
              "spore-print-color      451936     43   k   181001\n",
              "habitat               5255762     65   d  3672056\n",
              "season                5255832      4   a  2602547"
            ],
            "text/html": [
              "\n",
              "  <div id=\"df-c960a905-3317-4be9-98be-2b7af787e5f3\" class=\"colab-df-container\">\n",
              "    <div>\n",
              "<style scoped>\n",
              "    .dataframe tbody tr th:only-of-type {\n",
              "        vertical-align: middle;\n",
              "    }\n",
              "\n",
              "    .dataframe tbody tr th {\n",
              "        vertical-align: top;\n",
              "    }\n",
              "\n",
              "    .dataframe thead th {\n",
              "        text-align: right;\n",
              "    }\n",
              "</style>\n",
              "<table border=\"1\" class=\"dataframe\">\n",
              "  <thead>\n",
              "    <tr style=\"text-align: right;\">\n",
              "      <th></th>\n",
              "      <th>count</th>\n",
              "      <th>unique</th>\n",
              "      <th>top</th>\n",
              "      <th>freq</th>\n",
              "    </tr>\n",
              "  </thead>\n",
              "  <tbody>\n",
              "    <tr>\n",
              "      <th>cap-shape</th>\n",
              "      <td>5255761</td>\n",
              "      <td>108</td>\n",
              "      <td>x</td>\n",
              "      <td>2420907</td>\n",
              "    </tr>\n",
              "    <tr>\n",
              "      <th>cap-surface</th>\n",
              "      <td>4123785</td>\n",
              "      <td>114</td>\n",
              "      <td>t</td>\n",
              "      <td>775813</td>\n",
              "    </tr>\n",
              "    <tr>\n",
              "      <th>cap-color</th>\n",
              "      <td>5255807</td>\n",
              "      <td>109</td>\n",
              "      <td>n</td>\n",
              "      <td>2288054</td>\n",
              "    </tr>\n",
              "    <tr>\n",
              "      <th>does-bruise-or-bleed</th>\n",
              "      <td>5255814</td>\n",
              "      <td>29</td>\n",
              "      <td>f</td>\n",
              "      <td>4333738</td>\n",
              "    </tr>\n",
              "    <tr>\n",
              "      <th>gill-attachment</th>\n",
              "      <td>4372220</td>\n",
              "      <td>117</td>\n",
              "      <td>a</td>\n",
              "      <td>1089691</td>\n",
              "    </tr>\n",
              "    <tr>\n",
              "      <th>gill-spacing</th>\n",
              "      <td>3132740</td>\n",
              "      <td>66</td>\n",
              "      <td>c</td>\n",
              "      <td>2242712</td>\n",
              "    </tr>\n",
              "    <tr>\n",
              "      <th>gill-color</th>\n",
              "      <td>5255726</td>\n",
              "      <td>86</td>\n",
              "      <td>w</td>\n",
              "      <td>1570803</td>\n",
              "    </tr>\n",
              "    <tr>\n",
              "      <th>stem-root</th>\n",
              "      <td>609261</td>\n",
              "      <td>45</td>\n",
              "      <td>b</td>\n",
              "      <td>279559</td>\n",
              "    </tr>\n",
              "    <tr>\n",
              "      <th>stem-surface</th>\n",
              "      <td>1915361</td>\n",
              "      <td>87</td>\n",
              "      <td>s</td>\n",
              "      <td>552131</td>\n",
              "    </tr>\n",
              "    <tr>\n",
              "      <th>stem-color</th>\n",
              "      <td>5255773</td>\n",
              "      <td>88</td>\n",
              "      <td>w</td>\n",
              "      <td>2016928</td>\n",
              "    </tr>\n",
              "    <tr>\n",
              "      <th>veil-type</th>\n",
              "      <td>269048</td>\n",
              "      <td>24</td>\n",
              "      <td>u</td>\n",
              "      <td>268923</td>\n",
              "    </tr>\n",
              "    <tr>\n",
              "      <th>veil-color</th>\n",
              "      <td>635251</td>\n",
              "      <td>27</td>\n",
              "      <td>w</td>\n",
              "      <td>470976</td>\n",
              "    </tr>\n",
              "    <tr>\n",
              "      <th>has-ring</th>\n",
              "      <td>5255789</td>\n",
              "      <td>26</td>\n",
              "      <td>f</td>\n",
              "      <td>3992668</td>\n",
              "    </tr>\n",
              "    <tr>\n",
              "      <th>ring-type</th>\n",
              "      <td>5038286</td>\n",
              "      <td>47</td>\n",
              "      <td>f</td>\n",
              "      <td>4175585</td>\n",
              "    </tr>\n",
              "    <tr>\n",
              "      <th>spore-print-color</th>\n",
              "      <td>451936</td>\n",
              "      <td>43</td>\n",
              "      <td>k</td>\n",
              "      <td>181001</td>\n",
              "    </tr>\n",
              "    <tr>\n",
              "      <th>habitat</th>\n",
              "      <td>5255762</td>\n",
              "      <td>65</td>\n",
              "      <td>d</td>\n",
              "      <td>3672056</td>\n",
              "    </tr>\n",
              "    <tr>\n",
              "      <th>season</th>\n",
              "      <td>5255832</td>\n",
              "      <td>4</td>\n",
              "      <td>a</td>\n",
              "      <td>2602547</td>\n",
              "    </tr>\n",
              "  </tbody>\n",
              "</table>\n",
              "</div>\n",
              "    <div class=\"colab-df-buttons\">\n",
              "\n",
              "  <div class=\"colab-df-container\">\n",
              "    <button class=\"colab-df-convert\" onclick=\"convertToInteractive('df-c960a905-3317-4be9-98be-2b7af787e5f3')\"\n",
              "            title=\"Convert this dataframe to an interactive table.\"\n",
              "            style=\"display:none;\">\n",
              "\n",
              "  <svg xmlns=\"http://www.w3.org/2000/svg\" height=\"24px\" viewBox=\"0 -960 960 960\">\n",
              "    <path d=\"M120-120v-720h720v720H120Zm60-500h600v-160H180v160Zm220 220h160v-160H400v160Zm0 220h160v-160H400v160ZM180-400h160v-160H180v160Zm440 0h160v-160H620v160ZM180-180h160v-160H180v160Zm440 0h160v-160H620v160Z\"/>\n",
              "  </svg>\n",
              "    </button>\n",
              "\n",
              "  <style>\n",
              "    .colab-df-container {\n",
              "      display:flex;\n",
              "      gap: 12px;\n",
              "    }\n",
              "\n",
              "    .colab-df-convert {\n",
              "      background-color: #E8F0FE;\n",
              "      border: none;\n",
              "      border-radius: 50%;\n",
              "      cursor: pointer;\n",
              "      display: none;\n",
              "      fill: #1967D2;\n",
              "      height: 32px;\n",
              "      padding: 0 0 0 0;\n",
              "      width: 32px;\n",
              "    }\n",
              "\n",
              "    .colab-df-convert:hover {\n",
              "      background-color: #E2EBFA;\n",
              "      box-shadow: 0px 1px 2px rgba(60, 64, 67, 0.3), 0px 1px 3px 1px rgba(60, 64, 67, 0.15);\n",
              "      fill: #174EA6;\n",
              "    }\n",
              "\n",
              "    .colab-df-buttons div {\n",
              "      margin-bottom: 4px;\n",
              "    }\n",
              "\n",
              "    [theme=dark] .colab-df-convert {\n",
              "      background-color: #3B4455;\n",
              "      fill: #D2E3FC;\n",
              "    }\n",
              "\n",
              "    [theme=dark] .colab-df-convert:hover {\n",
              "      background-color: #434B5C;\n",
              "      box-shadow: 0px 1px 3px 1px rgba(0, 0, 0, 0.15);\n",
              "      filter: drop-shadow(0px 1px 2px rgba(0, 0, 0, 0.3));\n",
              "      fill: #FFFFFF;\n",
              "    }\n",
              "  </style>\n",
              "\n",
              "    <script>\n",
              "      const buttonEl =\n",
              "        document.querySelector('#df-c960a905-3317-4be9-98be-2b7af787e5f3 button.colab-df-convert');\n",
              "      buttonEl.style.display =\n",
              "        google.colab.kernel.accessAllowed ? 'block' : 'none';\n",
              "\n",
              "      async function convertToInteractive(key) {\n",
              "        const element = document.querySelector('#df-c960a905-3317-4be9-98be-2b7af787e5f3');\n",
              "        const dataTable =\n",
              "          await google.colab.kernel.invokeFunction('convertToInteractive',\n",
              "                                                    [key], {});\n",
              "        if (!dataTable) return;\n",
              "\n",
              "        const docLinkHtml = 'Like what you see? Visit the ' +\n",
              "          '<a target=\"_blank\" href=https://colab.research.google.com/notebooks/data_table.ipynb>data table notebook</a>'\n",
              "          + ' to learn more about interactive tables.';\n",
              "        element.innerHTML = '';\n",
              "        dataTable['output_type'] = 'display_data';\n",
              "        await google.colab.output.renderOutput(dataTable, element);\n",
              "        const docLink = document.createElement('div');\n",
              "        docLink.innerHTML = docLinkHtml;\n",
              "        element.appendChild(docLink);\n",
              "      }\n",
              "    </script>\n",
              "  </div>\n",
              "\n",
              "\n",
              "<div id=\"df-44799c64-69c6-4e47-9c9d-a640cc742004\">\n",
              "  <button class=\"colab-df-quickchart\" onclick=\"quickchart('df-44799c64-69c6-4e47-9c9d-a640cc742004')\"\n",
              "            title=\"Suggest charts\"\n",
              "            style=\"display:none;\">\n",
              "\n",
              "<svg xmlns=\"http://www.w3.org/2000/svg\" height=\"24px\"viewBox=\"0 0 24 24\"\n",
              "     width=\"24px\">\n",
              "    <g>\n",
              "        <path d=\"M19 3H5c-1.1 0-2 .9-2 2v14c0 1.1.9 2 2 2h14c1.1 0 2-.9 2-2V5c0-1.1-.9-2-2-2zM9 17H7v-7h2v7zm4 0h-2V7h2v10zm4 0h-2v-4h2v4z\"/>\n",
              "    </g>\n",
              "</svg>\n",
              "  </button>\n",
              "\n",
              "<style>\n",
              "  .colab-df-quickchart {\n",
              "      --bg-color: #E8F0FE;\n",
              "      --fill-color: #1967D2;\n",
              "      --hover-bg-color: #E2EBFA;\n",
              "      --hover-fill-color: #174EA6;\n",
              "      --disabled-fill-color: #AAA;\n",
              "      --disabled-bg-color: #DDD;\n",
              "  }\n",
              "\n",
              "  [theme=dark] .colab-df-quickchart {\n",
              "      --bg-color: #3B4455;\n",
              "      --fill-color: #D2E3FC;\n",
              "      --hover-bg-color: #434B5C;\n",
              "      --hover-fill-color: #FFFFFF;\n",
              "      --disabled-bg-color: #3B4455;\n",
              "      --disabled-fill-color: #666;\n",
              "  }\n",
              "\n",
              "  .colab-df-quickchart {\n",
              "    background-color: var(--bg-color);\n",
              "    border: none;\n",
              "    border-radius: 50%;\n",
              "    cursor: pointer;\n",
              "    display: none;\n",
              "    fill: var(--fill-color);\n",
              "    height: 32px;\n",
              "    padding: 0;\n",
              "    width: 32px;\n",
              "  }\n",
              "\n",
              "  .colab-df-quickchart:hover {\n",
              "    background-color: var(--hover-bg-color);\n",
              "    box-shadow: 0 1px 2px rgba(60, 64, 67, 0.3), 0 1px 3px 1px rgba(60, 64, 67, 0.15);\n",
              "    fill: var(--button-hover-fill-color);\n",
              "  }\n",
              "\n",
              "  .colab-df-quickchart-complete:disabled,\n",
              "  .colab-df-quickchart-complete:disabled:hover {\n",
              "    background-color: var(--disabled-bg-color);\n",
              "    fill: var(--disabled-fill-color);\n",
              "    box-shadow: none;\n",
              "  }\n",
              "\n",
              "  .colab-df-spinner {\n",
              "    border: 2px solid var(--fill-color);\n",
              "    border-color: transparent;\n",
              "    border-bottom-color: var(--fill-color);\n",
              "    animation:\n",
              "      spin 1s steps(1) infinite;\n",
              "  }\n",
              "\n",
              "  @keyframes spin {\n",
              "    0% {\n",
              "      border-color: transparent;\n",
              "      border-bottom-color: var(--fill-color);\n",
              "      border-left-color: var(--fill-color);\n",
              "    }\n",
              "    20% {\n",
              "      border-color: transparent;\n",
              "      border-left-color: var(--fill-color);\n",
              "      border-top-color: var(--fill-color);\n",
              "    }\n",
              "    30% {\n",
              "      border-color: transparent;\n",
              "      border-left-color: var(--fill-color);\n",
              "      border-top-color: var(--fill-color);\n",
              "      border-right-color: var(--fill-color);\n",
              "    }\n",
              "    40% {\n",
              "      border-color: transparent;\n",
              "      border-right-color: var(--fill-color);\n",
              "      border-top-color: var(--fill-color);\n",
              "    }\n",
              "    60% {\n",
              "      border-color: transparent;\n",
              "      border-right-color: var(--fill-color);\n",
              "    }\n",
              "    80% {\n",
              "      border-color: transparent;\n",
              "      border-right-color: var(--fill-color);\n",
              "      border-bottom-color: var(--fill-color);\n",
              "    }\n",
              "    90% {\n",
              "      border-color: transparent;\n",
              "      border-bottom-color: var(--fill-color);\n",
              "    }\n",
              "  }\n",
              "</style>\n",
              "\n",
              "  <script>\n",
              "    async function quickchart(key) {\n",
              "      const quickchartButtonEl =\n",
              "        document.querySelector('#' + key + ' button');\n",
              "      quickchartButtonEl.disabled = true;  // To prevent multiple clicks.\n",
              "      quickchartButtonEl.classList.add('colab-df-spinner');\n",
              "      try {\n",
              "        const charts = await google.colab.kernel.invokeFunction(\n",
              "            'suggestCharts', [key], {});\n",
              "      } catch (error) {\n",
              "        console.error('Error during call to suggestCharts:', error);\n",
              "      }\n",
              "      quickchartButtonEl.classList.remove('colab-df-spinner');\n",
              "      quickchartButtonEl.classList.add('colab-df-quickchart-complete');\n",
              "    }\n",
              "    (() => {\n",
              "      let quickchartButtonEl =\n",
              "        document.querySelector('#df-44799c64-69c6-4e47-9c9d-a640cc742004 button');\n",
              "      quickchartButtonEl.style.display =\n",
              "        google.colab.kernel.accessAllowed ? 'block' : 'none';\n",
              "    })();\n",
              "  </script>\n",
              "</div>\n",
              "\n",
              "    </div>\n",
              "  </div>\n"
            ],
            "application/vnd.google.colaboratory.intrinsic+json": {
              "type": "dataframe",
              "summary": "{\n  \"name\": \"pd\",\n  \"rows\": 17,\n  \"fields\": [\n    {\n      \"column\": \"count\",\n      \"properties\": {\n        \"dtype\": \"date\",\n        \"min\": \"269048\",\n        \"max\": \"5255832\",\n        \"num_unique_values\": 17,\n        \"samples\": [\n          \"5255761\",\n          \"4123785\",\n          \"3132740\"\n        ],\n        \"semantic_type\": \"\",\n        \"description\": \"\"\n      }\n    },\n    {\n      \"column\": \"unique\",\n      \"properties\": {\n        \"dtype\": \"date\",\n        \"min\": 4,\n        \"max\": 117,\n        \"num_unique_values\": 17,\n        \"samples\": [\n          108,\n          114,\n          66\n        ],\n        \"semantic_type\": \"\",\n        \"description\": \"\"\n      }\n    },\n    {\n      \"column\": \"top\",\n      \"properties\": {\n        \"dtype\": \"string\",\n        \"num_unique_values\": 12,\n        \"samples\": [\n          \"k\",\n          \"u\",\n          \"x\"\n        ],\n        \"semantic_type\": \"\",\n        \"description\": \"\"\n      }\n    },\n    {\n      \"column\": \"freq\",\n      \"properties\": {\n        \"dtype\": \"date\",\n        \"min\": \"181001\",\n        \"max\": \"4333738\",\n        \"num_unique_values\": 17,\n        \"samples\": [\n          \"2420907\",\n          \"775813\",\n          \"2242712\"\n        ],\n        \"semantic_type\": \"\",\n        \"description\": \"\"\n      }\n    }\n  ]\n}"
            }
          },
          "metadata": {},
          "execution_count": 22
        }
      ]
    },
    {
      "cell_type": "markdown",
      "source": [
        "# Imputing Null Values"
      ],
      "metadata": {
        "id": "kZlCLKhAhiLv"
      }
    },
    {
      "cell_type": "markdown",
      "source": [
        "## Mean"
      ],
      "metadata": {
        "id": "9CptshLnhiLx"
      }
    },
    {
      "cell_type": "code",
      "source": [
        "def cleaner(df):\n",
        "    for col in categorical_features:\n",
        "        df[col] = df[col].fillna('missing')\n",
        "        df.loc[df[col].value_counts(dropna=False)[df[col]].values < 100, col] = \"noise\"\n",
        "        df[col] = df[col].astype('category')\n",
        "\n",
        "    return df"
      ],
      "metadata": {
        "execution": {
          "iopub.status.busy": "2024-08-26T10:36:26.852086Z",
          "iopub.execute_input": "2024-08-26T10:36:26.852480Z",
          "iopub.status.idle": "2024-08-26T10:36:26.858261Z",
          "shell.execute_reply.started": "2024-08-26T10:36:26.852443Z",
          "shell.execute_reply": "2024-08-26T10:36:26.857145Z"
        },
        "trusted": true,
        "id": "10BnKT3DhiL0"
      },
      "execution_count": null,
      "outputs": []
    },
    {
      "cell_type": "code",
      "source": [
        "## Mean\n",
        "train_df_mean = cleaner(train_df)\n",
        "test_df_mean = cleaner(test_df)\n",
        "cap_diameter_mean = pd.concat([train_df['cap-diameter'], test_df['cap-diameter']]).mean(numeric_only=True)\n",
        "train_df_mean['cap-diameter'].fillna(cap_diameter_mean, inplace=True)\n",
        "test_df_mean['cap-diameter'].fillna(cap_diameter_mean, inplace=True)"
      ],
      "metadata": {
        "execution": {
          "iopub.status.busy": "2024-08-26T10:36:27.430328Z",
          "iopub.execute_input": "2024-08-26T10:36:27.431332Z",
          "iopub.status.idle": "2024-08-26T10:36:52.364247Z",
          "shell.execute_reply.started": "2024-08-26T10:36:27.431286Z",
          "shell.execute_reply": "2024-08-26T10:36:52.363271Z"
        },
        "trusted": true,
        "id": "11ZXVii9hiLz"
      },
      "execution_count": null,
      "outputs": []
    },
    {
      "cell_type": "code",
      "source": [
        "X = train_df_mean.copy()\n",
        "y = X.pop(target)\n",
        "\n",
        "lab_enc = LabelEncoder().fit(y)\n",
        "y = lab_enc.transform(y)"
      ],
      "metadata": {
        "execution": {
          "iopub.status.busy": "2024-08-26T11:42:44.728155Z",
          "iopub.execute_input": "2024-08-26T11:42:44.728952Z",
          "iopub.status.idle": "2024-08-26T11:42:45.475385Z",
          "shell.execute_reply.started": "2024-08-26T11:42:44.728907Z",
          "shell.execute_reply": "2024-08-26T11:42:45.474456Z"
        },
        "trusted": true,
        "id": "OzWrmvNOhgAY"
      },
      "execution_count": null,
      "outputs": []
    },
    {
      "cell_type": "code",
      "source": [
        "def model_report(estimator, X, y, cv=5):\n",
        "    print(\"=\"*80)\n",
        "    print(f\"    Model: {estimator.__class__.__name__}\")\n",
        "    print(\"=\"*80)\n",
        "\n",
        "    X_train, X_test, y_train, y_test = train_test_split(X, y, train_size=1/cv, shuffle=True, stratify=y, random_state=42)\n",
        "\n",
        "    estimator.fit(X_train, y_train)\n",
        "    y_pred = estimator.predict(X_test)\n",
        "    f1 = f1_score(y_test, y_pred)\n",
        "    mcc = matthews_corrcoef(y_test, y_pred)\n",
        "    print(f\"F1 Score : {f1.mean():.6f}\")\n",
        "    print(f\"MCC Score: {mcc.mean():.6f}\")\n",
        "\n",
        "    ConfusionMatrixDisplay(confusion_matrix(y_test, y_pred)).plot()\n",
        "    plt.title(\"Confusion Matrix\")\n",
        "    plt.show()\n",
        "\n",
        "    print()"
      ],
      "metadata": {
        "execution": {
          "iopub.status.busy": "2024-08-26T11:42:45.477237Z",
          "iopub.execute_input": "2024-08-26T11:42:45.477596Z",
          "iopub.status.idle": "2024-08-26T11:42:45.485183Z",
          "shell.execute_reply.started": "2024-08-26T11:42:45.477560Z",
          "shell.execute_reply": "2024-08-26T11:42:45.484034Z"
        },
        "trusted": true,
        "id": "5HDc_UyYhgAY"
      },
      "execution_count": null,
      "outputs": []
    },
    {
      "cell_type": "code",
      "source": [
        "def model_trainer(model, X, y, n_splits=5, random_state=42):\n",
        "    skfold = StratifiedKFold(n_splits=n_splits, shuffle=True, random_state=random_state)\n",
        "\n",
        "    oof_probs, oof_mccs = [], []\n",
        "    print(\"=\"*80)\n",
        "    print(f\"Training {model.__class__.__name__}\")\n",
        "    print(\"=\"*80, end=\"\\n\")\n",
        "    for fold, (train_idx, test_idx) in enumerate(skfold.split(X, y)):\n",
        "        X_train, y_train = X.iloc[train_idx, :], y[train_idx]\n",
        "        X_test, y_test = X.iloc[test_idx, :], y[test_idx]\n",
        "\n",
        "        model.fit(X_train, y_train)\n",
        "        y_pred = model.predict(X_test)\n",
        "\n",
        "        mcc = matthews_corrcoef(y_pred, y_test)\n",
        "        oof_mccs.append(mcc)\n",
        "        oof_probs.append(model.predict_proba(test_df_mean))\n",
        "        print(f\"--- Fold {fold+1} MCC Score: {mcc:.6f}\")\n",
        "    print(f\"\\n---> Mean MCC Score: {np.mean(oof_mccs):.6f} \\xb1 {np.std(oof_mccs):.6f}\\n\\n\")\n",
        "    return oof_probs, oof_mccs"
      ],
      "metadata": {
        "execution": {
          "iopub.status.busy": "2024-08-26T11:42:45.486597Z",
          "iopub.execute_input": "2024-08-26T11:42:45.486991Z",
          "iopub.status.idle": "2024-08-26T11:42:45.499878Z",
          "shell.execute_reply.started": "2024-08-26T11:42:45.486954Z",
          "shell.execute_reply": "2024-08-26T11:42:45.498915Z"
        },
        "trusted": true,
        "id": "yBL6GSYkhgAZ"
      },
      "execution_count": null,
      "outputs": []
    },
    {
      "cell_type": "code",
      "source": [
        "xgb_clf = XGBClassifier(enable_categorical=True, device=\"cuda\", tree_method=\"hist\")\n",
        "\n",
        "model_report(xgb_clf, X, y)"
      ],
      "metadata": {
        "execution": {
          "iopub.status.busy": "2024-08-26T11:42:45.501784Z",
          "iopub.execute_input": "2024-08-26T11:42:45.502144Z",
          "iopub.status.idle": "2024-08-26T11:42:55.295767Z",
          "shell.execute_reply.started": "2024-08-26T11:42:45.502109Z",
          "shell.execute_reply": "2024-08-26T11:42:55.293976Z"
        },
        "trusted": true,
        "outputId": "302014ee-1086-4709-9a96-27163fa253b5",
        "colab": {
          "base_uri": "https://localhost:8080/",
          "height": 582
        },
        "id": "KR0UQFrlhgAa"
      },
      "execution_count": null,
      "outputs": [
        {
          "output_type": "stream",
          "name": "stdout",
          "text": [
            "================================================================================\n",
            "    Model: XGBClassifier\n",
            "================================================================================\n",
            "F1 Score : 0.992520\n",
            "MCC Score: 0.983502\n"
          ]
        },
        {
          "output_type": "display_data",
          "data": {
            "text/plain": [
              "<Figure size 640x480 with 2 Axes>"
            ],
            "image/png": "[encoded data removed]"
          },
          "metadata": {}
        },
        {
          "output_type": "stream",
          "name": "stdout",
          "text": [
            "\n"
          ]
        }
      ]
    },
    {
      "cell_type": "code",
      "source": [
        "cat_clf = CatBoostClassifier(\n",
        "    cat_features=categorical_features,\n",
        "    verbose=False,\n",
        "    allow_writing_files=False,\n",
        "    task_type=\"GPU\"\n",
        ")\n",
        "\n",
        "model_report(cat_clf, X, y)"
      ],
      "metadata": {
        "execution": {
          "iopub.status.busy": "2024-08-26T10:48:03.385154Z",
          "iopub.execute_input": "2024-08-26T10:48:03.385580Z",
          "iopub.status.idle": "2024-08-26T10:48:36.185373Z",
          "shell.execute_reply.started": "2024-08-26T10:48:03.385538Z",
          "shell.execute_reply": "2024-08-26T10:48:36.183506Z"
        },
        "trusted": true,
        "outputId": "f4a77484-60cf-439a-8073-3938aa1b8b49",
        "colab": {
          "base_uri": "https://localhost:8080/"
        },
        "id": "A9w5GJ6-iCGw"
      },
      "execution_count": null,
      "outputs": [
        {
          "metadata": {
            "tags": null
          },
          "name": "stdout",
          "output_type": "stream",
          "text": [
            "================================================================================\n",
            "    Model: CatBoostClassifier\n",
            "================================================================================\n"
          ]
        }
      ]
    },
    {
      "cell_type": "code",
      "source": [
        "lgb_clf = LGBMClassifier(device='gpu', verbosity=-1)\n",
        "\n",
        "model_report(lgb_clf, X, y)"
      ],
      "metadata": {
        "execution": {
          "iopub.status.busy": "2024-08-26T10:47:03.521806Z",
          "iopub.execute_input": "2024-08-26T10:47:03.522239Z",
          "iopub.status.idle": "2024-08-26T10:47:58.010253Z",
          "shell.execute_reply.started": "2024-08-26T10:47:03.522197Z",
          "shell.execute_reply": "2024-08-26T10:47:58.009101Z"
        },
        "trusted": true,
        "id": "1L6IA1RWiCGw"
      },
      "execution_count": null,
      "outputs": []
    },
    {
      "cell_type": "code",
      "source": [
        "xgb_params = {\n",
        "    'n_estimators': 2407,\n",
        "    'eta': 0.009462133032592785,\n",
        "    'gamma': 0.2865859948765318,\n",
        "    'max_depth': 31,\n",
        "    'min_child_weight': 47,\n",
        "    'subsample': 0.6956431754146083,\n",
        "    'colsample_bytree': 0.3670732604094118,\n",
        "    'grow_policy': 'lossguide',\n",
        "    'max_leaves': 73,\n",
        "    'enable_categorical': True,\n",
        "    'n_jobs': -1,\n",
        "    'device': 'cuda',\n",
        "    'tree_method': 'hist'\n",
        "} # 0.9844272567086021\n",
        "\n",
        "cat_params = {\n",
        "    'iterations': 1041,\n",
        "    'learning_rate': 0.08777255350163136,\n",
        "    'depth': 10,\n",
        "    'l2_leaf_reg': 0.1259643500248322,\n",
        "    'bootstrap_type': 'Bayesian',\n",
        "    'random_strength': 4.276181166674371e-08,\n",
        "    'bagging_temperature': 0.35995482350907326,\n",
        "    'od_type': 'Iter',\n",
        "    'od_wait': 39,\n",
        "    \"verbose\": False,\n",
        "    \"allow_writing_files\": False,\n",
        "    \"task_type\": 'GPU',\n",
        "    \"cat_features\": categorical_features\n",
        "} # 0.9841773055825763\n",
        "\n",
        "lgb_params = {\n",
        "    'n_estimators': 2500,\n",
        "    'random_state':42,\n",
        "    'max_bin':1024,\n",
        "    'colsample_bytree':0.6,\n",
        "    'reg_lambda': 80,\n",
        "#     'device': 'gpu',\n",
        "    'verbosity': -1\n",
        "}"
      ],
      "metadata": {
        "_kg_hide-input": false,
        "execution": {
          "iopub.status.busy": "2024-08-26T10:48:41.399465Z",
          "iopub.execute_input": "2024-08-26T10:48:41.400483Z",
          "iopub.status.idle": "2024-08-26T10:48:41.409804Z",
          "shell.execute_reply.started": "2024-08-26T10:48:41.400428Z",
          "shell.execute_reply": "2024-08-26T10:48:41.408507Z"
        },
        "trusted": true,
        "id": "h5GC1PeciovZ"
      },
      "execution_count": null,
      "outputs": []
    },
    {
      "cell_type": "code",
      "source": [
        "oof_probs = {}\n",
        "oof_probs['xgb'], _ = model_trainer(XGBClassifier(**xgb_params), X, y, random_state=101)\n",
        "# oof_probs['cat'], _ = model_trainer(CatBoostClassifier(**cat_params), X, y, random_state=101)\n",
        "# oof_probs['lgb'], _ = model_trainer(LGBMClassifier(**lgb_params), X, y, random_state=101)"
      ],
      "metadata": {
        "id": "BJdANzdUy1DW"
      },
      "execution_count": null,
      "outputs": []
    },
    {
      "cell_type": "code",
      "source": [
        "oof_preds = {}\n",
        "for model in oof_probs.keys():\n",
        "    oof_preds[model] = np.argmax(np.mean(oof_probs[model], axis=0), axis=1)"
      ],
      "metadata": {
        "execution": {
          "iopub.status.busy": "2024-08-26T10:59:46.543385Z",
          "iopub.status.idle": "2024-08-26T10:59:46.543791Z",
          "shell.execute_reply.started": "2024-08-26T10:59:46.543605Z",
          "shell.execute_reply": "2024-08-26T10:59:46.543624Z"
        },
        "trusted": true,
        "id": "fzxURcLFiovb"
      },
      "execution_count": null,
      "outputs": []
    },
    {
      "cell_type": "markdown",
      "source": [
        "## Median"
      ],
      "metadata": {
        "id": "GCPMJaM1hzy0"
      }
    },
    {
      "cell_type": "code",
      "source": [
        "## 중앙값으로 대체\n",
        "def cleaner_median(df, numerical_features):\n",
        "    for col in categorical_features:\n",
        "        df[col] = df[col].fillna('missing')\n",
        "        df.loc[df[col].value_counts(dropna=False)[df[col]].values < 100, col] = \"noise\"\n",
        "        df[col] = df[col].astype('category')\n",
        "\n",
        "    for col in numerical_features:\n",
        "        df[col] = df[col].fillna(df[col].median())\n",
        "\n",
        "    return df\n",
        "\n",
        "train_df_median = cleaner_median(train_df, numerical_features)\n",
        "test_df_median = cleaner_median(test_df, numerical_features)"
      ],
      "metadata": {
        "execution": {
          "iopub.status.busy": "2024-08-26T10:36:52.366217Z",
          "iopub.execute_input": "2024-08-26T10:36:52.366612Z",
          "iopub.status.idle": "2024-08-26T10:36:52.777593Z",
          "shell.execute_reply.started": "2024-08-26T10:36:52.366572Z",
          "shell.execute_reply": "2024-08-26T10:36:52.776306Z"
        },
        "trusted": true,
        "id": "bwBjZF6rhiL1"
      },
      "execution_count": null,
      "outputs": []
    },
    {
      "cell_type": "code",
      "source": [
        "X = train_df_median.copy()\n",
        "y = X.pop(target)\n",
        "\n",
        "lab_enc = LabelEncoder().fit(y)\n",
        "y = lab_enc.transform(y)"
      ],
      "metadata": {
        "execution": {
          "iopub.status.busy": "2024-08-26T11:42:44.728155Z",
          "iopub.execute_input": "2024-08-26T11:42:44.728952Z",
          "iopub.status.idle": "2024-08-26T11:42:45.475385Z",
          "shell.execute_reply.started": "2024-08-26T11:42:44.728907Z",
          "shell.execute_reply": "2024-08-26T11:42:45.474456Z"
        },
        "trusted": true,
        "id": "D30fcKlEyq2a"
      },
      "execution_count": null,
      "outputs": []
    },
    {
      "cell_type": "code",
      "source": [
        "def model_report(estimator, X, y, cv=5):\n",
        "    print(\"=\"*80)\n",
        "    print(f\"    Model: {estimator.__class__.__name__}\")\n",
        "    print(\"=\"*80)\n",
        "\n",
        "    X_train, X_test, y_train, y_test = train_test_split(X, y, train_size=1/cv, shuffle=True, stratify=y, random_state=42)\n",
        "\n",
        "    estimator.fit(X_train, y_train)\n",
        "    y_pred = estimator.predict(X_test)\n",
        "    f1 = f1_score(y_test, y_pred)\n",
        "    mcc = matthews_corrcoef(y_test, y_pred)\n",
        "    print(f\"F1 Score : {f1.mean():.6f}\")\n",
        "    print(f\"MCC Score: {mcc.mean():.6f}\")\n",
        "\n",
        "    ConfusionMatrixDisplay(confusion_matrix(y_test, y_pred)).plot()\n",
        "    plt.title(\"Confusion Matrix\")\n",
        "    plt.show()\n",
        "\n",
        "    print()"
      ],
      "metadata": {
        "execution": {
          "iopub.status.busy": "2024-08-26T11:42:45.477237Z",
          "iopub.execute_input": "2024-08-26T11:42:45.477596Z",
          "iopub.status.idle": "2024-08-26T11:42:45.485183Z",
          "shell.execute_reply.started": "2024-08-26T11:42:45.477560Z",
          "shell.execute_reply": "2024-08-26T11:42:45.484034Z"
        },
        "trusted": true,
        "id": "gXWucj_Byq2b"
      },
      "execution_count": null,
      "outputs": []
    },
    {
      "cell_type": "code",
      "source": [
        "def model_trainer(model, X, y, n_splits=5, random_state=42):\n",
        "    skfold = StratifiedKFold(n_splits=n_splits, shuffle=True, random_state=random_state)\n",
        "\n",
        "    oof_probs, oof_mccs = [], []\n",
        "    print(\"=\"*80)\n",
        "    print(f\"Training {model.__class__.__name__}\")\n",
        "    print(\"=\"*80, end=\"\\n\")\n",
        "    for fold, (train_idx, test_idx) in enumerate(skfold.split(X, y)):\n",
        "        X_train, y_train = X.iloc[train_idx, :], y[train_idx]\n",
        "        X_test, y_test = X.iloc[test_idx, :], y[test_idx]\n",
        "\n",
        "        model.fit(X_train, y_train)\n",
        "        y_pred = model.predict(X_test)\n",
        "\n",
        "        mcc = matthews_corrcoef(y_pred, y_test)\n",
        "        oof_mccs.append(mcc)\n",
        "        oof_probs.append(model.predict_proba(test_df_median))\n",
        "        print(f\"--- Fold {fold+1} MCC Score: {mcc:.6f}\")\n",
        "    print(f\"\\n---> Mean MCC Score: {np.mean(oof_mccs):.6f} \\xb1 {np.std(oof_mccs):.6f}\\n\\n\")\n",
        "    return oof_probs, oof_mccs"
      ],
      "metadata": {
        "execution": {
          "iopub.status.busy": "2024-08-26T11:42:45.486597Z",
          "iopub.execute_input": "2024-08-26T11:42:45.486991Z",
          "iopub.status.idle": "2024-08-26T11:42:45.499878Z",
          "shell.execute_reply.started": "2024-08-26T11:42:45.486954Z",
          "shell.execute_reply": "2024-08-26T11:42:45.498915Z"
        },
        "trusted": true,
        "id": "xmSWa7SUyq2b"
      },
      "execution_count": null,
      "outputs": []
    },
    {
      "cell_type": "code",
      "source": [
        "xgb_clf = XGBClassifier(enable_categorical=True, device=\"cuda\", tree_method=\"hist\")\n",
        "\n",
        "model_report(xgb_clf, X, y)"
      ],
      "metadata": {
        "colab": {
          "base_uri": "https://localhost:8080/",
          "height": 580
        },
        "id": "av1XEi0vzsvy",
        "outputId": "b1595c0f-2b56-4fb3-c444-c3f9eba65aa4"
      },
      "execution_count": null,
      "outputs": [
        {
          "output_type": "stream",
          "name": "stdout",
          "text": [
            "================================================================================\n",
            "    Model: XGBClassifier\n",
            "================================================================================\n",
            "F1 Score : 0.992520\n",
            "MCC Score: 0.983502\n"
          ]
        },
        {
          "output_type": "display_data",
          "data": {
            "text/plain": [
              "<Figure size 640x480 with 2 Axes>"
            ],
            "image/png": "[encoded data removed]"
          },
          "metadata": {}
        },
        {
          "output_type": "stream",
          "name": "stdout",
          "text": [
            "\n"
          ]
        }
      ]
    },
    {
      "cell_type": "code",
      "source": [
        "cat_clf = CatBoostClassifier(\n",
        "    cat_features=categorical_features,\n",
        "    verbose=False,\n",
        "    allow_writing_files=False,\n",
        "    task_type=\"GPU\"\n",
        ")\n",
        "\n",
        "model_report(cat_clf, X, y)"
      ],
      "metadata": {
        "id": "Aq-kS91Mzulq",
        "colab": {
          "base_uri": "https://localhost:8080/",
          "height": 580
        },
        "outputId": "70379689-c8cf-4c9d-8bf8-c997ff920dd6"
      },
      "execution_count": null,
      "outputs": [
        {
          "output_type": "stream",
          "name": "stdout",
          "text": [
            "================================================================================\n",
            "    Model: CatBoostClassifier\n",
            "================================================================================\n",
            "F1 Score : 0.992283\n",
            "MCC Score: 0.982976\n"
          ]
        },
        {
          "output_type": "display_data",
          "data": {
            "text/plain": [
              "<Figure size 640x480 with 2 Axes>"
            ],
            "image/png": "[encoded data removed]"
          },
          "metadata": {}
        },
        {
          "output_type": "stream",
          "name": "stdout",
          "text": [
            "\n"
          ]
        }
      ]
    },
    {
      "cell_type": "code",
      "source": [
        "lgb_clf = LGBMClassifier(device='gpu', verbosity=-1)\n",
        "\n",
        "model_report(lgb_clf, X, y)"
      ],
      "metadata": {
        "execution": {
          "iopub.status.busy": "2024-08-26T10:47:03.521806Z",
          "iopub.execute_input": "2024-08-26T10:47:03.522239Z",
          "iopub.status.idle": "2024-08-26T10:47:58.010253Z",
          "shell.execute_reply.started": "2024-08-26T10:47:03.522197Z",
          "shell.execute_reply": "2024-08-26T10:47:58.009101Z"
        },
        "trusted": true,
        "id": "sdbbyUzMyq2c",
        "colab": {
          "base_uri": "https://localhost:8080/",
          "height": 580
        },
        "outputId": "785a7675-1b25-4a6f-f59f-a088133fc195"
      },
      "execution_count": null,
      "outputs": [
        {
          "output_type": "stream",
          "name": "stdout",
          "text": [
            "================================================================================\n",
            "    Model: LGBMClassifier\n",
            "================================================================================\n",
            "F1 Score : 0.991484\n",
            "MCC Score: 0.981226\n"
          ]
        },
        {
          "output_type": "display_data",
          "data": {
            "text/plain": [
              "<Figure size 640x480 with 2 Axes>"
            ],
            "image/png": "[encoded data removed]"
          },
          "metadata": {}
        },
        {
          "output_type": "stream",
          "name": "stdout",
          "text": [
            "\n"
          ]
        }
      ]
    },
    {
      "cell_type": "code",
      "source": [
        "xgb_params = {\n",
        "    'n_estimators': 2407,\n",
        "    'eta': 0.009462133032592785,\n",
        "    'gamma': 0.2865859948765318,\n",
        "    'max_depth': 31,\n",
        "    'min_child_weight': 47,\n",
        "    'subsample': 0.6956431754146083,\n",
        "    'colsample_bytree': 0.3670732604094118,\n",
        "    'grow_policy': 'lossguide',\n",
        "    'max_leaves': 73,\n",
        "    'enable_categorical': True,\n",
        "    'n_jobs': -1,\n",
        "    'device': 'cuda',\n",
        "    'tree_method': 'hist'\n",
        "} # 0.9844272567086021\n",
        "\n",
        "cat_params = {\n",
        "    'iterations': 1041,\n",
        "    'learning_rate': 0.08777255350163136,\n",
        "    'depth': 10,\n",
        "    'l2_leaf_reg': 0.1259643500248322,\n",
        "    'bootstrap_type': 'Bayesian',\n",
        "    'random_strength': 4.276181166674371e-08,\n",
        "    'bagging_temperature': 0.35995482350907326,\n",
        "    'od_type': 'Iter',\n",
        "    'od_wait': 39,\n",
        "    \"verbose\": False,\n",
        "    \"allow_writing_files\": False,\n",
        "    \"task_type\": 'GPU',\n",
        "    \"cat_features\": categorical_features\n",
        "} # 0.9841773055825763\n",
        "\n",
        "lgb_params = {\n",
        "    'n_estimators': 2500,\n",
        "    'random_state':42,\n",
        "    'max_bin':1024,\n",
        "    'colsample_bytree':0.6,\n",
        "    'reg_lambda': 80,\n",
        "#     'device': 'gpu',\n",
        "    'verbosity': -1\n",
        "}"
      ],
      "metadata": {
        "_kg_hide-input": false,
        "execution": {
          "iopub.status.busy": "2024-08-26T10:48:41.399465Z",
          "iopub.execute_input": "2024-08-26T10:48:41.400483Z",
          "iopub.status.idle": "2024-08-26T10:48:41.409804Z",
          "shell.execute_reply.started": "2024-08-26T10:48:41.400428Z",
          "shell.execute_reply": "2024-08-26T10:48:41.408507Z"
        },
        "trusted": true,
        "id": "tXpXcNoYyq2c"
      },
      "execution_count": null,
      "outputs": []
    },
    {
      "cell_type": "code",
      "source": [
        "oof_probs = {}\n",
        "oof_probs['xgb'], _ = model_trainer(XGBClassifier(**xgb_params), X, y, random_state=101)\n",
        "# oof_probs['cat'], _ = model_trainer(CatBoostClassifier(**cat_params), X, y, random_state=101)\n",
        "# oof_probs['lgb'], _ = model_trainer(LGBMClassifier(**lgb_params), X, y, random_state=101)"
      ],
      "metadata": {
        "id": "JepTQg0Hyy4O"
      },
      "execution_count": null,
      "outputs": []
    },
    {
      "cell_type": "code",
      "source": [
        "oof_preds = {}\n",
        "for model in oof_probs.keys():\n",
        "    oof_preds[model] = np.argmax(np.mean(oof_probs[model], axis=0), axis=1)"
      ],
      "metadata": {
        "execution": {
          "iopub.status.busy": "2024-08-26T10:59:46.543385Z",
          "iopub.status.idle": "2024-08-26T10:59:46.543791Z",
          "shell.execute_reply.started": "2024-08-26T10:59:46.543605Z",
          "shell.execute_reply": "2024-08-26T10:59:46.543624Z"
        },
        "trusted": true,
        "id": "69VW8gGhyq2d"
      },
      "execution_count": null,
      "outputs": []
    },
    {
      "cell_type": "markdown",
      "source": [
        "## Mode"
      ],
      "metadata": {
        "id": "eNYMiBlsh2Px"
      }
    },
    {
      "cell_type": "code",
      "source": [
        "## 최빈값으로 대체\n",
        "def cleaner_mode(df, numerical_features):\n",
        "  for col in categorical_features:\n",
        "    df[col] = df[col].fillna('missing')\n",
        "    df.loc[df[col].value_counts(dropna=False)[df[col]].values < 100, col] = \"noise\"\n",
        "    df[col] = df[col].astype('category')\n",
        "\n",
        "  for col in numerical_features:\n",
        "    df[col] = df[col].fillna(df[col].mode()[0])\n",
        "\n",
        "    return df\n",
        "\n",
        "train_df_mode = cleaner_mode(train_df, numerical_features)\n",
        "test_df_mode = cleaner_mode(test_df, numerical_features)"
      ],
      "metadata": {
        "execution": {
          "iopub.status.busy": "2024-08-26T10:36:52.779026Z",
          "iopub.execute_input": "2024-08-26T10:36:52.779395Z",
          "iopub.status.idle": "2024-08-26T10:36:53.222433Z",
          "shell.execute_reply.started": "2024-08-26T10:36:52.779358Z",
          "shell.execute_reply": "2024-08-26T10:36:53.221315Z"
        },
        "trusted": true,
        "id": "DhKnYqv-hiL2"
      },
      "execution_count": null,
      "outputs": []
    },
    {
      "cell_type": "code",
      "source": [
        "X = train_df_mode.copy()\n",
        "y = X.pop(target)\n",
        "\n",
        "lab_enc = LabelEncoder().fit(y)\n",
        "y = lab_enc.transform(y)"
      ],
      "metadata": {
        "execution": {
          "iopub.status.busy": "2024-08-26T11:42:44.728155Z",
          "iopub.execute_input": "2024-08-26T11:42:44.728952Z",
          "iopub.status.idle": "2024-08-26T11:42:45.475385Z",
          "shell.execute_reply.started": "2024-08-26T11:42:44.728907Z",
          "shell.execute_reply": "2024-08-26T11:42:45.474456Z"
        },
        "trusted": true,
        "id": "MWDRtKEFy571"
      },
      "execution_count": null,
      "outputs": []
    },
    {
      "cell_type": "code",
      "source": [
        "def model_report(estimator, X, y, cv=5):\n",
        "    print(\"=\"*80)\n",
        "    print(f\"    Model: {estimator.__class__.__name__}\")\n",
        "    print(\"=\"*80)\n",
        "\n",
        "    X_train, X_test, y_train, y_test = train_test_split(X, y, train_size=1/cv, shuffle=True, stratify=y, random_state=42)\n",
        "\n",
        "    estimator.fit(X_train, y_train)\n",
        "    y_pred = estimator.predict(X_test)\n",
        "    f1 = f1_score(y_test, y_pred)\n",
        "    mcc = matthews_corrcoef(y_test, y_pred)\n",
        "    print(f\"F1 Score : {f1.mean():.6f}\")\n",
        "    print(f\"MCC Score: {mcc.mean():.6f}\")\n",
        "\n",
        "    ConfusionMatrixDisplay(confusion_matrix(y_test, y_pred)).plot()\n",
        "    plt.title(\"Confusion Matrix\")\n",
        "    plt.show()\n",
        "\n",
        "    print()"
      ],
      "metadata": {
        "execution": {
          "iopub.status.busy": "2024-08-26T11:42:45.477237Z",
          "iopub.execute_input": "2024-08-26T11:42:45.477596Z",
          "iopub.status.idle": "2024-08-26T11:42:45.485183Z",
          "shell.execute_reply.started": "2024-08-26T11:42:45.477560Z",
          "shell.execute_reply": "2024-08-26T11:42:45.484034Z"
        },
        "trusted": true,
        "id": "H_VazMsty571"
      },
      "execution_count": null,
      "outputs": []
    },
    {
      "cell_type": "code",
      "source": [
        "def model_trainer(model, X, y, n_splits=5, random_state=42):\n",
        "    skfold = StratifiedKFold(n_splits=n_splits, shuffle=True, random_state=random_state)\n",
        "\n",
        "    oof_probs, oof_mccs = [], []\n",
        "    print(\"=\"*80)\n",
        "    print(f\"Training {model.__class__.__name__}\")\n",
        "    print(\"=\"*80, end=\"\\n\")\n",
        "    for fold, (train_idx, test_idx) in enumerate(skfold.split(X, y)):\n",
        "        X_train, y_train = X.iloc[train_idx, :], y[train_idx]\n",
        "        X_test, y_test = X.iloc[test_idx, :], y[test_idx]\n",
        "\n",
        "        model.fit(X_train, y_train)\n",
        "        y_pred = model.predict(X_test)\n",
        "\n",
        "        mcc = matthews_corrcoef(y_pred, y_test)\n",
        "        oof_mccs.append(mcc)\n",
        "        oof_probs.append(model.predict_proba(test_df_mode))\n",
        "        print(f\"--- Fold {fold+1} MCC Score: {mcc:.6f}\")\n",
        "    print(f\"\\n---> Mean MCC Score: {np.mean(oof_mccs):.6f} \\xb1 {np.std(oof_mccs):.6f}\\n\\n\")\n",
        "    return oof_probs, oof_mccs"
      ],
      "metadata": {
        "execution": {
          "iopub.status.busy": "2024-08-26T11:42:45.486597Z",
          "iopub.execute_input": "2024-08-26T11:42:45.486991Z",
          "iopub.status.idle": "2024-08-26T11:42:45.499878Z",
          "shell.execute_reply.started": "2024-08-26T11:42:45.486954Z",
          "shell.execute_reply": "2024-08-26T11:42:45.498915Z"
        },
        "trusted": true,
        "id": "GikZgcivy571"
      },
      "execution_count": null,
      "outputs": []
    },
    {
      "cell_type": "code",
      "source": [
        "xgb_clf = XGBClassifier(enable_categorical=True, device=\"cuda\", tree_method=\"hist\")\n",
        "\n",
        "model_report(xgb_clf, X, y)"
      ],
      "metadata": {
        "execution": {
          "iopub.status.busy": "2024-08-26T11:42:45.501784Z",
          "iopub.execute_input": "2024-08-26T11:42:45.502144Z",
          "iopub.status.idle": "2024-08-26T11:42:55.295767Z",
          "shell.execute_reply.started": "2024-08-26T11:42:45.502109Z",
          "shell.execute_reply": "2024-08-26T11:42:55.293976Z"
        },
        "trusted": true,
        "outputId": "9843b4a2-3185-4147-ecf8-0643a89b5874",
        "colab": {
          "base_uri": "https://localhost:8080/",
          "height": 580
        },
        "id": "0_PDvgWsy571"
      },
      "execution_count": null,
      "outputs": [
        {
          "output_type": "stream",
          "name": "stdout",
          "text": [
            "================================================================================\n",
            "    Model: XGBClassifier\n",
            "================================================================================\n",
            "F1 Score : 0.992525\n",
            "MCC Score: 0.983512\n"
          ]
        },
        {
          "output_type": "display_data",
          "data": {
            "text/plain": [
              "<Figure size 640x480 with 2 Axes>"
            ],
            "image/png": "[encoded data removed]"
          },
          "metadata": {}
        },
        {
          "output_type": "stream",
          "name": "stdout",
          "text": [
            "\n"
          ]
        }
      ]
    },
    {
      "cell_type": "code",
      "source": [
        "cat_clf = CatBoostClassifier(\n",
        "    cat_features=categorical_features,\n",
        "    verbose=False,\n",
        "    allow_writing_files=False,\n",
        "    task_type=\"GPU\"\n",
        ")\n",
        "\n",
        "model_report(cat_clf, X, y)"
      ],
      "metadata": {
        "execution": {
          "iopub.status.busy": "2024-08-26T10:48:03.385154Z",
          "iopub.execute_input": "2024-08-26T10:48:03.385580Z",
          "iopub.status.idle": "2024-08-26T10:48:36.185373Z",
          "shell.execute_reply.started": "2024-08-26T10:48:03.385538Z",
          "shell.execute_reply": "2024-08-26T10:48:36.183506Z"
        },
        "trusted": true,
        "outputId": "bfd2fa02-098b-4241-b7c9-797d060118cb",
        "colab": {
          "base_uri": "https://localhost:8080/",
          "height": 580
        },
        "id": "B4cJxg4oy572"
      },
      "execution_count": null,
      "outputs": [
        {
          "output_type": "stream",
          "name": "stdout",
          "text": [
            "================================================================================\n",
            "    Model: CatBoostClassifier\n",
            "================================================================================\n",
            "F1 Score : 0.992280\n",
            "MCC Score: 0.982969\n"
          ]
        },
        {
          "output_type": "display_data",
          "data": {
            "text/plain": [
              "<Figure size 640x480 with 2 Axes>"
            ],
            "image/png": "[encoded data removed]"
          },
          "metadata": {}
        },
        {
          "output_type": "stream",
          "name": "stdout",
          "text": [
            "\n"
          ]
        }
      ]
    },
    {
      "cell_type": "code",
      "source": [
        "lgb_clf = LGBMClassifier(device='gpu', verbosity=-1)\n",
        "\n",
        "model_report(lgb_clf, X, y)"
      ],
      "metadata": {
        "execution": {
          "iopub.status.busy": "2024-08-26T10:47:03.521806Z",
          "iopub.execute_input": "2024-08-26T10:47:03.522239Z",
          "iopub.status.idle": "2024-08-26T10:47:58.010253Z",
          "shell.execute_reply.started": "2024-08-26T10:47:03.522197Z",
          "shell.execute_reply": "2024-08-26T10:47:58.009101Z"
        },
        "trusted": true,
        "id": "aA6qVU8Xy572",
        "colab": {
          "base_uri": "https://localhost:8080/",
          "height": 580
        },
        "outputId": "226bca54-7956-4796-faf5-21730e56db40"
      },
      "execution_count": null,
      "outputs": [
        {
          "output_type": "stream",
          "name": "stdout",
          "text": [
            "================================================================================\n",
            "    Model: LGBMClassifier\n",
            "================================================================================\n",
            "F1 Score : 0.991484\n",
            "MCC Score: 0.981226\n"
          ]
        },
        {
          "output_type": "display_data",
          "data": {
            "text/plain": [
              "<Figure size 640x480 with 2 Axes>"
            ],
            "image/png": "[encoded data removed]"
          },
          "metadata": {}
        },
        {
          "output_type": "stream",
          "name": "stdout",
          "text": [
            "\n"
          ]
        }
      ]
    },
    {
      "cell_type": "code",
      "source": [
        "xgb_params = {\n",
        "    'n_estimators': 2407,\n",
        "    'eta': 0.009462133032592785,\n",
        "    'gamma': 0.2865859948765318,\n",
        "    'max_depth': 31,\n",
        "    'min_child_weight': 47,\n",
        "    'subsample': 0.6956431754146083,\n",
        "    'colsample_bytree': 0.3670732604094118,\n",
        "    'grow_policy': 'lossguide',\n",
        "    'max_leaves': 73,\n",
        "    'enable_categorical': True,\n",
        "    'n_jobs': -1,\n",
        "    'device': 'cuda',\n",
        "    'tree_method': 'hist'\n",
        "} # 0.9844272567086021\n",
        "\n",
        "cat_params = {\n",
        "    'iterations': 1041,\n",
        "    'learning_rate': 0.08777255350163136,\n",
        "    'depth': 10,\n",
        "    'l2_leaf_reg': 0.1259643500248322,\n",
        "    'bootstrap_type': 'Bayesian',\n",
        "    'random_strength': 4.276181166674371e-08,\n",
        "    'bagging_temperature': 0.35995482350907326,\n",
        "    'od_type': 'Iter',\n",
        "    'od_wait': 39,\n",
        "    \"verbose\": False,\n",
        "    \"allow_writing_files\": False,\n",
        "    \"task_type\": 'GPU',\n",
        "    \"cat_features\": categorical_features\n",
        "} # 0.9841773055825763\n",
        "\n",
        "lgb_params = {\n",
        "    'n_estimators': 2500,\n",
        "    'random_state':42,\n",
        "    'max_bin':1024,\n",
        "    'colsample_bytree':0.6,\n",
        "    'reg_lambda': 80,\n",
        "#     'device': 'gpu',\n",
        "    'verbosity': -1\n",
        "}"
      ],
      "metadata": {
        "_kg_hide-input": false,
        "execution": {
          "iopub.status.busy": "2024-08-26T10:48:41.399465Z",
          "iopub.execute_input": "2024-08-26T10:48:41.400483Z",
          "iopub.status.idle": "2024-08-26T10:48:41.409804Z",
          "shell.execute_reply.started": "2024-08-26T10:48:41.400428Z",
          "shell.execute_reply": "2024-08-26T10:48:41.408507Z"
        },
        "trusted": true,
        "id": "Y_6ryhviy572"
      },
      "execution_count": null,
      "outputs": []
    },
    {
      "cell_type": "code",
      "source": [
        "oof_probs = {}\n",
        "oof_probs['xgb'], _ = model_trainer(XGBClassifier(**xgb_params), X, y, random_state=101)\n",
        "# oof_probs['cat'], _ = model_trainer(CatBoostClassifier(**cat_params), X, y, random_state=101)\n",
        "# oof_probs['lgb'], _ = model_trainer(LGBMClassifier(**lgb_params), X, y, random_state=101)"
      ],
      "metadata": {
        "id": "0YOYIcoPy572"
      },
      "execution_count": null,
      "outputs": []
    },
    {
      "cell_type": "code",
      "source": [
        "oof_preds = {}\n",
        "for model in oof_probs.keys():\n",
        "    oof_preds[model] = np.argmax(np.mean(oof_probs[model], axis=0), axis=1)"
      ],
      "metadata": {
        "execution": {
          "iopub.status.busy": "2024-08-26T10:59:46.543385Z",
          "iopub.status.idle": "2024-08-26T10:59:46.543791Z",
          "shell.execute_reply.started": "2024-08-26T10:59:46.543605Z",
          "shell.execute_reply": "2024-08-26T10:59:46.543624Z"
        },
        "trusted": true,
        "id": "VHI2QZiqy572"
      },
      "execution_count": null,
      "outputs": []
    },
    {
      "cell_type": "markdown",
      "source": [
        "## Regression"
      ],
      "metadata": {
        "id": "0LDu5_q8h5B7"
      }
    },
    {
      "cell_type": "code",
      "source": [
        "## 선형회귀로 대체\n",
        "from sklearn.linear_model import LinearRegression\n",
        "\n",
        "def cleaner_regression(df, numerical_features):\n",
        "    for col in categorical_features:\n",
        "        df[col] = df[col].fillna('missing')\n",
        "        noise_mask = df[col].map(df[col].value_counts(dropna=False)) < 100\n",
        "        df.loc[noise_mask, col] = \"noise\"\n",
        "        df[col] = df[col].astype('category')\n",
        "\n",
        "    for col in numerical_features:\n",
        "        if df[col].isnull().sum() > 0:\n",
        "            other_cols = df.drop(columns=[col]).select_dtypes(include=['number']).columns\n",
        "\n",
        "            other_cols = [c for c in other_cols if df[c].isnull().sum() == 0]\n",
        "\n",
        "            not_null_data = df[df[col].notnull()]\n",
        "            null_data = df[df[col].isnull()]\n",
        "\n",
        "            X_train = not_null_data[other_cols]\n",
        "            y_train = not_null_data[col]\n",
        "\n",
        "            model = LinearRegression()\n",
        "            model.fit(X_train, y_train)\n",
        "\n",
        "            df.loc[df[col].isnull(), col] = model.predict(null_data[other_cols])\n",
        "\n",
        "    return df\n",
        "\n",
        "train_df_regression = cleaner_regression(train_df, numerical_features)\n",
        "test_df_regression = cleaner_regression(test_df, numerical_features)\n"
      ],
      "metadata": {
        "execution": {
          "iopub.status.busy": "2024-08-26T10:36:53.224661Z",
          "iopub.execute_input": "2024-08-26T10:36:53.225038Z",
          "iopub.status.idle": "2024-08-26T10:36:53.258478Z",
          "shell.execute_reply.started": "2024-08-26T10:36:53.224999Z",
          "shell.execute_reply": "2024-08-26T10:36:53.257547Z"
        },
        "trusted": true,
        "id": "3vY8UwDShiL4"
      },
      "execution_count": null,
      "outputs": []
    },
    {
      "cell_type": "code",
      "source": [
        "X = train_df_regression.copy()\n",
        "y = X.pop(target)\n",
        "\n",
        "lab_enc = LabelEncoder().fit(y)\n",
        "y = lab_enc.transform(y)"
      ],
      "metadata": {
        "execution": {
          "iopub.status.busy": "2024-08-26T11:42:44.728155Z",
          "iopub.execute_input": "2024-08-26T11:42:44.728952Z",
          "iopub.status.idle": "2024-08-26T11:42:45.475385Z",
          "shell.execute_reply.started": "2024-08-26T11:42:44.728907Z",
          "shell.execute_reply": "2024-08-26T11:42:45.474456Z"
        },
        "trusted": true,
        "id": "So4CG1FKy8A7"
      },
      "execution_count": null,
      "outputs": []
    },
    {
      "cell_type": "code",
      "source": [
        "def model_report(estimator, X, y, cv=5):\n",
        "    print(\"=\"*80)\n",
        "    print(f\"    Model: {estimator.__class__.__name__}\")\n",
        "    print(\"=\"*80)\n",
        "\n",
        "    X_train, X_test, y_train, y_test = train_test_split(X, y, train_size=1/cv, shuffle=True, stratify=y, random_state=42)\n",
        "\n",
        "    estimator.fit(X_train, y_train)\n",
        "    y_pred = estimator.predict(X_test)\n",
        "    f1 = f1_score(y_test, y_pred)\n",
        "    mcc = matthews_corrcoef(y_test, y_pred)\n",
        "    print(f\"F1 Score : {f1.mean():.6f}\")\n",
        "    print(f\"MCC Score: {mcc.mean():.6f}\")\n",
        "\n",
        "    ConfusionMatrixDisplay(confusion_matrix(y_test, y_pred)).plot()\n",
        "    plt.title(\"Confusion Matrix\")\n",
        "    plt.show()\n",
        "\n",
        "    print()"
      ],
      "metadata": {
        "execution": {
          "iopub.status.busy": "2024-08-26T11:42:45.477237Z",
          "iopub.execute_input": "2024-08-26T11:42:45.477596Z",
          "iopub.status.idle": "2024-08-26T11:42:45.485183Z",
          "shell.execute_reply.started": "2024-08-26T11:42:45.477560Z",
          "shell.execute_reply": "2024-08-26T11:42:45.484034Z"
        },
        "trusted": true,
        "id": "XwxrmD8Py8A7"
      },
      "execution_count": null,
      "outputs": []
    },
    {
      "cell_type": "code",
      "source": [
        "def model_trainer(model, X, y, n_splits=5, random_state=42):\n",
        "    skfold = StratifiedKFold(n_splits=n_splits, shuffle=True, random_state=random_state)\n",
        "\n",
        "    oof_probs, oof_mccs = [], []\n",
        "    print(\"=\"*80)\n",
        "    print(f\"Training {model.__class__.__name__}\")\n",
        "    print(\"=\"*80, end=\"\\n\")\n",
        "    for fold, (train_idx, test_idx) in enumerate(skfold.split(X, y)):\n",
        "        X_train, y_train = X.iloc[train_idx, :], y[train_idx]\n",
        "        X_test, y_test = X.iloc[test_idx, :], y[test_idx]\n",
        "\n",
        "        model.fit(X_train, y_train)\n",
        "        y_pred = model.predict(X_test)\n",
        "\n",
        "        mcc = matthews_corrcoef(y_pred, y_test)\n",
        "        oof_mccs.append(mcc)\n",
        "        oof_probs.append(model.predict_proba(test_df_regression))\n",
        "        print(f\"--- Fold {fold+1} MCC Score: {mcc:.6f}\")\n",
        "    print(f\"\\n---> Mean MCC Score: {np.mean(oof_mccs):.6f} \\xb1 {np.std(oof_mccs):.6f}\\n\\n\")\n",
        "    return oof_probs, oof_mccs"
      ],
      "metadata": {
        "execution": {
          "iopub.status.busy": "2024-08-26T11:42:45.486597Z",
          "iopub.execute_input": "2024-08-26T11:42:45.486991Z",
          "iopub.status.idle": "2024-08-26T11:42:45.499878Z",
          "shell.execute_reply.started": "2024-08-26T11:42:45.486954Z",
          "shell.execute_reply": "2024-08-26T11:42:45.498915Z"
        },
        "trusted": true,
        "id": "h9S-tTXDy8A7"
      },
      "execution_count": null,
      "outputs": []
    },
    {
      "cell_type": "code",
      "source": [
        "xgb_clf = XGBClassifier(enable_categorical=True, device=\"cuda\", tree_method=\"hist\")\n",
        "\n",
        "model_report(xgb_clf, X, y)"
      ],
      "metadata": {
        "execution": {
          "iopub.status.busy": "2024-08-26T11:42:45.501784Z",
          "iopub.execute_input": "2024-08-26T11:42:45.502144Z",
          "iopub.status.idle": "2024-08-26T11:42:55.295767Z",
          "shell.execute_reply.started": "2024-08-26T11:42:45.502109Z",
          "shell.execute_reply": "2024-08-26T11:42:55.293976Z"
        },
        "trusted": true,
        "outputId": "b7671cb1-122e-4007-bc3d-e36e0818e1d9",
        "colab": {
          "base_uri": "https://localhost:8080/",
          "height": 580
        },
        "id": "6cOIEmzey8A8"
      },
      "execution_count": null,
      "outputs": [
        {
          "output_type": "stream",
          "name": "stdout",
          "text": [
            "================================================================================\n",
            "    Model: XGBClassifier\n",
            "================================================================================\n",
            "F1 Score : 0.992520\n",
            "MCC Score: 0.983502\n"
          ]
        },
        {
          "output_type": "display_data",
          "data": {
            "text/plain": [
              "<Figure size 640x480 with 2 Axes>"
            ],
            "image/png": "[encoded data removed]"
          },
          "metadata": {}
        },
        {
          "output_type": "stream",
          "name": "stdout",
          "text": [
            "\n"
          ]
        }
      ]
    },
    {
      "cell_type": "code",
      "source": [
        "cat_clf = CatBoostClassifier(\n",
        "    cat_features=categorical_features,\n",
        "    verbose=False,\n",
        "    allow_writing_files=False,\n",
        "    task_type=\"GPU\"\n",
        ")\n",
        "\n",
        "model_report(cat_clf, X, y)"
      ],
      "metadata": {
        "execution": {
          "iopub.status.busy": "2024-08-26T10:48:03.385154Z",
          "iopub.execute_input": "2024-08-26T10:48:03.385580Z",
          "iopub.status.idle": "2024-08-26T10:48:36.185373Z",
          "shell.execute_reply.started": "2024-08-26T10:48:03.385538Z",
          "shell.execute_reply": "2024-08-26T10:48:36.183506Z"
        },
        "trusted": true,
        "outputId": "4e0b32ad-42b1-40b0-edd8-88bcfb0356bf",
        "colab": {
          "base_uri": "https://localhost:8080/",
          "height": 580
        },
        "id": "t87umwFby8A8"
      },
      "execution_count": null,
      "outputs": [
        {
          "output_type": "stream",
          "name": "stdout",
          "text": [
            "================================================================================\n",
            "    Model: CatBoostClassifier\n",
            "================================================================================\n",
            "F1 Score : 0.992276\n",
            "MCC Score: 0.982960\n"
          ]
        },
        {
          "output_type": "display_data",
          "data": {
            "text/plain": [
              "<Figure size 640x480 with 2 Axes>"
            ],
            "image/png": "[encoded data removed]"
          },
          "metadata": {}
        },
        {
          "output_type": "stream",
          "name": "stdout",
          "text": [
            "\n"
          ]
        }
      ]
    },
    {
      "cell_type": "code",
      "source": [
        "lgb_clf = LGBMClassifier(device='gpu', verbosity=-1)\n",
        "\n",
        "model_report(lgb_clf, X, y)"
      ],
      "metadata": {
        "execution": {
          "iopub.status.busy": "2024-08-26T10:47:03.521806Z",
          "iopub.execute_input": "2024-08-26T10:47:03.522239Z",
          "iopub.status.idle": "2024-08-26T10:47:58.010253Z",
          "shell.execute_reply.started": "2024-08-26T10:47:03.522197Z",
          "shell.execute_reply": "2024-08-26T10:47:58.009101Z"
        },
        "trusted": true,
        "id": "L9AsTj9uy8A8",
        "colab": {
          "base_uri": "https://localhost:8080/",
          "height": 580
        },
        "outputId": "99276504-8646-473b-a0a5-c42847c8634a"
      },
      "execution_count": null,
      "outputs": [
        {
          "output_type": "stream",
          "name": "stdout",
          "text": [
            "================================================================================\n",
            "    Model: LGBMClassifier\n",
            "================================================================================\n",
            "F1 Score : 0.991484\n",
            "MCC Score: 0.981226\n"
          ]
        },
        {
          "output_type": "display_data",
          "data": {
            "text/plain": [
              "<Figure size 640x480 with 2 Axes>"
            ],
            "image/png": "[encoded data removed]"
          },
          "metadata": {}
        },
        {
          "output_type": "stream",
          "name": "stdout",
          "text": [
            "\n"
          ]
        }
      ]
    },
    {
      "cell_type": "code",
      "source": [
        "xgb_params = {\n",
        "    'n_estimators': 2407,\n",
        "    'eta': 0.009462133032592785,\n",
        "    'gamma': 0.2865859948765318,\n",
        "    'max_depth': 31,\n",
        "    'min_child_weight': 47,\n",
        "    'subsample': 0.6956431754146083,\n",
        "    'colsample_bytree': 0.3670732604094118,\n",
        "    'grow_policy': 'lossguide',\n",
        "    'max_leaves': 73,\n",
        "    'enable_categorical': True,\n",
        "    'n_jobs': -1,\n",
        "    'device': 'cuda',\n",
        "    'tree_method': 'hist'\n",
        "} # 0.9844272567086021\n",
        "\n",
        "cat_params = {\n",
        "    'iterations': 1041,\n",
        "    'learning_rate': 0.08777255350163136,\n",
        "    'depth': 10,\n",
        "    'l2_leaf_reg': 0.1259643500248322,\n",
        "    'bootstrap_type': 'Bayesian',\n",
        "    'random_strength': 4.276181166674371e-08,\n",
        "    'bagging_temperature': 0.35995482350907326,\n",
        "    'od_type': 'Iter',\n",
        "    'od_wait': 39,\n",
        "    \"verbose\": False,\n",
        "    \"allow_writing_files\": False,\n",
        "    \"task_type\": 'GPU',\n",
        "    \"cat_features\": categorical_features\n",
        "} # 0.9841773055825763\n",
        "\n",
        "lgb_params = {\n",
        "    'n_estimators': 2500,\n",
        "    'random_state':42,\n",
        "    'max_bin':1024,\n",
        "    'colsample_bytree':0.6,\n",
        "    'reg_lambda': 80,\n",
        "#     'device': 'gpu',\n",
        "    'verbosity': -1\n",
        "}"
      ],
      "metadata": {
        "_kg_hide-input": false,
        "execution": {
          "iopub.status.busy": "2024-08-26T10:48:41.399465Z",
          "iopub.execute_input": "2024-08-26T10:48:41.400483Z",
          "iopub.status.idle": "2024-08-26T10:48:41.409804Z",
          "shell.execute_reply.started": "2024-08-26T10:48:41.400428Z",
          "shell.execute_reply": "2024-08-26T10:48:41.408507Z"
        },
        "trusted": true,
        "id": "SWIBbb_iy8A8"
      },
      "execution_count": null,
      "outputs": []
    },
    {
      "cell_type": "code",
      "source": [
        "oof_probs = {}\n",
        "oof_probs['xgb'], _ = model_trainer(XGBClassifier(**xgb_params), X, y, random_state=101)\n",
        "# oof_probs['cat'], _ = model_trainer(CatBoostClassifier(**cat_params), X, y, random_state=101)\n",
        "# oof_probs['lgb'], _ = model_trainer(LGBMClassifier(**lgb_params), X, y, random_state=101)"
      ],
      "metadata": {
        "id": "ZWIVurOVy8A8"
      },
      "execution_count": null,
      "outputs": []
    },
    {
      "cell_type": "code",
      "source": [
        "oof_preds = {}\n",
        "for model in oof_probs.keys():\n",
        "    oof_preds[model] = np.argmax(np.mean(oof_probs[model], axis=0), axis=1)"
      ],
      "metadata": {
        "execution": {
          "iopub.status.busy": "2024-08-26T10:59:46.543385Z",
          "iopub.status.idle": "2024-08-26T10:59:46.543791Z",
          "shell.execute_reply.started": "2024-08-26T10:59:46.543605Z",
          "shell.execute_reply": "2024-08-26T10:59:46.543624Z"
        },
        "trusted": true,
        "id": "wZoXozExy8A9"
      },
      "execution_count": null,
      "outputs": []
    },
    {
      "cell_type": "markdown",
      "source": [
        "## KNN"
      ],
      "metadata": {
        "id": "lIbQ_6g7h7B1"
      }
    },
    {
      "cell_type": "code",
      "source": [
        "## KNN으로 대체\n",
        "from sklearn.impute import KNNImputer\n",
        "\n",
        "def cleaner_knn(df, numerical_features, n_neighbors=5):\n",
        "\n",
        "    for col in categorical_features:\n",
        "        df[col] = df[col].fillna('missing')\n",
        "        noise_mask = df[col].map(df[col].value_counts()) < 100\n",
        "        df.loc[noise_mask, col] = 'noise'\n",
        "        df[col] = df[col].astype('category')\n",
        "\n",
        "    imputer = KNNImputer(n_neighbors=n_neighbors)\n",
        "    df[numerical_features] = imputer.fit_transform(df[numerical_features])\n",
        "\n",
        "    return df\n",
        "\n",
        "train_df_knn = cleaner_knn(train_df, numerical_features)\n",
        "test_df_knn = cleaner_knn(test_df, numerical_features)"
      ],
      "metadata": {
        "execution": {
          "iopub.status.busy": "2024-08-26T10:36:53.259762Z",
          "iopub.execute_input": "2024-08-26T10:36:53.260082Z",
          "iopub.status.idle": "2024-08-26T10:36:53.671191Z",
          "shell.execute_reply.started": "2024-08-26T10:36:53.260049Z",
          "shell.execute_reply": "2024-08-26T10:36:53.670267Z"
        },
        "trusted": true,
        "id": "DBxZjn9-hiL6"
      },
      "execution_count": null,
      "outputs": []
    },
    {
      "cell_type": "code",
      "source": [
        "X = train_df_knn.copy()\n",
        "y = X.pop(target)\n",
        "\n",
        "lab_enc = LabelEncoder().fit(y)\n",
        "y = lab_enc.transform(y)"
      ],
      "metadata": {
        "execution": {
          "iopub.status.busy": "2024-08-26T11:42:44.728155Z",
          "iopub.execute_input": "2024-08-26T11:42:44.728952Z",
          "iopub.status.idle": "2024-08-26T11:42:45.475385Z",
          "shell.execute_reply.started": "2024-08-26T11:42:44.728907Z",
          "shell.execute_reply": "2024-08-26T11:42:45.474456Z"
        },
        "trusted": true,
        "id": "eupWlO1Gy8tw"
      },
      "execution_count": null,
      "outputs": []
    },
    {
      "cell_type": "code",
      "source": [
        "def model_report(estimator, X, y, cv=5):\n",
        "    print(\"=\"*80)\n",
        "    print(f\"    Model: {estimator.__class__.__name__}\")\n",
        "    print(\"=\"*80)\n",
        "\n",
        "    X_train, X_test, y_train, y_test = train_test_split(X, y, train_size=1/cv, shuffle=True, stratify=y, random_state=42)\n",
        "\n",
        "    estimator.fit(X_train, y_train)\n",
        "    y_pred = estimator.predict(X_test)\n",
        "    f1 = f1_score(y_test, y_pred)\n",
        "    mcc = matthews_corrcoef(y_test, y_pred)\n",
        "    print(f\"F1 Score : {f1.mean():.6f}\")\n",
        "    print(f\"MCC Score: {mcc.mean():.6f}\")\n",
        "\n",
        "    ConfusionMatrixDisplay(confusion_matrix(y_test, y_pred)).plot()\n",
        "    plt.title(\"Confusion Matrix\")\n",
        "    plt.show()\n",
        "\n",
        "    print()"
      ],
      "metadata": {
        "execution": {
          "iopub.status.busy": "2024-08-26T11:42:45.477237Z",
          "iopub.execute_input": "2024-08-26T11:42:45.477596Z",
          "iopub.status.idle": "2024-08-26T11:42:45.485183Z",
          "shell.execute_reply.started": "2024-08-26T11:42:45.477560Z",
          "shell.execute_reply": "2024-08-26T11:42:45.484034Z"
        },
        "trusted": true,
        "id": "mBtIyQhwy8tw"
      },
      "execution_count": null,
      "outputs": []
    },
    {
      "cell_type": "code",
      "source": [
        "def model_trainer(model, X, y, n_splits=5, random_state=42):\n",
        "    skfold = StratifiedKFold(n_splits=n_splits, shuffle=True, random_state=random_state)\n",
        "\n",
        "    oof_probs, oof_mccs = [], []\n",
        "    print(\"=\"*80)\n",
        "    print(f\"Training {model.__class__.__name__}\")\n",
        "    print(\"=\"*80, end=\"\\n\")\n",
        "    for fold, (train_idx, test_idx) in enumerate(skfold.split(X, y)):\n",
        "        X_train, y_train = X.iloc[train_idx, :], y[train_idx]\n",
        "        X_test, y_test = X.iloc[test_idx, :], y[test_idx]\n",
        "\n",
        "        model.fit(X_train, y_train)\n",
        "        y_pred = model.predict(X_test)\n",
        "\n",
        "        mcc = matthews_corrcoef(y_pred, y_test)\n",
        "        oof_mccs.append(mcc)\n",
        "        oof_probs.append(model.predict_proba(test_df_knn))\n",
        "        print(f\"--- Fold {fold+1} MCC Score: {mcc:.6f}\")\n",
        "    print(f\"\\n---> Mean MCC Score: {np.mean(oof_mccs):.6f} \\xb1 {np.std(oof_mccs):.6f}\\n\\n\")\n",
        "    return oof_probs, oof_mccs"
      ],
      "metadata": {
        "execution": {
          "iopub.status.busy": "2024-08-26T11:42:45.486597Z",
          "iopub.execute_input": "2024-08-26T11:42:45.486991Z",
          "iopub.status.idle": "2024-08-26T11:42:45.499878Z",
          "shell.execute_reply.started": "2024-08-26T11:42:45.486954Z",
          "shell.execute_reply": "2024-08-26T11:42:45.498915Z"
        },
        "trusted": true,
        "id": "IXg6OamOy8tx"
      },
      "execution_count": null,
      "outputs": []
    },
    {
      "cell_type": "code",
      "source": [
        "xgb_clf = XGBClassifier(enable_categorical=True, device=\"cuda\", tree_method=\"hist\")\n",
        "\n",
        "model_report(xgb_clf, X, y)"
      ],
      "metadata": {
        "execution": {
          "iopub.status.busy": "2024-08-26T11:42:45.501784Z",
          "iopub.execute_input": "2024-08-26T11:42:45.502144Z",
          "iopub.status.idle": "2024-08-26T11:42:55.295767Z",
          "shell.execute_reply.started": "2024-08-26T11:42:45.502109Z",
          "shell.execute_reply": "2024-08-26T11:42:55.293976Z"
        },
        "trusted": true,
        "outputId": "09919b0b-05ce-47c0-e260-664c81a64a8e",
        "colab": {
          "base_uri": "https://localhost:8080/",
          "height": 580
        },
        "id": "ek90BdFKy8tx"
      },
      "execution_count": null,
      "outputs": [
        {
          "output_type": "stream",
          "name": "stdout",
          "text": [
            "================================================================================\n",
            "    Model: XGBClassifier\n",
            "================================================================================\n",
            "F1 Score : 0.992520\n",
            "MCC Score: 0.983502\n"
          ]
        },
        {
          "output_type": "display_data",
          "data": {
            "text/plain": [
              "<Figure size 640x480 with 2 Axes>"
            ],
            "image/png": "[encoded data removed]"
          },
          "metadata": {}
        },
        {
          "output_type": "stream",
          "name": "stdout",
          "text": [
            "\n"
          ]
        }
      ]
    },
    {
      "cell_type": "code",
      "source": [
        "cat_clf = CatBoostClassifier(\n",
        "    cat_features=categorical_features,\n",
        "    verbose=False,\n",
        "    allow_writing_files=False,\n",
        "    task_type=\"GPU\"\n",
        ")\n",
        "\n",
        "model_report(cat_clf, X, y)"
      ],
      "metadata": {
        "execution": {
          "iopub.status.busy": "2024-08-26T10:48:03.385154Z",
          "iopub.execute_input": "2024-08-26T10:48:03.385580Z",
          "iopub.status.idle": "2024-08-26T10:48:36.185373Z",
          "shell.execute_reply.started": "2024-08-26T10:48:03.385538Z",
          "shell.execute_reply": "2024-08-26T10:48:36.183506Z"
        },
        "trusted": true,
        "outputId": "21c59539-b0e4-48b9-a0cb-14fe484ccb4a",
        "colab": {
          "base_uri": "https://localhost:8080/",
          "height": 580
        },
        "id": "RS6Om7IVy8tx"
      },
      "execution_count": null,
      "outputs": [
        {
          "output_type": "stream",
          "name": "stdout",
          "text": [
            "================================================================================\n",
            "    Model: CatBoostClassifier\n",
            "================================================================================\n",
            "F1 Score : 0.992276\n",
            "MCC Score: 0.982960\n"
          ]
        },
        {
          "output_type": "display_data",
          "data": {
            "text/plain": [
              "<Figure size 640x480 with 2 Axes>"
            ],
            "image/png": "[encoded data removed]"
          },
          "metadata": {}
        },
        {
          "output_type": "stream",
          "name": "stdout",
          "text": [
            "\n"
          ]
        }
      ]
    },
    {
      "cell_type": "code",
      "source": [
        "lgb_clf = LGBMClassifier(device='gpu', verbosity=-1)\n",
        "\n",
        "model_report(lgb_clf, X, y)"
      ],
      "metadata": {
        "execution": {
          "iopub.status.busy": "2024-08-26T10:47:03.521806Z",
          "iopub.execute_input": "2024-08-26T10:47:03.522239Z",
          "iopub.status.idle": "2024-08-26T10:47:58.010253Z",
          "shell.execute_reply.started": "2024-08-26T10:47:03.522197Z",
          "shell.execute_reply": "2024-08-26T10:47:58.009101Z"
        },
        "trusted": true,
        "id": "lGd1WfoTy8ty",
        "colab": {
          "base_uri": "https://localhost:8080/",
          "height": 580
        },
        "outputId": "78f27e53-5cdf-4c79-e353-d41ce26000f9"
      },
      "execution_count": null,
      "outputs": [
        {
          "output_type": "stream",
          "name": "stdout",
          "text": [
            "================================================================================\n",
            "    Model: LGBMClassifier\n",
            "================================================================================\n",
            "F1 Score : 0.991484\n",
            "MCC Score: 0.981226\n"
          ]
        },
        {
          "output_type": "display_data",
          "data": {
            "text/plain": [
              "<Figure size 640x480 with 2 Axes>"
            ],
            "image/png": "[encoded data removed]"
          },
          "metadata": {}
        },
        {
          "output_type": "stream",
          "name": "stdout",
          "text": [
            "\n"
          ]
        }
      ]
    },
    {
      "cell_type": "code",
      "source": [
        "xgb_params = {\n",
        "    'n_estimators': 2407,\n",
        "    'eta': 0.009462133032592785,\n",
        "    'gamma': 0.2865859948765318,\n",
        "    'max_depth': 31,\n",
        "    'min_child_weight': 47,\n",
        "    'subsample': 0.6956431754146083,\n",
        "    'colsample_bytree': 0.3670732604094118,\n",
        "    'grow_policy': 'lossguide',\n",
        "    'max_leaves': 73,\n",
        "    'enable_categorical': True,\n",
        "    'n_jobs': -1,\n",
        "    'device': 'cuda',\n",
        "    'tree_method': 'hist'\n",
        "} # 0.9844272567086021\n",
        "\n",
        "cat_params = {\n",
        "    'iterations': 1041,\n",
        "    'learning_rate': 0.08777255350163136,\n",
        "    'depth': 10,\n",
        "    'l2_leaf_reg': 0.1259643500248322,\n",
        "    'bootstrap_type': 'Bayesian',\n",
        "    'random_strength': 4.276181166674371e-08,\n",
        "    'bagging_temperature': 0.35995482350907326,\n",
        "    'od_type': 'Iter',\n",
        "    'od_wait': 39,\n",
        "    \"verbose\": False,\n",
        "    \"allow_writing_files\": False,\n",
        "    \"task_type\": 'GPU',\n",
        "    \"cat_features\": categorical_features\n",
        "} # 0.9841773055825763\n",
        "\n",
        "lgb_params = {\n",
        "    'n_estimators': 2500,\n",
        "    'random_state':42,\n",
        "    'max_bin':1024,\n",
        "    'colsample_bytree':0.6,\n",
        "    'reg_lambda': 80,\n",
        "#     'device': 'gpu',\n",
        "    'verbosity': -1\n",
        "}"
      ],
      "metadata": {
        "_kg_hide-input": false,
        "execution": {
          "iopub.status.busy": "2024-08-26T10:48:41.399465Z",
          "iopub.execute_input": "2024-08-26T10:48:41.400483Z",
          "iopub.status.idle": "2024-08-26T10:48:41.409804Z",
          "shell.execute_reply.started": "2024-08-26T10:48:41.400428Z",
          "shell.execute_reply": "2024-08-26T10:48:41.408507Z"
        },
        "trusted": true,
        "id": "xpY55gJ2y8ty"
      },
      "execution_count": null,
      "outputs": []
    },
    {
      "cell_type": "code",
      "source": [
        "oof_probs = {}\n",
        "oof_probs['xgb'], _ = model_trainer(XGBClassifier(**xgb_params), X, y, random_state=101)\n",
        "# oof_probs['cat'], _ = model_trainer(CatBoostClassifier(**cat_params), X, y, random_state=101)\n",
        "# oof_probs['lgb'], _ = model_trainer(LGBMClassifier(**lgb_params), X, y, random_state=101)"
      ],
      "metadata": {
        "id": "BeV299Yly8ty"
      },
      "execution_count": null,
      "outputs": []
    },
    {
      "cell_type": "code",
      "source": [
        "oof_preds = {}\n",
        "for model in oof_probs.keys():\n",
        "    oof_preds[model] = np.argmax(np.mean(oof_probs[model], axis=0), axis=1)"
      ],
      "metadata": {
        "execution": {
          "iopub.status.busy": "2024-08-26T10:59:46.543385Z",
          "iopub.status.idle": "2024-08-26T10:59:46.543791Z",
          "shell.execute_reply.started": "2024-08-26T10:59:46.543605Z",
          "shell.execute_reply": "2024-08-26T10:59:46.543624Z"
        },
        "trusted": true,
        "id": "xqbckkASy8ty"
      },
      "execution_count": null,
      "outputs": []
    },
    {
      "cell_type": "markdown",
      "source": [
        "## Mode(범주형 데이터도)"
      ],
      "metadata": {
        "id": "-8UYt5R0YfQl"
      }
    },
    {
      "cell_type": "code",
      "source": [
        "## 최빈값으로 대체\n",
        "def cleaner_mode(df, categorical_features, numerical_features):\n",
        "    for col in categorical_features:\n",
        "        # 범주형 데이터 최빈값으로 처리\n",
        "        df[col] = df[col].fillna(df[col].mode()[0])\n",
        "\n",
        "        # noise 처리\n",
        "        df.loc[df[col].value_counts(dropna=False)[df[col]].values < 100, col] = \"noise\"\n",
        "        df[col] = df[col].astype('category')\n",
        "\n",
        "    for col in numerical_features:\n",
        "        # 수치형 데이터의 결측치를 최빈값으로 대체\n",
        "        df[col] = df[col].fillna(df[col].mode()[0])\n",
        "\n",
        "    return df\n",
        "\n",
        "# train_df와 test_df에 적용\n",
        "train_df_mode = cleaner_mode(train_df, categorical_features, numerical_features)\n",
        "test_df_mode = cleaner_mode(test_df, categorical_features, numerical_features)"
      ],
      "metadata": {
        "execution": {
          "iopub.status.busy": "2024-08-26T10:36:52.779026Z",
          "iopub.execute_input": "2024-08-26T10:36:52.779395Z",
          "iopub.status.idle": "2024-08-26T10:36:53.222433Z",
          "shell.execute_reply.started": "2024-08-26T10:36:52.779358Z",
          "shell.execute_reply": "2024-08-26T10:36:53.221315Z"
        },
        "trusted": true,
        "id": "g8tinasHYboC"
      },
      "execution_count": null,
      "outputs": []
    },
    {
      "cell_type": "code",
      "source": [
        "X = train_df_mode.copy()\n",
        "y = X.pop(target)\n",
        "\n",
        "lab_enc = LabelEncoder().fit(y)\n",
        "y = lab_enc.transform(y)"
      ],
      "metadata": {
        "execution": {
          "iopub.status.busy": "2024-08-26T11:42:44.728155Z",
          "iopub.execute_input": "2024-08-26T11:42:44.728952Z",
          "iopub.status.idle": "2024-08-26T11:42:45.475385Z",
          "shell.execute_reply.started": "2024-08-26T11:42:44.728907Z",
          "shell.execute_reply": "2024-08-26T11:42:45.474456Z"
        },
        "trusted": true,
        "id": "RsQ4fDuRYboD"
      },
      "execution_count": null,
      "outputs": []
    },
    {
      "cell_type": "code",
      "source": [
        "def model_report(estimator, X, y, cv=5):\n",
        "    print(\"=\"*80)\n",
        "    print(f\"    Model: {estimator.__class__.__name__}\")\n",
        "    print(\"=\"*80)\n",
        "\n",
        "    X_train, X_test, y_train, y_test = train_test_split(X, y, train_size=1/cv, shuffle=True, stratify=y, random_state=42)\n",
        "\n",
        "    estimator.fit(X_train, y_train)\n",
        "    y_pred = estimator.predict(X_test)\n",
        "    f1 = f1_score(y_test, y_pred)\n",
        "    mcc = matthews_corrcoef(y_test, y_pred)\n",
        "    print(f\"F1 Score : {f1.mean():.6f}\")\n",
        "    print(f\"MCC Score: {mcc.mean():.6f}\")\n",
        "\n",
        "    ConfusionMatrixDisplay(confusion_matrix(y_test, y_pred)).plot()\n",
        "    plt.title(\"Confusion Matrix\")\n",
        "    plt.show()\n",
        "\n",
        "    print()"
      ],
      "metadata": {
        "execution": {
          "iopub.status.busy": "2024-08-26T11:42:45.477237Z",
          "iopub.execute_input": "2024-08-26T11:42:45.477596Z",
          "iopub.status.idle": "2024-08-26T11:42:45.485183Z",
          "shell.execute_reply.started": "2024-08-26T11:42:45.477560Z",
          "shell.execute_reply": "2024-08-26T11:42:45.484034Z"
        },
        "trusted": true,
        "id": "kSuWwsclYboD"
      },
      "execution_count": null,
      "outputs": []
    },
    {
      "cell_type": "code",
      "source": [
        "def model_trainer(model, X, y, n_splits=5, random_state=42):\n",
        "    skfold = StratifiedKFold(n_splits=n_splits, shuffle=True, random_state=random_state)\n",
        "\n",
        "    oof_probs, oof_mccs = [], []\n",
        "    print(\"=\"*80)\n",
        "    print(f\"Training {model.__class__.__name__}\")\n",
        "    print(\"=\"*80, end=\"\\n\")\n",
        "    for fold, (train_idx, test_idx) in enumerate(skfold.split(X, y)):\n",
        "        X_train, y_train = X.iloc[train_idx, :], y[train_idx]\n",
        "        X_test, y_test = X.iloc[test_idx, :], y[test_idx]\n",
        "\n",
        "        model.fit(X_train, y_train)\n",
        "        y_pred = model.predict(X_test)\n",
        "\n",
        "        mcc = matthews_corrcoef(y_pred, y_test)\n",
        "        oof_mccs.append(mcc)\n",
        "        oof_probs.append(model.predict_proba(test_df_mode))\n",
        "        print(f\"--- Fold {fold+1} MCC Score: {mcc:.6f}\")\n",
        "    print(f\"\\n---> Mean MCC Score: {np.mean(oof_mccs):.6f} \\xb1 {np.std(oof_mccs):.6f}\\n\\n\")\n",
        "    return oof_probs, oof_mccs"
      ],
      "metadata": {
        "execution": {
          "iopub.status.busy": "2024-08-26T11:42:45.486597Z",
          "iopub.execute_input": "2024-08-26T11:42:45.486991Z",
          "iopub.status.idle": "2024-08-26T11:42:45.499878Z",
          "shell.execute_reply.started": "2024-08-26T11:42:45.486954Z",
          "shell.execute_reply": "2024-08-26T11:42:45.498915Z"
        },
        "trusted": true,
        "id": "rUVHNNgdYboD"
      },
      "execution_count": null,
      "outputs": []
    },
    {
      "cell_type": "code",
      "source": [
        "xgb_clf = XGBClassifier(enable_categorical=True, device=\"cuda\", tree_method=\"hist\")\n",
        "\n",
        "model_report(xgb_clf, X, y)"
      ],
      "metadata": {
        "execution": {
          "iopub.status.busy": "2024-08-26T11:42:45.501784Z",
          "iopub.execute_input": "2024-08-26T11:42:45.502144Z",
          "iopub.status.idle": "2024-08-26T11:42:55.295767Z",
          "shell.execute_reply.started": "2024-08-26T11:42:45.502109Z",
          "shell.execute_reply": "2024-08-26T11:42:55.293976Z"
        },
        "trusted": true,
        "outputId": "fabec0a3-e861-497b-c30d-a2910446245c",
        "colab": {
          "base_uri": "https://localhost:8080/",
          "height": 580
        },
        "id": "pDPKUtBkYboD"
      },
      "execution_count": null,
      "outputs": [
        {
          "output_type": "stream",
          "name": "stdout",
          "text": [
            "================================================================================\n",
            "    Model: XGBClassifier\n",
            "================================================================================\n",
            "F1 Score : 0.991554\n",
            "MCC Score: 0.981379\n"
          ]
        },
        {
          "output_type": "display_data",
          "data": {
            "text/plain": [
              "<Figure size 640x480 with 2 Axes>"
            ],
            "image/png": "[encoded data removed]"
          },
          "metadata": {}
        },
        {
          "output_type": "stream",
          "name": "stdout",
          "text": [
            "\n"
          ]
        }
      ]
    },
    {
      "cell_type": "code",
      "source": [
        "cat_clf = CatBoostClassifier(\n",
        "    cat_features=categorical_features,\n",
        "    verbose=False,\n",
        "    allow_writing_files=False,\n",
        "    task_type=\"GPU\"\n",
        ")\n",
        "\n",
        "model_report(cat_clf, X, y)"
      ],
      "metadata": {
        "execution": {
          "iopub.status.busy": "2024-08-26T10:48:03.385154Z",
          "iopub.execute_input": "2024-08-26T10:48:03.385580Z",
          "iopub.status.idle": "2024-08-26T10:48:36.185373Z",
          "shell.execute_reply.started": "2024-08-26T10:48:03.385538Z",
          "shell.execute_reply": "2024-08-26T10:48:36.183506Z"
        },
        "trusted": true,
        "outputId": "d415e761-19dc-4f44-b5f5-e0c11985c389",
        "colab": {
          "base_uri": "https://localhost:8080/",
          "height": 580
        },
        "id": "tHRMiZwnYboE"
      },
      "execution_count": null,
      "outputs": [
        {
          "output_type": "stream",
          "name": "stdout",
          "text": [
            "================================================================================\n",
            "    Model: CatBoostClassifier\n",
            "================================================================================\n",
            "F1 Score : 0.991007\n",
            "MCC Score: 0.980174\n"
          ]
        },
        {
          "output_type": "display_data",
          "data": {
            "text/plain": [
              "<Figure size 640x480 with 2 Axes>"
            ],
            "image/png": "[encoded data removed]"
          },
          "metadata": {}
        },
        {
          "output_type": "stream",
          "name": "stdout",
          "text": [
            "\n"
          ]
        }
      ]
    },
    {
      "cell_type": "code",
      "source": [
        "lgb_clf = LGBMClassifier(device='gpu', verbosity=-1)\n",
        "\n",
        "model_report(lgb_clf, X, y)"
      ],
      "metadata": {
        "execution": {
          "iopub.status.busy": "2024-08-26T10:47:03.521806Z",
          "iopub.execute_input": "2024-08-26T10:47:03.522239Z",
          "iopub.status.idle": "2024-08-26T10:47:58.010253Z",
          "shell.execute_reply.started": "2024-08-26T10:47:03.522197Z",
          "shell.execute_reply": "2024-08-26T10:47:58.009101Z"
        },
        "trusted": true,
        "colab": {
          "base_uri": "https://localhost:8080/",
          "height": 580
        },
        "outputId": "13c71a83-02bd-4c0f-bda3-bdc92d60d2d0",
        "id": "JhP2wYKTYboE"
      },
      "execution_count": null,
      "outputs": [
        {
          "output_type": "stream",
          "name": "stdout",
          "text": [
            "================================================================================\n",
            "    Model: LGBMClassifier\n",
            "================================================================================\n",
            "F1 Score : 0.990339\n",
            "MCC Score: 0.978713\n"
          ]
        },
        {
          "output_type": "display_data",
          "data": {
            "text/plain": [
              "<Figure size 640x480 with 2 Axes>"
            ],
            "image/png": "[encoded data removed]"
          },
          "metadata": {}
        },
        {
          "output_type": "stream",
          "name": "stdout",
          "text": [
            "\n"
          ]
        }
      ]
    },
    {
      "cell_type": "code",
      "source": [
        "xgb_params = {\n",
        "    'n_estimators': 2407,\n",
        "    'eta': 0.009462133032592785,\n",
        "    'gamma': 0.2865859948765318,\n",
        "    'max_depth': 31,\n",
        "    'min_child_weight': 47,\n",
        "    'subsample': 0.6956431754146083,\n",
        "    'colsample_bytree': 0.3670732604094118,\n",
        "    'grow_policy': 'lossguide',\n",
        "    'max_leaves': 73,\n",
        "    'enable_categorical': True,\n",
        "    'n_jobs': -1,\n",
        "    'device': 'cuda',\n",
        "    'tree_method': 'hist'\n",
        "} # 0.9844272567086021\n",
        "\n",
        "cat_params = {\n",
        "    'iterations': 1041,\n",
        "    'learning_rate': 0.08777255350163136,\n",
        "    'depth': 10,\n",
        "    'l2_leaf_reg': 0.1259643500248322,\n",
        "    'bootstrap_type': 'Bayesian',\n",
        "    'random_strength': 4.276181166674371e-08,\n",
        "    'bagging_temperature': 0.35995482350907326,\n",
        "    'od_type': 'Iter',\n",
        "    'od_wait': 39,\n",
        "    \"verbose\": False,\n",
        "    \"allow_writing_files\": False,\n",
        "    \"task_type\": 'GPU',\n",
        "    \"cat_features\": categorical_features\n",
        "} # 0.9841773055825763\n",
        "\n",
        "lgb_params = {\n",
        "    'n_estimators': 2500,\n",
        "    'random_state':42,\n",
        "    'max_bin':1024,\n",
        "    'colsample_bytree':0.6,\n",
        "    'reg_lambda': 80,\n",
        "#     'device': 'gpu',\n",
        "    'verbosity': -1\n",
        "}"
      ],
      "metadata": {
        "_kg_hide-input": false,
        "execution": {
          "iopub.status.busy": "2024-08-26T10:48:41.399465Z",
          "iopub.execute_input": "2024-08-26T10:48:41.400483Z",
          "iopub.status.idle": "2024-08-26T10:48:41.409804Z",
          "shell.execute_reply.started": "2024-08-26T10:48:41.400428Z",
          "shell.execute_reply": "2024-08-26T10:48:41.408507Z"
        },
        "trusted": true,
        "id": "VAN4f8j_YboE"
      },
      "execution_count": null,
      "outputs": []
    },
    {
      "cell_type": "code",
      "source": [
        "oof_probs = {}\n",
        "oof_probs['xgb'], _ = model_trainer(XGBClassifier(**xgb_params), X, y, random_state=101)\n",
        "# oof_probs['cat'], _ = model_trainer(CatBoostClassifier(**cat_params), X, y, random_state=101)\n",
        "# oof_probs['lgb'], _ = model_trainer(LGBMClassifier(**lgb_params), X, y, random_state=101)"
      ],
      "metadata": {
        "id": "B7tyB7nLYboE"
      },
      "execution_count": null,
      "outputs": []
    },
    {
      "cell_type": "code",
      "source": [
        "oof_preds = {}\n",
        "for model in oof_probs.keys():\n",
        "    oof_preds[model] = np.argmax(np.mean(oof_probs[model], axis=0), axis=1)"
      ],
      "metadata": {
        "execution": {
          "iopub.status.busy": "2024-08-26T10:59:46.543385Z",
          "iopub.status.idle": "2024-08-26T10:59:46.543791Z",
          "shell.execute_reply.started": "2024-08-26T10:59:46.543605Z",
          "shell.execute_reply": "2024-08-26T10:59:46.543624Z"
        },
        "trusted": true,
        "id": "eZPnd5iNYboF"
      },
      "execution_count": null,
      "outputs": []
    },
    {
      "cell_type": "markdown",
      "source": [
        "# KNN(범주형도)"
      ],
      "metadata": {
        "id": "kKe6HmidriYo"
      }
    },
    {
      "cell_type": "code",
      "source": [
        "# https://gist.github.com/YohanObadia/b310793cd22a4427faaadd9c381a5850\n",
        "import numpy as np\n",
        "import pandas as pd\n",
        "from collections import defaultdict\n",
        "from scipy.stats import hmean\n",
        "from scipy.spatial.distance import cdist\n",
        "from scipy import stats\n",
        "import numbers\n",
        "\n",
        "\n",
        "def weighted_hamming(data):\n",
        "    \"\"\" Compute weighted hamming distance on categorical variables. For one variable, it is equal to 1 if\n",
        "        the values between point A and point B are different, else it is equal the relative frequency of the\n",
        "        distribution of the value across the variable. For multiple variables, the harmonic mean is computed\n",
        "        up to a constant factor.\n",
        "        @params:\n",
        "            - data = a pandas data frame of categorical variables\n",
        "        @returns:\n",
        "            - distance_matrix = a distance matrix with pairwise distance for all attributes\n",
        "    \"\"\"\n",
        "    categories_dist = []\n",
        "\n",
        "    for category in data:\n",
        "        X = pd.get_dummies(data[category])\n",
        "        X_mean = X * X.mean()\n",
        "        X_dot = X_mean.dot(X.transpose())\n",
        "        X_np = np.asarray(X_dot.replace(0,1,inplace=False))\n",
        "        categories_dist.append(X_np)\n",
        "    categories_dist = np.array(categories_dist)\n",
        "    distances = hmean(categories_dist, axis=0)\n",
        "    return distances\n",
        "\n",
        "\n",
        "def distance_matrix(data, numeric_distance = \"euclidean\", categorical_distance = \"jaccard\"):\n",
        "    \"\"\" Compute the pairwise distance attribute by attribute in order to account for different variables type:\n",
        "        - Continuous\n",
        "        - Categorical\n",
        "        For ordinal values, provide a numerical representation taking the order into account.\n",
        "        Categorical variables are transformed into a set of binary ones.\n",
        "        If both continuous and categorical distance are provided, a Gower-like distance is computed and the numeric\n",
        "        variables are all normalized in the process.\n",
        "        If there are missing values, the mean is computed for numerical attributes and the mode for categorical ones.\n",
        "\n",
        "        Note: If weighted-hamming distance is chosen, the computation time increases a lot since it is not coded in C\n",
        "        like other distance metrics provided by scipy.\n",
        "        @params:\n",
        "            - data                  = pandas dataframe to compute distances on.\n",
        "            - numeric_distances     = the metric to apply to continuous attributes.\n",
        "                                      \"euclidean\" and \"cityblock\" available.\n",
        "                                      Default = \"euclidean\"\n",
        "            - categorical_distances = the metric to apply to binary attributes.\n",
        "                                      \"jaccard\", \"hamming\", \"weighted-hamming\" and \"euclidean\"\n",
        "                                      available. Default = \"jaccard\"\n",
        "        @returns:\n",
        "            - the distance matrix\n",
        "    \"\"\"\n",
        "    possible_continuous_distances = [\"euclidean\", \"cityblock\"]\n",
        "    possible_binary_distances = [\"euclidean\", \"jaccard\", \"hamming\", \"weighted-hamming\"]\n",
        "    number_of_variables = data.shape[1]\n",
        "    number_of_observations = data.shape[0]\n",
        "\n",
        "    # Get the type of each attribute (Numeric or categorical)\n",
        "    is_numeric = [all(isinstance(n, numbers.Number) for n in data.iloc[:, i]) for i, x in enumerate(data)]\n",
        "    is_all_numeric = sum(is_numeric) == len(is_numeric)\n",
        "    is_all_categorical = sum(is_numeric) == 0\n",
        "    is_mixed_type = not is_all_categorical and not is_all_numeric\n",
        "\n",
        "# Check the content of the distances parameter\n",
        "    if numeric_distance not in possible_continuous_distances:\n",
        "        print(\"The continuous distance \" + numeric_distance + \" is not supported.\")\n",
        "        return None\n",
        "    elif categorical_distance not in possible_binary_distances:\n",
        "        print(\"The binary distance \" + categorical_distance + \" is not supported.\")\n",
        "        return None\n",
        "\n",
        "    # Separate the data frame into categorical and numeric attributes and normalize numeric data\n",
        "    if is_mixed_type:\n",
        "        number_of_numeric_var = sum(is_numeric)\n",
        "        number_of_categorical_var = number_of_variables - number_of_numeric_var\n",
        "        data_numeric = data.iloc[:, is_numeric]\n",
        "        data_numeric = (data_numeric - data_numeric.mean()) / (data_numeric.max() - data_numeric.min())\n",
        "        data_categorical = data.iloc[:, [not x for x in is_numeric]]\n",
        "\n",
        "    # Replace missing values with column mean for numeric values and mode for categorical ones. With the mode, it\n",
        "    # triggers a warning: \"SettingWithCopyWarning: A value is trying to be set on a copy of a slice from a DataFrame\"\n",
        "    # but the value are properly replaced\n",
        "    if is_mixed_type:\n",
        "        data_numeric.fillna(data_numeric.mean(), inplace=True)\n",
        "        for x in data_categorical:\n",
        "            data_categorical[x].fillna(data_categorical[x].mode()[0], inplace=True)\n",
        "    elif is_all_numeric:\n",
        "        data.fillna(data.mean(), inplace=True)\n",
        "    else:\n",
        "        for x in data:\n",
        "            data[x].fillna(data[x].mode()[0], inplace=True)\n",
        "\n",
        "    # \"Dummifies\" categorical variables in place\n",
        "    if not is_all_numeric and not (categorical_distance == 'hamming' or categorical_distance == 'weighted-hamming'):\n",
        "        if is_mixed_type:\n",
        "            data_categorical = pd.get_dummies(data_categorical)\n",
        "        else:\n",
        "            data = pd.get_dummies(data)\n",
        "    elif not is_all_numeric and categorical_distance == 'hamming':\n",
        "        if is_mixed_type:\n",
        "            data_categorical = pd.DataFrame([pd.factorize(data_categorical[x])[0] for x in data_categorical]).transpose()\n",
        "        else:\n",
        "            data = pd.DataFrame([pd.factorize(data[x])[0] for x in data]).transpose()\n",
        "\n",
        "    if is_all_numeric:\n",
        "        result_matrix = cdist(data, data, metric=numeric_distance)\n",
        "    elif is_all_categorical:\n",
        "        if categorical_distance == \"weighted-hamming\":\n",
        "            result_matrix = weighted_hamming(data)\n",
        "        else:\n",
        "            result_matrix = cdist(data, data, metric=categorical_distance)\n",
        "    else:\n",
        "        result_numeric = cdist(data_numeric, data_numeric, metric=numeric_distance)\n",
        "        if categorical_distance == \"weighted-hamming\":\n",
        "            result_categorical = weighted_hamming(data_categorical)\n",
        "        else:\n",
        "            result_categorical = cdist(data_categorical, data_categorical, metric=categorical_distance)\n",
        "        result_matrix = np.array([[1.0*(result_numeric[i, j] * number_of_numeric_var + result_categorical[i, j] *\n",
        "                               number_of_categorical_var) / number_of_variables for j in range(number_of_observations)] for i in range(number_of_observations)])\n",
        "\n",
        "    # Fill the diagonal with NaN values\n",
        "    np.fill_diagonal(result_matrix, np.nan)\n",
        "\n",
        "    return pd.DataFrame(result_matrix)\n",
        "\n",
        "\n",
        "def knn_impute(target, attributes, k_neighbors, aggregation_method=\"mean\", numeric_distance=\"euclidean\",\n",
        "               categorical_distance=\"jaccard\", missing_neighbors_threshold = 0.5):\n",
        "    \"\"\" Replace the missing values within the target variable based on its k nearest neighbors identified with the\n",
        "        attributes variables. If more than 50% of its neighbors are also missing values, the value is not modified and\n",
        "        remains missing. If there is a problem in the parameters provided, returns None.\n",
        "        If to many neighbors also have missing values, leave the missing value of interest unchanged.\n",
        "        @params:\n",
        "            - target                        = a vector of n values with missing values that you want to impute. The length has\n",
        "                                              to be at least n = 3.\n",
        "            - attributes                    = a data frame of attributes with n rows to match the target variable\n",
        "            - k_neighbors                   = the number of neighbors to look at to impute the missing values. It has to be a\n",
        "                                              value between 1 and n.\n",
        "            - aggregation_method            = how to aggregate the values from the nearest neighbors (mean, median, mode)\n",
        "                                              Default = \"mean\"\n",
        "            - numeric_distances             = the metric to apply to continuous attributes.\n",
        "                                              \"euclidean\" and \"cityblock\" available.\n",
        "                                              Default = \"euclidean\"\n",
        "            - categorical_distances         = the metric to apply to binary attributes.\n",
        "                                              \"jaccard\", \"hamming\", \"weighted-hamming\" and \"euclidean\"\n",
        "                                              available. Default = \"jaccard\"\n",
        "            - missing_neighbors_threshold   = minimum of neighbors among the k ones that are not also missing to infer\n",
        "                                              the correct value. Default = 0.5\n",
        "        @returns:\n",
        "            target_completed        = the vector of target values with missing value replaced. If there is a problem\n",
        "                                      in the parameters, return None\n",
        "    \"\"\"\n",
        "\n",
        "    # Get useful variables\n",
        "    possible_aggregation_method = [\"mean\", \"median\", \"mode\"]\n",
        "    number_observations = len(target)\n",
        "    is_target_numeric = all(isinstance(n, numbers.Number) for n in target)\n",
        "\n",
        "    # Check for possible errors\n",
        "    if number_observations < 3:\n",
        "        print(\"Not enough observations.\")\n",
        "        return None\n",
        "    if attributes.shape[0] != number_observations:\n",
        "        print(\"The number of observations in the attributes variable is not matching the target variable length.\")\n",
        "        return None\n",
        "    if k_neighbors > number_observations or k_neighbors < 1:\n",
        "        print(\"The range of the number of neighbors is incorrect.\")\n",
        "        return None\n",
        "    if aggregation_method not in possible_aggregation_method:\n",
        "        print(\"The aggregation method is incorrect.\")\n",
        "        return None\n",
        "    if not is_target_numeric and aggregation_method != \"mode\":\n",
        "        print(\"The only method allowed for categorical target variable is the mode.\")\n",
        "        return None\n",
        "\n",
        "    # Make sure the data are in the right format\n",
        "    target = pd.DataFrame(target)\n",
        "    attributes = pd.DataFrame(attributes)\n",
        "\n",
        "    # Get the distance matrix and check whether no error was triggered when computing it\n",
        "    distances = distance_matrix(attributes, numeric_distance, categorical_distance)\n",
        "    if distances is None:\n",
        "        return None\n",
        "\n",
        "    # Get the closest points and compute the correct aggregation method\n",
        "    for i, value in enumerate(target.iloc[:, 0]):\n",
        "        if pd.isnull(value):\n",
        "            order = distances.iloc[i,:].values.argsort()[:k_neighbors]\n",
        "            closest_to_target = target.iloc[order, :]\n",
        "            missing_neighbors = [x for x  in closest_to_target.isnull().iloc[:, 0]]\n",
        "            # Compute the right aggregation method if at least more than 50% of the closest neighbors are not missing\n",
        "            if sum(missing_neighbors) >= missing_neighbors_threshold * k_neighbors:\n",
        "                continue\n",
        "            elif aggregation_method == \"mean\":\n",
        "                target.iloc[i] = np.ma.mean(np.ma.masked_array(closest_to_target,np.isnan(closest_to_target)))\n",
        "            elif aggregation_method == \"median\":\n",
        "                target.iloc[i] = np.ma.median(np.ma.masked_array(closest_to_target,np.isnan(closest_to_target)))\n",
        "            else:\n",
        "                target.iloc[i] = stats.mode(closest_to_target, nan_policy='omit')[0][0]\n",
        "\n",
        "    return target"
      ],
      "metadata": {
        "id": "cTLB77n0JO05"
      },
      "execution_count": null,
      "outputs": []
    },
    {
      "cell_type": "code",
      "source": [
        "import numpy as np\n",
        "import pandas as pd\n",
        "from joblib import Parallel, delayed\n",
        "\n",
        "# 이미 정의된 knn_impute 함수를 사용할 것입니다.\n",
        "def cleaner_knn(df, categorical_features, numerical_features, n_neighbors=5):\n",
        "    # 범주형 및 수치형 데이터를 포함한 전체 데이터 프레임을 사용하여 결측치를 처리\n",
        "    for col in categorical_features:\n",
        "        # categorical_features 내의 각 열에 대해 결측값을 'missing'으로 채움\n",
        "        df[col] = df[col].fillna('missing')\n",
        "\n",
        "        # noise 처리를 위한 로직\n",
        "        noise_mask = df[col].map(df[col].value_counts()) < 100\n",
        "        df.loc[noise_mask, col] = 'noise'\n",
        "        df[col] = df[col].astype('category')\n",
        "\n",
        "    # 수치형 데이터와 범주형 데이터를 모두 사용하는 knn_impute 호출\n",
        "    # 수치형 데이터는 유클리드 거리, 범주형 데이터는 해밍 거리로 결측치 처리\n",
        "    for col in numerical_features:\n",
        "        # 수치형 데이터만 따로 처리\n",
        "        df[col] = knn_impute(\n",
        "            target=df[col],\n",
        "            attributes=df.drop(columns=[col]),\n",
        "            aggregation_method=\"median\",\n",
        "            k_neighbors=n_neighbors,\n",
        "            numeric_distance=\"euclidean\",\n",
        "            categorical_distance=\"hamming\",\n",
        "            missing_neighbors_threshold=0.8\n",
        "        )\n",
        "\n",
        "    for col in categorical_features:\n",
        "        # 범주형 데이터만 따로 처리\n",
        "        df[col] = knn_impute(\n",
        "            target=df[col],\n",
        "            attributes=df.drop(columns=[col]),\n",
        "            aggregation_method=\"mode\",  # 범주형 데이터는 mode로 결측치 대체\n",
        "            k_neighbors=n_neighbors,\n",
        "            numeric_distance=\"euclidean\",\n",
        "            categorical_distance=\"hamming\",\n",
        "            missing_neighbors_threshold=0.8\n",
        "        )\n",
        "\n",
        "    return df\n",
        "\n",
        "def batch_knn_impute(df, categorical_features, numerical_features, batch_size=1000, n_neighbors=5):\n",
        "    # 데이터프레임을 배치 단위로 나누기\n",
        "    for i in range(0, df.shape[0], batch_size):\n",
        "        batch_df = df.iloc[i:i+batch_size].copy()\n",
        "\n",
        "        # 각 배치에 대해 KNN 적용\n",
        "        cleaner_knn(batch_df, categorical_features, numerical_features, n_neighbors=n_neighbors)\n",
        "\n",
        "        # 결과를 원래 데이터프레임에 할당\n",
        "        df.iloc[i:i+batch_size] = batch_df\n",
        "    return df\n",
        "\n",
        "# train_df와 test_df에 배치 처리 적용\n",
        "train_df_knn = batch_knn_impute(train_df, categorical_features, numerical_features)\n",
        "test_df_knn = batch_knn_impute(test_df, categorical_features, numerical_features)\n",
        "\n"
      ],
      "metadata": {
        "id": "3nv8Ys-frnFp"
      },
      "execution_count": null,
      "outputs": []
    },
    {
      "cell_type": "code",
      "source": [
        "X = train_df_mode.copy()\n",
        "y = X.pop(target)\n",
        "\n",
        "lab_enc = LabelEncoder().fit(y)\n",
        "y = lab_enc.transform(y)"
      ],
      "metadata": {
        "execution": {
          "iopub.status.busy": "2024-08-26T11:42:44.728155Z",
          "iopub.execute_input": "2024-08-26T11:42:44.728952Z",
          "iopub.status.idle": "2024-08-26T11:42:45.475385Z",
          "shell.execute_reply.started": "2024-08-26T11:42:44.728907Z",
          "shell.execute_reply": "2024-08-26T11:42:45.474456Z"
        },
        "trusted": true,
        "id": "YSwq2ZhUKa6h"
      },
      "execution_count": null,
      "outputs": []
    },
    {
      "cell_type": "code",
      "source": [
        "def model_report(estimator, X, y, cv=5):\n",
        "    print(\"=\"*80)\n",
        "    print(f\"    Model: {estimator.__class__.__name__}\")\n",
        "    print(\"=\"*80)\n",
        "\n",
        "    X_train, X_test, y_train, y_test = train_test_split(X, y, train_size=1/cv, shuffle=True, stratify=y, random_state=42)\n",
        "\n",
        "    estimator.fit(X_train, y_train)\n",
        "    y_pred = estimator.predict(X_test)\n",
        "    f1 = f1_score(y_test, y_pred)\n",
        "    mcc = matthews_corrcoef(y_test, y_pred)\n",
        "    print(f\"F1 Score : {f1.mean():.6f}\")\n",
        "    print(f\"MCC Score: {mcc.mean():.6f}\")\n",
        "\n",
        "    ConfusionMatrixDisplay(confusion_matrix(y_test, y_pred)).plot()\n",
        "    plt.title(\"Confusion Matrix\")\n",
        "    plt.show()\n",
        "\n",
        "    print()"
      ],
      "metadata": {
        "execution": {
          "iopub.status.busy": "2024-08-26T11:42:45.477237Z",
          "iopub.execute_input": "2024-08-26T11:42:45.477596Z",
          "iopub.status.idle": "2024-08-26T11:42:45.485183Z",
          "shell.execute_reply.started": "2024-08-26T11:42:45.477560Z",
          "shell.execute_reply": "2024-08-26T11:42:45.484034Z"
        },
        "trusted": true,
        "id": "ficXPdOuKa6i"
      },
      "execution_count": null,
      "outputs": []
    },
    {
      "cell_type": "code",
      "source": [
        "def model_trainer(model, X, y, n_splits=5, random_state=42):\n",
        "    skfold = StratifiedKFold(n_splits=n_splits, shuffle=True, random_state=random_state)\n",
        "\n",
        "    oof_probs, oof_mccs = [], []\n",
        "    print(\"=\"*80)\n",
        "    print(f\"Training {model.__class__.__name__}\")\n",
        "    print(\"=\"*80, end=\"\\n\")\n",
        "    for fold, (train_idx, test_idx) in enumerate(skfold.split(X, y)):\n",
        "        X_train, y_train = X.iloc[train_idx, :], y[train_idx]\n",
        "        X_test, y_test = X.iloc[test_idx, :], y[test_idx]\n",
        "\n",
        "        model.fit(X_train, y_train)\n",
        "        y_pred = model.predict(X_test)\n",
        "\n",
        "        mcc = matthews_corrcoef(y_pred, y_test)\n",
        "        oof_mccs.append(mcc)\n",
        "        oof_probs.append(model.predict_proba(test_df_mode))\n",
        "        print(f\"--- Fold {fold+1} MCC Score: {mcc:.6f}\")\n",
        "    print(f\"\\n---> Mean MCC Score: {np.mean(oof_mccs):.6f} \\xb1 {np.std(oof_mccs):.6f}\\n\\n\")\n",
        "    return oof_probs, oof_mccs"
      ],
      "metadata": {
        "execution": {
          "iopub.status.busy": "2024-08-26T11:42:45.486597Z",
          "iopub.execute_input": "2024-08-26T11:42:45.486991Z",
          "iopub.status.idle": "2024-08-26T11:42:45.499878Z",
          "shell.execute_reply.started": "2024-08-26T11:42:45.486954Z",
          "shell.execute_reply": "2024-08-26T11:42:45.498915Z"
        },
        "trusted": true,
        "id": "wjakkqi_Ka6i"
      },
      "execution_count": null,
      "outputs": []
    },
    {
      "cell_type": "code",
      "source": [
        "xgb_clf = XGBClassifier(enable_categorical=True, device=\"cuda\", tree_method=\"hist\")\n",
        "\n",
        "model_report(xgb_clf, X, y)"
      ],
      "metadata": {
        "execution": {
          "iopub.status.busy": "2024-08-26T11:42:45.501784Z",
          "iopub.execute_input": "2024-08-26T11:42:45.502144Z",
          "iopub.status.idle": "2024-08-26T11:42:55.295767Z",
          "shell.execute_reply.started": "2024-08-26T11:42:45.502109Z",
          "shell.execute_reply": "2024-08-26T11:42:55.293976Z"
        },
        "trusted": true,
        "id": "DgcwJzI7Ka6i"
      },
      "execution_count": null,
      "outputs": []
    },
    {
      "cell_type": "code",
      "source": [
        "cat_clf = CatBoostClassifier(\n",
        "    cat_features=categorical_features,\n",
        "    verbose=False,\n",
        "    allow_writing_files=False,\n",
        "    task_type=\"GPU\"\n",
        ")\n",
        "\n",
        "model_report(cat_clf, X, y)"
      ],
      "metadata": {
        "execution": {
          "iopub.status.busy": "2024-08-26T10:48:03.385154Z",
          "iopub.execute_input": "2024-08-26T10:48:03.385580Z",
          "iopub.status.idle": "2024-08-26T10:48:36.185373Z",
          "shell.execute_reply.started": "2024-08-26T10:48:03.385538Z",
          "shell.execute_reply": "2024-08-26T10:48:36.183506Z"
        },
        "trusted": true,
        "id": "YaLcqPIlKa6i"
      },
      "execution_count": null,
      "outputs": []
    },
    {
      "cell_type": "code",
      "source": [
        "lgb_clf = LGBMClassifier(device='gpu', verbosity=-1)\n",
        "\n",
        "model_report(lgb_clf, X, y)"
      ],
      "metadata": {
        "execution": {
          "iopub.status.busy": "2024-08-26T10:47:03.521806Z",
          "iopub.execute_input": "2024-08-26T10:47:03.522239Z",
          "iopub.status.idle": "2024-08-26T10:47:58.010253Z",
          "shell.execute_reply.started": "2024-08-26T10:47:03.522197Z",
          "shell.execute_reply": "2024-08-26T10:47:58.009101Z"
        },
        "trusted": true,
        "id": "Vsh567OqKa6j"
      },
      "execution_count": null,
      "outputs": []
    },
    {
      "cell_type": "markdown",
      "source": [
        "# Hyperparameter Tuning"
      ],
      "metadata": {
        "id": "-Czy5QnahiMU"
      }
    },
    {
      "cell_type": "code",
      "source": [
        "# import optuna\n",
        "# from optuna.samplers import TPESampler"
      ],
      "metadata": {
        "_kg_hide-input": true,
        "execution": {
          "iopub.status.busy": "2024-08-15T14:00:41.742005Z",
          "iopub.execute_input": "2024-08-15T14:00:41.742277Z",
          "iopub.status.idle": "2024-08-15T14:00:41.746263Z",
          "shell.execute_reply.started": "2024-08-15T14:00:41.742252Z",
          "shell.execute_reply": "2024-08-15T14:00:41.745261Z"
        },
        "trusted": true,
        "id": "tQmOawtPhiMW"
      },
      "execution_count": null,
      "outputs": []
    },
    {
      "cell_type": "code",
      "source": [
        "# X_train, X_test, y_train, y_test = train_test_split(X, y, train_size=0.2, shuffle=True, stratify=y, random_state=101)"
      ],
      "metadata": {
        "_kg_hide-input": true,
        "execution": {
          "iopub.status.busy": "2024-08-15T14:00:41.747395Z",
          "iopub.execute_input": "2024-08-15T14:00:41.747762Z",
          "iopub.status.idle": "2024-08-15T14:00:41.75924Z",
          "shell.execute_reply.started": "2024-08-15T14:00:41.747732Z",
          "shell.execute_reply": "2024-08-15T14:00:41.758299Z"
        },
        "trusted": true,
        "id": "AhQfTGcehiMX"
      },
      "execution_count": null,
      "outputs": []
    },
    {
      "cell_type": "code",
      "source": [
        "# def objective(trial):\n",
        "#     params = {\n",
        "#         \"n_estimators\": trial.suggest_int(\"n_estimators\", 2000, 3000),\n",
        "#         \"eta\": trial.suggest_float(\"eta\", 1e-3, 1e-2),\n",
        "#         \"gamma\": trial.suggest_float(\"gamma\", 0, 5.0),\n",
        "#         \"max_depth\": trial.suggest_int(\"max_depth\", 2, 32),\n",
        "#         \"min_child_weight\": trial.suggest_int(\"min_child_weight\", 40, 100),\n",
        "#         \"subsample\": trial.suggest_float(\"subsample\", 0.1, 1.0),\n",
        "#         \"colsample_bytree\": trial.suggest_float(\"colsample_bytree\", 0.1, 1.0),\n",
        "#         \"grow_policy\": trial.suggest_categorical(\"grow_policy\", [\"depthwise\", \"lossguide\"]),\n",
        "#         \"max_leaves\": trial.suggest_int(\"max_leaves\", 16, 84)\n",
        "#     }\n",
        "#     params['device'] = 'cuda'\n",
        "#     params['tree_method'] = 'hist'\n",
        "#     params['enable_categorical'] = True\n",
        "\n",
        "#     model = XGBClassifier(**params)\n",
        "#     model.fit(X_train, y_train)\n",
        "\n",
        "#     y_pred = model.predict(X_test)\n",
        "#     return matthews_corrcoef(y_test, y_pred)\n",
        "\n",
        "\n",
        "# study_name = \"xgb\"\n",
        "# storage = \"sqlite:///xgb.db\"\n",
        "\n",
        "# study = optuna.create_study(storage=storage,\n",
        "#                             study_name=study_name,\n",
        "#                             direction=\"maximize\",\n",
        "# #                             sampler=TPESampler(),\n",
        "#                             load_if_exists=True)\n",
        "\n",
        "# study.optimize(objective, n_trials=100)\n",
        "\n",
        "# print(study.best_params)\n"
      ],
      "metadata": {
        "scrolled": true,
        "_kg_hide-input": true,
        "_kg_hide-output": true,
        "execution": {
          "iopub.status.busy": "2024-08-15T14:00:41.76036Z",
          "iopub.execute_input": "2024-08-15T14:00:41.760645Z",
          "iopub.status.idle": "2024-08-15T14:00:41.771566Z",
          "shell.execute_reply.started": "2024-08-15T14:00:41.760623Z",
          "shell.execute_reply": "2024-08-15T14:00:41.770642Z"
        },
        "trusted": true,
        "id": "MCBS9EBUhiMZ"
      },
      "execution_count": null,
      "outputs": []
    },
    {
      "cell_type": "code",
      "source": [
        "# def objective(trial):\n",
        "#     params = {\n",
        "#         \"iterations\": trial.suggest_int(\"iterations\", 100, 3000),\n",
        "#         \"learning_rate\": trial.suggest_float(\"learning_rate\", 1e-3, 1e-1, log=True),\n",
        "#         \"depth\": trial.suggest_int(\"depth\", 4, 10),\n",
        "#         \"l2_leaf_reg\": trial.suggest_float(\"l2_leaf_reg\", 1e-8, 100.0, log=True),\n",
        "#         \"bootstrap_type\": trial.suggest_categorical(\"bootstrap_type\", [\"Bayesian\"]),\n",
        "#         \"random_strength\": trial.suggest_float(\"random_strength\", 1e-8, 10.0, log=True),\n",
        "#         \"bagging_temperature\": trial.suggest_float(\"bagging_temperature\", 0.0, 10.0),\n",
        "#         \"od_type\": trial.suggest_categorical(\"od_type\", [\"IncToDec\", \"Iter\"]),\n",
        "#         \"od_wait\": trial.suggest_int(\"od_wait\", 10, 50),\n",
        "#         \"verbose\": False,\n",
        "#         \"allow_writing_files\": False,\n",
        "#         \"task_type\": 'GPU',\n",
        "#         \"cat_features\": categorical_features\n",
        "#     }\n",
        "\n",
        "#     model = CatBoostClassifier(**params)\n",
        "\n",
        "#     model.fit(X_train, y_train)\n",
        "#     y_pred = model.predict(X_test)\n",
        "#     return matthews_corrcoef(y_test, y_pred)\n",
        "\n",
        "\n",
        "# study_name = \"cat\"\n",
        "# storage = \"sqlite:///cat.db\"\n",
        "\n",
        "# study = optuna.create_study(storage=storage,\n",
        "#                             study_name=study_name,\n",
        "#                             direction=\"maximize\",\n",
        "#                             sampler=TPESampler(n_startup_trials=20, multivariate=True),\n",
        "#                             load_if_exists=True)\n",
        "\n",
        "# study.optimize(objective, n_trials=50)\n",
        "\n",
        "# print(study.best_params)"
      ],
      "metadata": {
        "scrolled": true,
        "_kg_hide-input": true,
        "execution": {
          "iopub.status.busy": "2024-08-15T14:00:41.772559Z",
          "iopub.execute_input": "2024-08-15T14:00:41.772832Z",
          "iopub.status.idle": "2024-08-15T14:00:41.782481Z",
          "shell.execute_reply.started": "2024-08-15T14:00:41.77281Z",
          "shell.execute_reply": "2024-08-15T14:00:41.781711Z"
        },
        "trusted": true,
        "id": "LvXV94PRhiMa"
      },
      "execution_count": null,
      "outputs": []
    },
    {
      "cell_type": "code",
      "source": [
        "# def objective(trial):\n",
        "#     params = {\n",
        "#         \"lambda_l1\": trial.suggest_float(\"lambda_l1\", 1e-8, 10.0, log=True),\n",
        "#         \"lambda_l2\": trial.suggest_float(\"lambda_l2\", 1e-8, 10.0, log=True),\n",
        "#         \"num_leaves\": trial.suggest_int(\"num_leaves\", 2, 256),\n",
        "#         \"feature_fraction\": trial.suggest_float(\"feature_fraction\", 0.4, 1.0),\n",
        "#         \"bagging_fraction\": trial.suggest_float(\"bagging_fraction\", 0.4, 1.0),\n",
        "#         \"bagging_freq\": trial.suggest_int(\"bagging_freq\", 1, 7),\n",
        "#         \"min_child_samples\": trial.suggest_int(\"min_child_samples\", 5, 100),\n",
        "#         \"device\": 'gpu',\n",
        "#         \"verbosity\": -1\n",
        "#     }\n",
        "\n",
        "#     model = LGBMClassifier(**params)\n",
        "\n",
        "#     model.fit(X_train, y_train)\n",
        "#     y_pred = model.predict(X_test)\n",
        "#     return matthews_corrcoef(y_test, y_pred)\n",
        "\n",
        "\n",
        "# study_name = \"lgb\"\n",
        "# storage = \"sqlite:///lgb.db\"\n",
        "\n",
        "# study = optuna.create_study(storage=storage,\n",
        "#                             study_name=study_name,\n",
        "#                             direction=\"maximize\",\n",
        "#                             sampler=TPESampler(n_startup_trials=20, multivariate=True),\n",
        "#                             load_if_exists=True)\n",
        "\n",
        "# study.optimize(objective, n_trials=100)\n",
        "\n",
        "# print(study.best_params)"
      ],
      "metadata": {
        "scrolled": true,
        "_kg_hide-input": true,
        "execution": {
          "iopub.status.busy": "2024-08-15T14:00:41.783464Z",
          "iopub.execute_input": "2024-08-15T14:00:41.783744Z",
          "iopub.status.idle": "2024-08-15T14:00:41.794922Z",
          "shell.execute_reply.started": "2024-08-15T14:00:41.783721Z",
          "shell.execute_reply": "2024-08-15T14:00:41.79416Z"
        },
        "trusted": true,
        "id": "TXwoiSEehiMc"
      },
      "execution_count": null,
      "outputs": []
    },
    {
      "cell_type": "markdown",
      "source": [
        "# Submission"
      ],
      "metadata": {
        "id": "vle4_fxfhiNE"
      }
    },
    {
      "cell_type": "code",
      "source": [
        "sub = pd.read_csv(\"/kaggle/input/playground-series-s4e8/sample_submission.csv\")\n",
        "preds = [pred for model, pred in oof_preds.items()]\n",
        "md = mode(preds, axis=0)[0] if len(preds)>1 else preds[0]\n",
        "sub[target] = lab_enc.inverse_transform(md)\n",
        "sub.to_csv(\"submission.csv\", index=False)"
      ],
      "metadata": {
        "execution": {
          "iopub.status.busy": "2024-08-14T09:35:02.570931Z",
          "iopub.execute_input": "2024-08-14T09:35:02.571361Z",
          "iopub.status.idle": "2024-08-14T09:35:05.654647Z",
          "shell.execute_reply.started": "2024-08-14T09:35:02.571327Z",
          "shell.execute_reply": "2024-08-14T09:35:05.653556Z"
        },
        "trusted": true,
        "id": "RXwPrzX5hiNG"
      },
      "execution_count": null,
      "outputs": []
    },
    {
      "cell_type": "code",
      "source": [
        "ext1 = pd.read_csv(\"/kaggle/input/mario-s-nightmare-15-th-place-solution/submission.csv\")[target].ravel()\n",
        "ext2 = pd.read_csv(\"/kaggle/input/ps4e8-binary-class-mathews-correlation-coeff/submission.csv\")[target].ravel()\n",
        "ext3 = pd.read_csv(\"/kaggle/input/playgrounds4e08-modeblend/submission.csv\")[target].ravel()\n",
        "ext4 = pd.read_csv(\"/kaggle/input/autogloun-t8-dslanders/submission.csv\")[target].ravel()\n",
        "ext5 = pd.read_csv(\"/kaggle/input/mario-s-nightmare-denselight-0-990/submission_test7.csv\")[target].ravel()"
      ],
      "metadata": {
        "_kg_hide-input": true,
        "execution": {
          "iopub.status.busy": "2024-08-17T11:09:03.383341Z",
          "iopub.execute_input": "2024-08-17T11:09:03.383729Z",
          "iopub.status.idle": "2024-08-17T11:09:05.081013Z",
          "shell.execute_reply.started": "2024-08-17T11:09:03.383701Z",
          "shell.execute_reply": "2024-08-17T11:09:05.080232Z"
        },
        "trusted": true,
        "id": "ECJjPi9LhiNH"
      },
      "execution_count": null,
      "outputs": []
    },
    {
      "cell_type": "code",
      "source": [
        "preds = [ext1, ext2, ext3, ext4, ext5]\n",
        "\n",
        "preds = [lab_enc.transform(x) for x in preds]"
      ],
      "metadata": {
        "_kg_hide-input": true,
        "execution": {
          "iopub.status.busy": "2024-08-17T11:09:08.401859Z",
          "iopub.execute_input": "2024-08-17T11:09:08.402774Z",
          "iopub.status.idle": "2024-08-17T11:09:09.580164Z",
          "shell.execute_reply.started": "2024-08-17T11:09:08.402742Z",
          "shell.execute_reply": "2024-08-17T11:09:09.579093Z"
        },
        "trusted": true,
        "id": "rdPFFxlbhiNN"
      },
      "execution_count": null,
      "outputs": []
    },
    {
      "cell_type": "code",
      "source": [
        "md = mode(preds, axis=0)[0]"
      ],
      "metadata": {
        "_kg_hide-input": true,
        "execution": {
          "iopub.status.busy": "2024-08-17T11:09:28.669296Z",
          "iopub.execute_input": "2024-08-17T11:09:28.669668Z",
          "iopub.status.idle": "2024-08-17T11:11:14.357079Z",
          "shell.execute_reply.started": "2024-08-17T11:09:28.669638Z",
          "shell.execute_reply": "2024-08-17T11:11:14.356181Z"
        },
        "trusted": true,
        "id": "s_AWzn1IhiNP"
      },
      "execution_count": null,
      "outputs": []
    },
    {
      "cell_type": "code",
      "source": [
        "sub[target] = lab_enc.inverse_transform(md)\n",
        "sub.to_csv(\"submission.csv\", index=False)"
      ],
      "metadata": {
        "execution": {
          "iopub.status.busy": "2024-08-14T09:52:27.295162Z",
          "iopub.execute_input": "2024-08-14T09:52:27.295497Z",
          "iopub.status.idle": "2024-08-14T09:52:29.887618Z",
          "shell.execute_reply.started": "2024-08-14T09:52:27.29547Z",
          "shell.execute_reply": "2024-08-14T09:52:29.886658Z"
        },
        "_kg_hide-input": true,
        "trusted": true,
        "id": "CpxAK8-bhiNR"
      },
      "execution_count": null,
      "outputs": []
    }
  ]
}