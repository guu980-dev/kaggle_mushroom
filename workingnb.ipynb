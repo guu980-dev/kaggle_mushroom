{
  "cells": [
    {
      "cell_type": "markdown",
      "metadata": {
        "id": "1LW66KpBGgER"
      },
      "source": [
        "# Import Libraries"
      ]
    },
    {
      "cell_type": "code",
      "execution_count": 1,
      "metadata": {
        "execution": {
          "iopub.execute_input": "2024-08-26T13:57:50.231552Z",
          "iopub.status.busy": "2024-08-26T13:57:50.231144Z",
          "iopub.status.idle": "2024-08-26T13:57:53.338691Z",
          "shell.execute_reply": "2024-08-26T13:57:53.337769Z",
          "shell.execute_reply.started": "2024-08-26T13:57:50.23152Z"
        },
        "id": "95NA6Io1GgER",
        "trusted": true
      },
      "outputs": [],
      "source": [
        "import numpy as np\n",
        "import pandas as pd\n",
        "from catboost import CatBoostClassifier\n",
        "\n",
        "import matplotlib.pyplot as plt\n",
        "import seaborn as sns\n",
        "import warnings\n",
        "\n",
        "warnings.filterwarnings(\"ignore\")\n",
        "\n",
        "from sklearn.impute import SimpleImputer\n",
        "from sklearn.model_selection import StratifiedKFold, train_test_split, cross_val_score, cross_validate\n",
        "from sklearn.metrics import matthews_corrcoef, f1_score, confusion_matrix, ConfusionMatrixDisplay, make_scorer\n",
        "from sklearn.preprocessing import StandardScaler, LabelEncoder\n",
        "from scipy.stats import mode\n",
        "\n",
        "from xgboost import XGBClassifier\n",
        "\n",
        "from lightgbm import LGBMClassifier"
      ]
    },
    {
      "cell_type": "markdown",
      "metadata": {
        "id": "DDGb0DpwGgER"
      },
      "source": [
        "# Loading Data"
      ]
    },
    {
      "cell_type": "code",
      "execution_count": 3,
      "metadata": {
        "execution": {
          "iopub.execute_input": "2024-08-26T13:57:53.341209Z",
          "iopub.status.busy": "2024-08-26T13:57:53.340412Z",
          "iopub.status.idle": "2024-08-26T13:58:07.64634Z",
          "shell.execute_reply": "2024-08-26T13:58:07.645286Z",
          "shell.execute_reply.started": "2024-08-26T13:57:53.34117Z"
        },
        "id": "89xTZRJyGgER",
        "trusted": true
      },
      "outputs": [],
      "source": [
        "train_df = pd.read_csv(\"/Users/no.2/Desktop/mush/playground-series-s4e8/train.csv\", index_col='id')\n",
        "orig_df = pd.read_csv(\"/Users/no.2/Desktop/mush/playground-series-s4e8/secondary_data.csv\", sep=\";\")\n",
        "test_df = pd.read_csv(\"/Users/no.2/Desktop/mush/playground-series-s4e8/test.csv\", index_col='id')"
      ]
    },
    {
      "cell_type": "code",
      "execution_count": 5,
      "metadata": {
        "execution": {
          "iopub.execute_input": "2024-08-26T13:59:00.431109Z",
          "iopub.status.busy": "2024-08-26T13:59:00.430724Z",
          "iopub.status.idle": "2024-08-26T13:59:00.445918Z",
          "shell.execute_reply": "2024-08-26T13:59:00.444806Z",
          "shell.execute_reply.started": "2024-08-26T13:59:00.431082Z"
        },
        "id": "HYRDjsAnGgES",
        "trusted": true
      },
      "outputs": [],
      "source": [
        "cat_feature = orig_df.select_dtypes(exclude=np.number).columns.tolist()\n",
        "cat_dic = {}\n",
        "for i in cat_feature:\n",
        "    cat_dic[i] = orig_df[i].unique()"
      ]
    },
    {
      "cell_type": "code",
      "execution_count": 9,
      "metadata": {
        "colab": {
          "base_uri": "https://localhost:8080/"
        },
        "execution": {
          "iopub.execute_input": "2024-08-26T14:01:24.909719Z",
          "iopub.status.busy": "2024-08-26T14:01:24.908905Z",
          "iopub.status.idle": "2024-08-26T14:11:07.010827Z",
          "shell.execute_reply": "2024-08-26T14:11:07.009801Z",
          "shell.execute_reply.started": "2024-08-26T14:01:24.909683Z"
        },
        "id": "JDvd1bySGgET",
        "outputId": "8612fcf0-f7ec-4c0e-ca24-8cc9f0678267",
        "trusted": true
      },
      "outputs": [
        {
          "name": "stderr",
          "output_type": "stream",
          "text": [
            "100%|██████████| 18/18 [01:31<00:00,  5.06s/it]\n"
          ]
        }
      ],
      "source": [
        "from tqdm import tqdm\n",
        "for column, valid_values in tqdm(cat_dic.items()):\n",
        "    if column in train_df.columns:\n",
        "        train_df[column] = train_df[column].apply(lambda x: x if x in valid_values else np.nan)"
      ]
    },
    {
      "cell_type": "code",
      "execution_count": 10,
      "metadata": {
        "execution": {
          "iopub.execute_input": "2024-08-26T14:12:00.365743Z",
          "iopub.status.busy": "2024-08-26T14:12:00.365343Z",
          "iopub.status.idle": "2024-08-26T14:12:06.312442Z",
          "shell.execute_reply": "2024-08-26T14:12:06.311326Z",
          "shell.execute_reply.started": "2024-08-26T14:12:00.365714Z"
        },
        "id": "Hzpx-VUQGgET",
        "outputId": "ab55fa73-ea7a-4eec-d998-ac8e74a234a1",
        "trusted": true
      },
      "outputs": [
        {
          "name": "stdout",
          "output_type": "stream",
          "text": [
            "class\n",
            "p    1705396\n",
            "e    1411549\n",
            "Name: count, dtype: int64\n",
            "cap-shape\n",
            "x    1436026\n",
            "f     676238\n",
            "s     365146\n",
            "b     318646\n",
            "o     108835\n",
            "p     106967\n",
            "c     104520\n",
            "Name: count, dtype: int64\n",
            "cap-surface\n",
            "t    460777\n",
            "s    384970\n",
            "y    327826\n",
            "h    284460\n",
            "g    263729\n",
            "d    206832\n",
            "k    128875\n",
            "e    119712\n",
            "i    113440\n",
            "w    109840\n",
            "l     44859\n",
            "Name: count, dtype: int64\n",
            "cap-color\n",
            "n    1359542\n",
            "y     386627\n",
            "w     379442\n",
            "g     210825\n",
            "e     197290\n",
            "o     178847\n",
            "p      91838\n",
            "r      78236\n",
            "u      73172\n",
            "b      61313\n",
            "k      59888\n",
            "l      39558\n",
            "Name: count, dtype: int64\n",
            "does-bruise-or-bleed\n",
            "f    2569743\n",
            "t     547085\n",
            "Name: count, dtype: int64\n",
            "gill-attachment\n",
            "a    646034\n",
            "d    589236\n",
            "x    360878\n",
            "e    301858\n",
            "s    295439\n",
            "p    279110\n",
            "f    119953\n",
            "Name: count, dtype: int64\n",
            "gill-spacing\n",
            "c    1331054\n",
            "d     407932\n",
            "f     119380\n",
            "Name: count, dtype: int64\n",
            "gill-color\n",
            "w    931538\n",
            "n    543386\n",
            "y    469464\n",
            "p    343626\n",
            "g    212164\n",
            "o    157119\n",
            "k    127970\n",
            "f    119694\n",
            "r     62799\n",
            "e     56047\n",
            "b     47247\n",
            "u     45399\n",
            "Name: count, dtype: int64\n",
            "stem-root\n",
            "b    165801\n",
            "s    116946\n",
            "r     47803\n",
            "c     28592\n",
            "f       597\n",
            "Name: count, dtype: int64\n",
            "stem-surface\n",
            "s    327610\n",
            "y    255500\n",
            "i    224346\n",
            "t    147974\n",
            "g     78080\n",
            "k     73383\n",
            "h     28283\n",
            "f       512\n",
            "Name: count, dtype: int64\n",
            "stem-color\n",
            "w    1196637\n",
            "n    1003464\n",
            "y     373971\n",
            "g     132019\n",
            "o     111541\n",
            "e     103373\n",
            "u      67017\n",
            "p      54690\n",
            "k      33676\n",
            "r      22329\n",
            "l       9994\n",
            "b       7365\n",
            "f        573\n",
            "Name: count, dtype: int64\n",
            "veil-type\n",
            "u    159373\n",
            "Name: count, dtype: int64\n",
            "veil-color\n",
            "w    279070\n",
            "y     30473\n",
            "n     30039\n",
            "u     14026\n",
            "k     13080\n",
            "e      9169\n",
            "Name: count, dtype: int64\n",
            "has-ring\n",
            "f    2368820\n",
            "t     747982\n",
            "Name: count, dtype: int64\n",
            "ring-type\n",
            "f    2477170\n",
            "e     120006\n",
            "z     113780\n",
            "l      73443\n",
            "r      67909\n",
            "p      67678\n",
            "g      63687\n",
            "m       3992\n",
            "Name: count, dtype: int64\n",
            "spore-print-color\n",
            "k    107310\n",
            "p     68237\n",
            "w     50173\n",
            "n     22646\n",
            "r      7975\n",
            "u      7256\n",
            "g      3492\n",
            "Name: count, dtype: int64\n",
            "habitat\n",
            "d    2177573\n",
            "g     454908\n",
            "l     171892\n",
            "m     150969\n",
            "h     120137\n",
            "w      18530\n",
            "p      17180\n",
            "u       5264\n",
            "Name: count, dtype: int64\n",
            "season\n",
            "a    1543321\n",
            "u    1153588\n",
            "w     278189\n",
            "s     141847\n",
            "Name: count, dtype: int64\n"
          ]
        }
      ],
      "source": [
        "for i in cat_feature:\n",
        "    print(train_df[i].value_counts())"
      ]
    },
    {
      "cell_type": "code",
      "execution_count": 12,
      "metadata": {
        "execution": {
          "iopub.execute_input": "2024-08-26T14:18:27.250912Z",
          "iopub.status.busy": "2024-08-26T14:18:27.250515Z",
          "iopub.status.idle": "2024-08-26T14:18:28.084337Z",
          "shell.execute_reply": "2024-08-26T14:18:28.083353Z",
          "shell.execute_reply.started": "2024-08-26T14:18:27.250883Z"
        },
        "id": "SGT2zXIcGgET",
        "trusted": true
      },
      "outputs": [],
      "source": [
        "train_df = pd.concat([train_df, orig_df], ignore_index=True)"
      ]
    },
    {
      "cell_type": "code",
      "execution_count": 13,
      "metadata": {
        "execution": {
          "iopub.execute_input": "2024-08-26T14:18:28.086645Z",
          "iopub.status.busy": "2024-08-26T14:18:28.08623Z",
          "iopub.status.idle": "2024-08-26T14:18:28.115942Z",
          "shell.execute_reply": "2024-08-26T14:18:28.114877Z",
          "shell.execute_reply.started": "2024-08-26T14:18:28.086612Z"
        },
        "id": "yCYLh6ygGgET",
        "outputId": "2f22724e-74ff-4d90-e03d-3c58c42d42ee",
        "trusted": true
      },
      "outputs": [
        {
          "data": {
            "text/html": [
              "<div>\n",
              "<style scoped>\n",
              "    .dataframe tbody tr th:only-of-type {\n",
              "        vertical-align: middle;\n",
              "    }\n",
              "\n",
              "    .dataframe tbody tr th {\n",
              "        vertical-align: top;\n",
              "    }\n",
              "\n",
              "    .dataframe thead th {\n",
              "        text-align: right;\n",
              "    }\n",
              "</style>\n",
              "<table border=\"1\" class=\"dataframe\">\n",
              "  <thead>\n",
              "    <tr style=\"text-align: right;\">\n",
              "      <th></th>\n",
              "      <th>cap-diameter</th>\n",
              "      <th>cap-shape</th>\n",
              "      <th>cap-surface</th>\n",
              "      <th>cap-color</th>\n",
              "      <th>does-bruise-or-bleed</th>\n",
              "      <th>gill-attachment</th>\n",
              "      <th>gill-spacing</th>\n",
              "      <th>gill-color</th>\n",
              "      <th>stem-height</th>\n",
              "      <th>stem-width</th>\n",
              "      <th>stem-root</th>\n",
              "      <th>stem-surface</th>\n",
              "      <th>stem-color</th>\n",
              "      <th>veil-type</th>\n",
              "      <th>veil-color</th>\n",
              "      <th>has-ring</th>\n",
              "      <th>ring-type</th>\n",
              "      <th>spore-print-color</th>\n",
              "      <th>habitat</th>\n",
              "      <th>season</th>\n",
              "    </tr>\n",
              "    <tr>\n",
              "      <th>id</th>\n",
              "      <th></th>\n",
              "      <th></th>\n",
              "      <th></th>\n",
              "      <th></th>\n",
              "      <th></th>\n",
              "      <th></th>\n",
              "      <th></th>\n",
              "      <th></th>\n",
              "      <th></th>\n",
              "      <th></th>\n",
              "      <th></th>\n",
              "      <th></th>\n",
              "      <th></th>\n",
              "      <th></th>\n",
              "      <th></th>\n",
              "      <th></th>\n",
              "      <th></th>\n",
              "      <th></th>\n",
              "      <th></th>\n",
              "      <th></th>\n",
              "    </tr>\n",
              "  </thead>\n",
              "  <tbody>\n",
              "    <tr>\n",
              "      <th>3116945</th>\n",
              "      <td>8.64</td>\n",
              "      <td>x</td>\n",
              "      <td>NaN</td>\n",
              "      <td>n</td>\n",
              "      <td>t</td>\n",
              "      <td>NaN</td>\n",
              "      <td>NaN</td>\n",
              "      <td>w</td>\n",
              "      <td>11.13</td>\n",
              "      <td>17.12</td>\n",
              "      <td>b</td>\n",
              "      <td>NaN</td>\n",
              "      <td>w</td>\n",
              "      <td>u</td>\n",
              "      <td>w</td>\n",
              "      <td>t</td>\n",
              "      <td>g</td>\n",
              "      <td>NaN</td>\n",
              "      <td>d</td>\n",
              "      <td>a</td>\n",
              "    </tr>\n",
              "    <tr>\n",
              "      <th>3116946</th>\n",
              "      <td>6.90</td>\n",
              "      <td>o</td>\n",
              "      <td>t</td>\n",
              "      <td>o</td>\n",
              "      <td>f</td>\n",
              "      <td>NaN</td>\n",
              "      <td>c</td>\n",
              "      <td>y</td>\n",
              "      <td>1.27</td>\n",
              "      <td>10.75</td>\n",
              "      <td>NaN</td>\n",
              "      <td>NaN</td>\n",
              "      <td>n</td>\n",
              "      <td>NaN</td>\n",
              "      <td>NaN</td>\n",
              "      <td>f</td>\n",
              "      <td>f</td>\n",
              "      <td>NaN</td>\n",
              "      <td>d</td>\n",
              "      <td>a</td>\n",
              "    </tr>\n",
              "    <tr>\n",
              "      <th>3116947</th>\n",
              "      <td>2.00</td>\n",
              "      <td>b</td>\n",
              "      <td>g</td>\n",
              "      <td>n</td>\n",
              "      <td>f</td>\n",
              "      <td>NaN</td>\n",
              "      <td>c</td>\n",
              "      <td>n</td>\n",
              "      <td>6.18</td>\n",
              "      <td>3.14</td>\n",
              "      <td>NaN</td>\n",
              "      <td>NaN</td>\n",
              "      <td>n</td>\n",
              "      <td>NaN</td>\n",
              "      <td>NaN</td>\n",
              "      <td>f</td>\n",
              "      <td>f</td>\n",
              "      <td>NaN</td>\n",
              "      <td>d</td>\n",
              "      <td>s</td>\n",
              "    </tr>\n",
              "    <tr>\n",
              "      <th>3116948</th>\n",
              "      <td>3.47</td>\n",
              "      <td>x</td>\n",
              "      <td>t</td>\n",
              "      <td>n</td>\n",
              "      <td>f</td>\n",
              "      <td>s</td>\n",
              "      <td>c</td>\n",
              "      <td>n</td>\n",
              "      <td>4.98</td>\n",
              "      <td>8.51</td>\n",
              "      <td>NaN</td>\n",
              "      <td>NaN</td>\n",
              "      <td>w</td>\n",
              "      <td>NaN</td>\n",
              "      <td>n</td>\n",
              "      <td>t</td>\n",
              "      <td>z</td>\n",
              "      <td>NaN</td>\n",
              "      <td>d</td>\n",
              "      <td>u</td>\n",
              "    </tr>\n",
              "    <tr>\n",
              "      <th>3116949</th>\n",
              "      <td>6.17</td>\n",
              "      <td>x</td>\n",
              "      <td>h</td>\n",
              "      <td>y</td>\n",
              "      <td>f</td>\n",
              "      <td>p</td>\n",
              "      <td>NaN</td>\n",
              "      <td>y</td>\n",
              "      <td>6.73</td>\n",
              "      <td>13.70</td>\n",
              "      <td>NaN</td>\n",
              "      <td>NaN</td>\n",
              "      <td>y</td>\n",
              "      <td>NaN</td>\n",
              "      <td>y</td>\n",
              "      <td>t</td>\n",
              "      <td>NaN</td>\n",
              "      <td>NaN</td>\n",
              "      <td>d</td>\n",
              "      <td>u</td>\n",
              "    </tr>\n",
              "  </tbody>\n",
              "</table>\n",
              "</div>"
            ],
            "text/plain": [
              "         cap-diameter cap-shape cap-surface cap-color does-bruise-or-bleed  \\\n",
              "id                                                                           \n",
              "3116945          8.64         x         NaN         n                    t   \n",
              "3116946          6.90         o           t         o                    f   \n",
              "3116947          2.00         b           g         n                    f   \n",
              "3116948          3.47         x           t         n                    f   \n",
              "3116949          6.17         x           h         y                    f   \n",
              "\n",
              "        gill-attachment gill-spacing gill-color  stem-height  stem-width  \\\n",
              "id                                                                         \n",
              "3116945             NaN          NaN          w        11.13       17.12   \n",
              "3116946             NaN            c          y         1.27       10.75   \n",
              "3116947             NaN            c          n         6.18        3.14   \n",
              "3116948               s            c          n         4.98        8.51   \n",
              "3116949               p          NaN          y         6.73       13.70   \n",
              "\n",
              "        stem-root stem-surface stem-color veil-type veil-color has-ring  \\\n",
              "id                                                                        \n",
              "3116945         b          NaN          w         u          w        t   \n",
              "3116946       NaN          NaN          n       NaN        NaN        f   \n",
              "3116947       NaN          NaN          n       NaN        NaN        f   \n",
              "3116948       NaN          NaN          w       NaN          n        t   \n",
              "3116949       NaN          NaN          y       NaN          y        t   \n",
              "\n",
              "        ring-type spore-print-color habitat season  \n",
              "id                                                  \n",
              "3116945         g               NaN       d      a  \n",
              "3116946         f               NaN       d      a  \n",
              "3116947         f               NaN       d      s  \n",
              "3116948         z               NaN       d      u  \n",
              "3116949       NaN               NaN       d      u  "
            ]
          },
          "execution_count": 13,
          "metadata": {},
          "output_type": "execute_result"
        }
      ],
      "source": [
        "test_df.head()"
      ]
    },
    {
      "cell_type": "markdown",
      "metadata": {
        "id": "rUpGkesFGgET"
      },
      "source": [
        "# EDA"
      ]
    },
    {
      "cell_type": "code",
      "execution_count": null,
      "metadata": {
        "id": "u7wumb-MGgET",
        "trusted": true
      },
      "outputs": [],
      "source": [
        "train_df.info()"
      ]
    },
    {
      "cell_type": "code",
      "execution_count": null,
      "metadata": {
        "id": "u9vd1y4ZGgET",
        "trusted": true
      },
      "outputs": [],
      "source": [
        "pd.DataFrame({\n",
        "    'column': train_df.columns,\n",
        "    'null-count': train_df.isna().sum().values,\n",
        "    '% null-count': np.round(train_df.isna().sum().values*100/len(train_df),6)\n",
        "}).sort_values(by='null-count', ascending=False).reset_index(drop=True)"
      ]
    },
    {
      "cell_type": "code",
      "execution_count": null,
      "metadata": {
        "id": "fo5ULzVIGgET",
        "trusted": true
      },
      "outputs": [],
      "source": [
        "train_df.describe().T"
      ]
    },
    {
      "cell_type": "code",
      "execution_count": null,
      "metadata": {
        "id": "FLzUy5VPGgET",
        "trusted": true
      },
      "outputs": [],
      "source": [
        "train_df.describe(include='O').T"
      ]
    },
    {
      "cell_type": "code",
      "execution_count": null,
      "metadata": {
        "id": "dOPJU7hbGgET",
        "trusted": true
      },
      "outputs": [],
      "source": [
        "train_df.duplicated().sum()"
      ]
    },
    {
      "cell_type": "code",
      "execution_count": null,
      "metadata": {
        "id": "MVDYRncmGgET",
        "trusted": true
      },
      "outputs": [],
      "source": [
        "train_df.drop_duplicates(inplace=True)"
      ]
    },
    {
      "cell_type": "code",
      "execution_count": 14,
      "metadata": {
        "execution": {
          "iopub.execute_input": "2024-08-26T14:19:01.333512Z",
          "iopub.status.busy": "2024-08-26T14:19:01.333089Z",
          "iopub.status.idle": "2024-08-26T14:19:01.338767Z",
          "shell.execute_reply": "2024-08-26T14:19:01.337623Z",
          "shell.execute_reply.started": "2024-08-26T14:19:01.33348Z"
        },
        "id": "1Qq4CvUIGgET",
        "trusted": true
      },
      "outputs": [],
      "source": [
        "target = 'class'"
      ]
    },
    {
      "cell_type": "code",
      "execution_count": 15,
      "metadata": {
        "execution": {
          "iopub.execute_input": "2024-08-26T14:19:02.81551Z",
          "iopub.status.busy": "2024-08-26T14:19:02.814608Z",
          "iopub.status.idle": "2024-08-26T14:19:03.901552Z",
          "shell.execute_reply": "2024-08-26T14:19:03.900552Z",
          "shell.execute_reply.started": "2024-08-26T14:19:02.815473Z"
        },
        "id": "OjL6iSSAGgEU",
        "outputId": "b5a8cce8-dc06-4081-f633-803a0bb53839",
        "trusted": true
      },
      "outputs": [
        {
          "data": {
            "text/plain": [
              "['cap-diameter',\n",
              " 'cap-shape',\n",
              " 'cap-surface',\n",
              " 'cap-color',\n",
              " 'does-bruise-or-bleed',\n",
              " 'gill-attachment',\n",
              " 'gill-spacing',\n",
              " 'gill-color',\n",
              " 'stem-height',\n",
              " 'stem-width',\n",
              " 'stem-root',\n",
              " 'stem-surface',\n",
              " 'stem-color',\n",
              " 'veil-type',\n",
              " 'veil-color',\n",
              " 'has-ring',\n",
              " 'ring-type',\n",
              " 'spore-print-color',\n",
              " 'habitat',\n",
              " 'season']"
            ]
          },
          "execution_count": 15,
          "metadata": {},
          "output_type": "execute_result"
        }
      ],
      "source": [
        "features = train_df.drop(target, axis=1).columns.to_list()\n",
        "features"
      ]
    },
    {
      "cell_type": "code",
      "execution_count": 16,
      "metadata": {
        "execution": {
          "iopub.execute_input": "2024-08-26T14:19:09.315699Z",
          "iopub.status.busy": "2024-08-26T14:19:09.314965Z",
          "iopub.status.idle": "2024-08-26T14:19:13.723844Z",
          "shell.execute_reply": "2024-08-26T14:19:13.722549Z",
          "shell.execute_reply.started": "2024-08-26T14:19:09.315664Z"
        },
        "id": "Z2QCOUp4GgEU",
        "outputId": "e20a76f3-9baf-4cb5-88ca-d0e50495aef4",
        "trusted": true
      },
      "outputs": [
        {
          "data": {
            "text/plain": [
              "['cap-surface',\n",
              " 'gill-spacing',\n",
              " 'stem-root',\n",
              " 'stem-surface',\n",
              " 'veil-type',\n",
              " 'veil-color',\n",
              " 'spore-print-color']"
            ]
          },
          "execution_count": 16,
          "metadata": {},
          "output_type": "execute_result"
        }
      ],
      "source": [
        "features_with_high_null_values = [feature for feature in features if (train_df[feature].isna().sum()/len(train_df)*100)>20]\n",
        "features_with_high_null_values"
      ]
    },
    {
      "cell_type": "code",
      "execution_count": 23,
      "metadata": {
        "execution": {
          "iopub.execute_input": "2024-08-26T14:19:16.676493Z",
          "iopub.status.busy": "2024-08-26T14:19:16.676059Z",
          "iopub.status.idle": "2024-08-26T14:19:20.305781Z",
          "shell.execute_reply": "2024-08-26T14:19:20.304747Z",
          "shell.execute_reply.started": "2024-08-26T14:19:16.676462Z"
        },
        "id": "LDNy_D7KGgEU",
        "outputId": "9a31761d-7c30-4d8c-83bb-44c430e33b68",
        "trusted": true
      },
      "outputs": [
        {
          "data": {
            "text/plain": [
              "['cap-shape',\n",
              " 'cap-surface',\n",
              " 'cap-color',\n",
              " 'does-bruise-or-bleed',\n",
              " 'gill-attachment',\n",
              " 'gill-spacing',\n",
              " 'gill-color',\n",
              " 'stem-root',\n",
              " 'stem-surface',\n",
              " 'stem-color',\n",
              " 'veil-type',\n",
              " 'veil-color',\n",
              " 'has-ring',\n",
              " 'ring-type',\n",
              " 'spore-print-color',\n",
              " 'habitat',\n",
              " 'season']"
            ]
          },
          "execution_count": 23,
          "metadata": {},
          "output_type": "execute_result"
        }
      ],
      "source": [
        "categorical_features = train_df[features].select_dtypes(include='object').columns.to_list()\n",
        "categorical_features"
      ]
    },
    {
      "cell_type": "code",
      "execution_count": 24,
      "metadata": {
        "execution": {
          "iopub.execute_input": "2024-08-26T14:19:23.941182Z",
          "iopub.status.busy": "2024-08-26T14:19:23.940179Z",
          "iopub.status.idle": "2024-08-26T14:19:23.947747Z",
          "shell.execute_reply": "2024-08-26T14:19:23.946731Z",
          "shell.execute_reply.started": "2024-08-26T14:19:23.941144Z"
        },
        "id": "Vj1-rAMlGgEU",
        "outputId": "0d2cc15a-4f5f-4eeb-f185-d66df7eec473",
        "trusted": true
      },
      "outputs": [
        {
          "data": {
            "text/plain": [
              "['stem-width', 'cap-diameter', 'stem-height']"
            ]
          },
          "execution_count": 24,
          "metadata": {},
          "output_type": "execute_result"
        }
      ],
      "source": [
        "numerical_features = list(set(features) - set(categorical_features))\n",
        "numerical_features"
      ]
    },
    {
      "cell_type": "code",
      "execution_count": null,
      "metadata": {
        "execution": {
          "iopub.execute_input": "2024-08-26T14:19:27.473794Z",
          "iopub.status.busy": "2024-08-26T14:19:27.473402Z",
          "iopub.status.idle": "2024-08-26T14:19:51.827668Z",
          "shell.execute_reply": "2024-08-26T14:19:51.82666Z",
          "shell.execute_reply.started": "2024-08-26T14:19:27.473765Z"
        },
        "id": "A-Vm-AYXGgEU",
        "outputId": "1b64f256-7c71-4f18-db3a-32b35e86d67a",
        "trusted": true
      },
      "outputs": [
        {
          "data": {
            "text/html": [
              "<div>\n",
              "<style scoped>\n",
              "    .dataframe tbody tr th:only-of-type {\n",
              "        vertical-align: middle;\n",
              "    }\n",
              "\n",
              "    .dataframe tbody tr th {\n",
              "        vertical-align: top;\n",
              "    }\n",
              "\n",
              "    .dataframe thead th {\n",
              "        text-align: right;\n",
              "    }\n",
              "</style>\n",
              "<table border=\"1\" class=\"dataframe\">\n",
              "  <thead>\n",
              "    <tr style=\"text-align: right;\">\n",
              "      <th></th>\n",
              "      <th>count</th>\n",
              "      <th>unique</th>\n",
              "      <th>top</th>\n",
              "      <th>freq</th>\n",
              "    </tr>\n",
              "  </thead>\n",
              "  <tbody>\n",
              "    <tr>\n",
              "      <th>cap-shape</th>\n",
              "      <td>5255380</td>\n",
              "      <td>62</td>\n",
              "      <td>x</td>\n",
              "      <td>2420909</td>\n",
              "    </tr>\n",
              "    <tr>\n",
              "      <th>cap-surface</th>\n",
              "      <td>4123329</td>\n",
              "      <td>59</td>\n",
              "      <td>t</td>\n",
              "      <td>775825</td>\n",
              "    </tr>\n",
              "    <tr>\n",
              "      <th>cap-color</th>\n",
              "      <td>5255598</td>\n",
              "      <td>57</td>\n",
              "      <td>n</td>\n",
              "      <td>2288067</td>\n",
              "    </tr>\n",
              "    <tr>\n",
              "      <th>does-bruise-or-bleed</th>\n",
              "      <td>5255851</td>\n",
              "      <td>22</td>\n",
              "      <td>f</td>\n",
              "      <td>4333884</td>\n",
              "    </tr>\n",
              "    <tr>\n",
              "      <th>gill-attachment</th>\n",
              "      <td>4371836</td>\n",
              "      <td>66</td>\n",
              "      <td>a</td>\n",
              "      <td>1089692</td>\n",
              "    </tr>\n",
              "    <tr>\n",
              "      <th>gill-spacing</th>\n",
              "      <td>3132741</td>\n",
              "      <td>35</td>\n",
              "      <td>c</td>\n",
              "      <td>2242740</td>\n",
              "    </tr>\n",
              "    <tr>\n",
              "      <th>gill-color</th>\n",
              "      <td>5255437</td>\n",
              "      <td>56</td>\n",
              "      <td>w</td>\n",
              "      <td>1570832</td>\n",
              "    </tr>\n",
              "    <tr>\n",
              "      <th>stem-root</th>\n",
              "      <td>609222</td>\n",
              "      <td>31</td>\n",
              "      <td>b</td>\n",
              "      <td>279559</td>\n",
              "    </tr>\n",
              "    <tr>\n",
              "      <th>stem-surface</th>\n",
              "      <td>1915109</td>\n",
              "      <td>54</td>\n",
              "      <td>s</td>\n",
              "      <td>552131</td>\n",
              "    </tr>\n",
              "    <tr>\n",
              "      <th>stem-color</th>\n",
              "      <td>5255661</td>\n",
              "      <td>55</td>\n",
              "      <td>w</td>\n",
              "      <td>2016928</td>\n",
              "    </tr>\n",
              "    <tr>\n",
              "      <th>veil-type</th>\n",
              "      <td>268969</td>\n",
              "      <td>15</td>\n",
              "      <td>u</td>\n",
              "      <td>268923</td>\n",
              "    </tr>\n",
              "    <tr>\n",
              "      <th>veil-color</th>\n",
              "      <td>635110</td>\n",
              "      <td>23</td>\n",
              "      <td>w</td>\n",
              "      <td>470976</td>\n",
              "    </tr>\n",
              "    <tr>\n",
              "      <th>has-ring</th>\n",
              "      <td>5255816</td>\n",
              "      <td>23</td>\n",
              "      <td>f</td>\n",
              "      <td>3992802</td>\n",
              "    </tr>\n",
              "    <tr>\n",
              "      <th>ring-type</th>\n",
              "      <td>5038032</td>\n",
              "      <td>36</td>\n",
              "      <td>f</td>\n",
              "      <td>4175731</td>\n",
              "    </tr>\n",
              "    <tr>\n",
              "      <th>spore-print-color</th>\n",
              "      <td>451790</td>\n",
              "      <td>33</td>\n",
              "      <td>k</td>\n",
              "      <td>181001</td>\n",
              "    </tr>\n",
              "    <tr>\n",
              "      <th>habitat</th>\n",
              "      <td>5255461</td>\n",
              "      <td>39</td>\n",
              "      <td>d</td>\n",
              "      <td>3672202</td>\n",
              "    </tr>\n",
              "    <tr>\n",
              "      <th>season</th>\n",
              "      <td>5255978</td>\n",
              "      <td>4</td>\n",
              "      <td>a</td>\n",
              "      <td>2602583</td>\n",
              "    </tr>\n",
              "  </tbody>\n",
              "</table>\n",
              "</div>"
            ],
            "text/plain": [
              "                        count unique top     freq\n",
              "cap-shape             5255380     62   x  2420909\n",
              "cap-surface           4123329     59   t   775825\n",
              "cap-color             5255598     57   n  2288067\n",
              "does-bruise-or-bleed  5255851     22   f  4333884\n",
              "gill-attachment       4371836     66   a  1089692\n",
              "gill-spacing          3132741     35   c  2242740\n",
              "gill-color            5255437     56   w  1570832\n",
              "stem-root              609222     31   b   279559\n",
              "stem-surface          1915109     54   s   552131\n",
              "stem-color            5255661     55   w  2016928\n",
              "veil-type              268969     15   u   268923\n",
              "veil-color             635110     23   w   470976\n",
              "has-ring              5255816     23   f  3992802\n",
              "ring-type             5038032     36   f  4175731\n",
              "spore-print-color      451790     33   k   181001\n",
              "habitat               5255461     39   d  3672202\n",
              "season                5255978      4   a  2602583"
            ]
          },
          "execution_count": 25,
          "metadata": {},
          "output_type": "execute_result"
        }
      ],
      "source": [
        "pd.concat([train_df, test_df])[categorical_features].describe(include='O').T"
      ]
    },
    {
      "cell_type": "markdown",
      "metadata": {
        "id": "EOioEJsjGgEU"
      },
      "source": [
        "## Distribution of Categorical Features"
      ]
    },
    {
      "cell_type": "code",
      "execution_count": null,
      "metadata": {
        "id": "QsBxvXCVGgEU",
        "trusted": true
      },
      "outputs": [],
      "source": [
        "for i, col in enumerate(categorical_features):\n",
        "    plt.figure(figsize=(8, 6))\n",
        "\n",
        "    fil_data = train_df[col].value_counts()\n",
        "    fil_cat = fil_data[fil_data>=100].index\n",
        "    fil_df = train_df[train_df[col].isin(fil_cat)]\n",
        "\n",
        "    sns.countplot(x=col, hue=target, data=fil_df)\n",
        "\n",
        "    plt.title(f\"Count Plot of {col}\", size=20)\n",
        "    plt.show()"
      ]
    },
    {
      "cell_type": "code",
      "execution_count": null,
      "metadata": {
        "id": "0GgZ6baZGgEU",
        "trusted": true
      },
      "outputs": [],
      "source": [
        "plt.figure(figsize=(8, 15))\n",
        "for i, col in enumerate(numerical_features):\n",
        "    plt.subplot(3, 1, i+1)\n",
        "    sns.histplot(x=col, hue=target, data=train_df, kde=True, bins=20)\n",
        "    plt.title(f\"Histogram of {col}\", size=20)\n",
        "    sns.despine()\n",
        "plt.tight_layout()\n",
        "plt.suptitle(\"Distribution of Numerical Features\", y=1.05, size=28)\n",
        "plt.show()"
      ]
    },
    {
      "cell_type": "code",
      "execution_count": null,
      "metadata": {
        "id": "6rulIkmEGgEU",
        "trusted": true
      },
      "outputs": [],
      "source": [
        "plt.figure(figsize=(8, 15))\n",
        "for i, col in enumerate(numerical_features):\n",
        "    plt.subplot(3, 1, i+1)\n",
        "    sns.boxplot(x=col, y=target, hue=target, data=train_df)\n",
        "    plt.title(f\"Boxplot of {col}\", size=20)\n",
        "plt.tight_layout()\n",
        "plt.suptitle(\"Boxplot of Numerical Features\", y=1.05, size=28)\n",
        "plt.show()"
      ]
    },
    {
      "cell_type": "code",
      "execution_count": null,
      "metadata": {
        "id": "mn5zo4wfGgEU",
        "trusted": true
      },
      "outputs": [],
      "source": [
        "plt.figure(figsize=(8, 15))\n",
        "for i, col in enumerate(numerical_features):\n",
        "    plt.subplot(3, 1, i+1)\n",
        "    sns.violinplot(x=target, y=col, hue=target, data=train_df)\n",
        "    plt.title(f\"Violin Plot of {col}\", size=20)\n",
        "plt.tight_layout()\n",
        "plt.suptitle(\"Violin Plots of Numerical Features\", y=1.05, size=28)\n",
        "plt.show()"
      ]
    },
    {
      "cell_type": "markdown",
      "metadata": {
        "id": "Y1P6gpkHGgEU"
      },
      "source": [
        "## Target Distribution"
      ]
    },
    {
      "cell_type": "code",
      "execution_count": null,
      "metadata": {
        "id": "lDrIwtOkGgEU",
        "trusted": true
      },
      "outputs": [],
      "source": [
        "plt.figure(figsize=(10, 6))\n",
        "sns.countplot(x=target, data=train_df)\n",
        "plt.title(\"Target Distribution\", size=28)\n",
        "plt.plot()"
      ]
    },
    {
      "cell_type": "markdown",
      "metadata": {
        "id": "eIdXtO6DGgEU"
      },
      "source": [
        "# Imputing Null Values"
      ]
    },
    {
      "cell_type": "code",
      "execution_count": 25,
      "metadata": {
        "execution": {
          "iopub.execute_input": "2024-08-26T14:19:59.091607Z",
          "iopub.status.busy": "2024-08-26T14:19:59.090727Z",
          "iopub.status.idle": "2024-08-26T14:19:59.097655Z",
          "shell.execute_reply": "2024-08-26T14:19:59.096505Z",
          "shell.execute_reply.started": "2024-08-26T14:19:59.091573Z"
        },
        "id": "eUCXCv9FGgEU",
        "trusted": true
      },
      "outputs": [],
      "source": [
        "def cleaner(df):\n",
        "    for col in categorical_features:\n",
        "        df[col] = df[col].fillna('missing')\n",
        "        df.loc[df[col].value_counts(dropna=False)[df[col]].values < 100, col] = \"noise\"\n",
        "        df[col] = df[col].astype('category')\n",
        "\n",
        "    return df"
      ]
    },
    {
      "cell_type": "code",
      "execution_count": 26,
      "metadata": {
        "execution": {
          "iopub.execute_input": "2024-08-26T14:19:59.448238Z",
          "iopub.status.busy": "2024-08-26T14:19:59.447417Z",
          "iopub.status.idle": "2024-08-26T14:20:34.635262Z",
          "shell.execute_reply": "2024-08-26T14:20:34.634227Z",
          "shell.execute_reply.started": "2024-08-26T14:19:59.448204Z"
        },
        "id": "oPacRyNhGgEX",
        "trusted": true
      },
      "outputs": [],
      "source": [
        "train_df = cleaner(train_df)\n",
        "test_df = cleaner(test_df)"
      ]
    },
    {
      "cell_type": "code",
      "execution_count": 27,
      "metadata": {
        "execution": {
          "iopub.execute_input": "2024-08-26T14:20:34.63763Z",
          "iopub.status.busy": "2024-08-26T14:20:34.637199Z",
          "iopub.status.idle": "2024-08-26T14:20:34.724125Z",
          "shell.execute_reply": "2024-08-26T14:20:34.723015Z",
          "shell.execute_reply.started": "2024-08-26T14:20:34.637595Z"
        },
        "id": "PMSTlU6HGgEY",
        "trusted": true
      },
      "outputs": [],
      "source": [
        "cap_diameter_mean = pd.concat([train_df['cap-diameter'], test_df['cap-diameter']]).mean(numeric_only=True)\n",
        "train_df['cap-diameter'].fillna(cap_diameter_mean, inplace=True)\n",
        "test_df['cap-diameter'].fillna(cap_diameter_mean, inplace=True)"
      ]
    },
    {
      "cell_type": "markdown",
      "metadata": {
        "id": "nQGFTmhMGgEY"
      },
      "source": [
        "# Model Training"
      ]
    },
    {
      "cell_type": "code",
      "execution_count": 28,
      "metadata": {
        "execution": {
          "iopub.execute_input": "2024-08-26T14:20:39.859102Z",
          "iopub.status.busy": "2024-08-26T14:20:39.858715Z",
          "iopub.status.idle": "2024-08-26T14:20:40.806783Z",
          "shell.execute_reply": "2024-08-26T14:20:40.805851Z",
          "shell.execute_reply.started": "2024-08-26T14:20:39.859072Z"
        },
        "id": "znOnyyUkGgEY",
        "trusted": true
      },
      "outputs": [],
      "source": [
        "X = train_df.copy()\n",
        "y = X.pop(target)\n",
        "\n",
        "lab_enc = LabelEncoder().fit(y)\n",
        "y = lab_enc.transform(y)"
      ]
    },
    {
      "cell_type": "code",
      "execution_count": 29,
      "metadata": {
        "execution": {
          "iopub.execute_input": "2024-08-26T14:20:40.809067Z",
          "iopub.status.busy": "2024-08-26T14:20:40.808713Z",
          "iopub.status.idle": "2024-08-26T14:20:40.817521Z",
          "shell.execute_reply": "2024-08-26T14:20:40.81629Z",
          "shell.execute_reply.started": "2024-08-26T14:20:40.809039Z"
        },
        "id": "e6fcftbkGgEY",
        "trusted": true
      },
      "outputs": [],
      "source": [
        "def model_report(estimator, X, y, cv=5):\n",
        "    print(\"=\"*80)\n",
        "    print(f\"    Model: {estimator.__class__.__name__}\")\n",
        "    print(\"=\"*80)\n",
        "\n",
        "    X_train, X_test, y_train, y_test = train_test_split(X, y, train_size=1/cv, shuffle=True, stratify=y, random_state=42)\n",
        "\n",
        "    estimator.fit(X_train, y_train)\n",
        "    y_pred = estimator.predict(X_test)\n",
        "    f1 = f1_score(y_test, y_pred)\n",
        "    mcc = matthews_corrcoef(y_test, y_pred)\n",
        "    print(f\"F1 Score : {f1.mean():.6f}\")\n",
        "    print(f\"MCC Score: {mcc.mean():.6f}\")\n",
        "\n",
        "    ConfusionMatrixDisplay(confusion_matrix(y_test, y_pred)).plot()\n",
        "    plt.title(\"Confusion Matrix\")\n",
        "    plt.show()\n",
        "\n",
        "    print()"
      ]
    },
    {
      "cell_type": "code",
      "execution_count": 30,
      "metadata": {
        "execution": {
          "iopub.execute_input": "2024-08-26T14:21:03.7805Z",
          "iopub.status.busy": "2024-08-26T14:21:03.77952Z",
          "iopub.status.idle": "2024-08-26T14:21:03.789347Z",
          "shell.execute_reply": "2024-08-26T14:21:03.788109Z",
          "shell.execute_reply.started": "2024-08-26T14:21:03.780462Z"
        },
        "id": "RH1q1Pu4GgEY",
        "trusted": true
      },
      "outputs": [],
      "source": [
        "def model_trainer(model, X, y, n_splits=5, random_state=42):\n",
        "    skfold = StratifiedKFold(n_splits=n_splits, shuffle=True, random_state=random_state)\n",
        "\n",
        "    oof_probs, oof_mccs = [], []\n",
        "    print(\"=\"*80)\n",
        "    print(f\"Training {model.__class__.__name__}\")\n",
        "    print(\"=\"*80, end=\"\\n\")\n",
        "    for fold, (train_idx, test_idx) in enumerate(skfold.split(X, y)):\n",
        "        X_train, y_train = X.iloc[train_idx, :], y[train_idx] # train 분할\n",
        "        X_test, y_test = X.iloc[test_idx, :], y[test_idx] # validation 분할\n",
        "\n",
        "        model.fit(X_train, y_train) # train 학습\n",
        "        y_pred = model.predict(X_test) # validaton 예측\n",
        "\n",
        "        mcc = matthews_corrcoef(y_pred, y_test) # validation 성능\n",
        "        oof_mccs.append(mcc)\n",
        "        oof_probs.append(model.predict_proba(test_df)) # test 예측\n",
        "        print(f\"--- Fold {fold+1} MCC Score: {mcc:.6f}\")\n",
        "    print(f\"\\n---> Mean MCC Score: {np.mean(oof_mccs):.6f} \\xb1 {np.std(oof_mccs):.6f}\\n\\n\")\n",
        "    return oof_probs, oof_mccs"
      ]
    },
    {
      "cell_type": "markdown",
      "metadata": {
        "id": "EK2IcRW0GgEY"
      },
      "source": [
        "## Baseline Models"
      ]
    },
    {
      "cell_type": "code",
      "execution_count": null,
      "metadata": {
        "id": "JmGDZG6eGgEY",
        "trusted": true
      },
      "outputs": [],
      "source": [
        "xgb_clf = XGBClassifier(enable_categorical=True, device=\"cuda\", tree_method=\"hist\")\n",
        "\n",
        "model_report(xgb_clf, X, y)"
      ]
    },
    {
      "cell_type": "code",
      "execution_count": null,
      "metadata": {
        "id": "UiDAOZk7GgEY",
        "trusted": true
      },
      "outputs": [],
      "source": [
        "cat_clf = CatBoostClassifier(\n",
        "    cat_features=categorical_features,\n",
        "    verbose=False,\n",
        "    allow_writing_files=False,\n",
        "    task_type=\"GPU\"\n",
        ")\n",
        "\n",
        "model_report(cat_clf, X, y)"
      ]
    },
    {
      "cell_type": "code",
      "execution_count": null,
      "metadata": {
        "id": "Hb4mB4dHGgEY",
        "trusted": true
      },
      "outputs": [],
      "source": [
        "lgb_clf = LGBMClassifier(device='gpu', verbosity=-1)\n",
        "\n",
        "model_report(lgb_clf, X, y)"
      ]
    },
    {
      "cell_type": "markdown",
      "metadata": {
        "id": "zrhey6ArGgEY"
      },
      "source": [
        "## Hyperparameter Tuning"
      ]
    },
    {
      "cell_type": "code",
      "execution_count": null,
      "metadata": {
        "_kg_hide-input": true,
        "id": "t35S4LHkGgEY",
        "trusted": true
      },
      "outputs": [],
      "source": [
        "# import optuna\n",
        "# from optuna.samplers import TPESampler"
      ]
    },
    {
      "cell_type": "code",
      "execution_count": null,
      "metadata": {
        "_kg_hide-input": true,
        "id": "25T4kbggGgEY",
        "trusted": true
      },
      "outputs": [],
      "source": [
        "# X_train, X_test, y_train, y_test = train_test_split(X, y, train_size=0.2, shuffle=True, stratify=y, random_state=101)"
      ]
    },
    {
      "cell_type": "code",
      "execution_count": null,
      "metadata": {
        "_kg_hide-input": true,
        "_kg_hide-output": true,
        "id": "n58T-_LQGgEY",
        "scrolled": true,
        "trusted": true
      },
      "outputs": [],
      "source": [
        "# def objective(trial):\n",
        "#     params = {\n",
        "#         \"n_estimators\": trial.suggest_int(\"n_estimators\", 2000, 3000),\n",
        "#         \"eta\": trial.suggest_float(\"eta\", 1e-3, 1e-2),\n",
        "#         \"gamma\": trial.suggest_float(\"gamma\", 0, 5.0),\n",
        "#         \"max_depth\": trial.suggest_int(\"max_depth\", 2, 32),\n",
        "#         \"min_child_weight\": trial.suggest_int(\"min_child_weight\", 40, 100),\n",
        "#         \"subsample\": trial.suggest_float(\"subsample\", 0.1, 1.0),\n",
        "#         \"colsample_bytree\": trial.suggest_float(\"colsample_bytree\", 0.1, 1.0),\n",
        "#         \"grow_policy\": trial.suggest_categorical(\"grow_policy\", [\"depthwise\", \"lossguide\"]),\n",
        "#         \"max_leaves\": trial.suggest_int(\"max_leaves\", 16, 84)\n",
        "#     }\n",
        "#     params['device'] = 'cuda'\n",
        "#     params['tree_method'] = 'hist'\n",
        "#     params['enable_categorical'] = True\n",
        "\n",
        "#     model = XGBClassifier(**params)\n",
        "#     model.fit(X_train, y_train)\n",
        "\n",
        "#     y_pred = model.predict(X_test)\n",
        "#     return matthews_corrcoef(y_test, y_pred)\n",
        "\n",
        "\n",
        "# study_name = \"xgb\"\n",
        "# storage = \"sqlite:///xgb.db\"\n",
        "\n",
        "# study = optuna.create_study(storage=storage,\n",
        "#                             study_name=study_name,\n",
        "#                             direction=\"maximize\",\n",
        "# #                             sampler=TPESampler(),\n",
        "#                             load_if_exists=True)\n",
        "\n",
        "# study.optimize(objective, n_trials=100)\n",
        "\n",
        "# print(study.best_params)\n"
      ]
    },
    {
      "cell_type": "code",
      "execution_count": null,
      "metadata": {
        "_kg_hide-input": true,
        "id": "6IOc6mJIGgEY",
        "scrolled": true,
        "trusted": true
      },
      "outputs": [],
      "source": [
        "# def objective(trial):\n",
        "#     params = {\n",
        "#         \"iterations\": trial.suggest_int(\"iterations\", 100, 3000),\n",
        "#         \"learning_rate\": trial.suggest_float(\"learning_rate\", 1e-3, 1e-1, log=True),\n",
        "#         \"depth\": trial.suggest_int(\"depth\", 4, 10),\n",
        "#         \"l2_leaf_reg\": trial.suggest_float(\"l2_leaf_reg\", 1e-8, 100.0, log=True),\n",
        "#         \"bootstrap_type\": trial.suggest_categorical(\"bootstrap_type\", [\"Bayesian\"]),\n",
        "#         \"random_strength\": trial.suggest_float(\"random_strength\", 1e-8, 10.0, log=True),\n",
        "#         \"bagging_temperature\": trial.suggest_float(\"bagging_temperature\", 0.0, 10.0),\n",
        "#         \"od_type\": trial.suggest_categorical(\"od_type\", [\"IncToDec\", \"Iter\"]),\n",
        "#         \"od_wait\": trial.suggest_int(\"od_wait\", 10, 50),\n",
        "#         \"verbose\": False,\n",
        "#         \"allow_writing_files\": False,\n",
        "#         \"task_type\": 'GPU',\n",
        "#         \"cat_features\": categorical_features\n",
        "#     }\n",
        "\n",
        "#     model = CatBoostClassifier(**params)\n",
        "\n",
        "#     model.fit(X_train, y_train)\n",
        "#     y_pred = model.predict(X_test)\n",
        "#     return matthews_corrcoef(y_test, y_pred)\n",
        "\n",
        "\n",
        "# study_name = \"cat\"\n",
        "# storage = \"sqlite:///cat.db\"\n",
        "\n",
        "# study = optuna.create_study(storage=storage,\n",
        "#                             study_name=study_name,\n",
        "#                             direction=\"maximize\",\n",
        "#                             sampler=TPESampler(n_startup_trials=20, multivariate=True),\n",
        "#                             load_if_exists=True)\n",
        "\n",
        "# study.optimize(objective, n_trials=50)\n",
        "\n",
        "# print(study.best_params)"
      ]
    },
    {
      "cell_type": "code",
      "execution_count": null,
      "metadata": {
        "_kg_hide-input": true,
        "id": "dE2PjEXRGgEY",
        "scrolled": true,
        "trusted": true
      },
      "outputs": [],
      "source": [
        "# def objective(trial):\n",
        "#     params = {\n",
        "#         \"lambda_l1\": trial.suggest_float(\"lambda_l1\", 1e-8, 10.0, log=True),\n",
        "#         \"lambda_l2\": trial.suggest_float(\"lambda_l2\", 1e-8, 10.0, log=True),\n",
        "#         \"num_leaves\": trial.suggest_int(\"num_leaves\", 2, 256),\n",
        "#         \"feature_fraction\": trial.suggest_float(\"feature_fraction\", 0.4, 1.0),\n",
        "#         \"bagging_fraction\": trial.suggest_float(\"bagging_fraction\", 0.4, 1.0),\n",
        "#         \"bagging_freq\": trial.suggest_int(\"bagging_freq\", 1, 7),\n",
        "#         \"min_child_samples\": trial.suggest_int(\"min_child_samples\", 5, 100),\n",
        "#         \"device\": 'gpu',\n",
        "#         \"verbosity\": -1\n",
        "#     }\n",
        "\n",
        "#     model = LGBMClassifier(**params)\n",
        "\n",
        "#     model.fit(X_train, y_train)\n",
        "#     y_pred = model.predict(X_test)\n",
        "#     return matthews_corrcoef(y_test, y_pred)\n",
        "\n",
        "\n",
        "# study_name = \"lgb\"\n",
        "# storage = \"sqlite:///lgb.db\"\n",
        "\n",
        "# study = optuna.create_study(storage=storage,\n",
        "#                             study_name=study_name,\n",
        "#                             direction=\"maximize\",\n",
        "#                             sampler=TPESampler(n_startup_trials=20, multivariate=True),\n",
        "#                             load_if_exists=True)\n",
        "\n",
        "# study.optimize(objective, n_trials=100)\n",
        "\n",
        "# print(study.best_params)"
      ]
    },
    {
      "cell_type": "code",
      "execution_count": 31,
      "metadata": {
        "_kg_hide-input": false,
        "execution": {
          "iopub.execute_input": "2024-08-26T14:22:24.93885Z",
          "iopub.status.busy": "2024-08-26T14:22:24.938101Z",
          "iopub.status.idle": "2024-08-26T14:22:24.94713Z",
          "shell.execute_reply": "2024-08-26T14:22:24.946112Z",
          "shell.execute_reply.started": "2024-08-26T14:22:24.938814Z"
        },
        "id": "HsCZoBE7GgEY",
        "trusted": true
      },
      "outputs": [],
      "source": [
        "xgb_params = {\n",
        "    'n_estimators': 2407,\n",
        "    'eta': 0.009462133032592785,\n",
        "    'gamma': 0.2865859948765318,\n",
        "    'max_depth': 31,\n",
        "    'min_child_weight': 47,\n",
        "    'subsample': 0.6956431754146083,\n",
        "    'colsample_bytree': 0.3670732604094118,\n",
        "    'grow_policy': 'lossguide',\n",
        "    'max_leaves': 73,\n",
        "    'enable_categorical': True,\n",
        "    'n_jobs': -1,\n",
        "    'device': 'cuda',\n",
        "    'tree_method': 'hist'\n",
        "} # 0.9844272567086021\n",
        "\n",
        "cat_params = {\n",
        "    'iterations': 1041,\n",
        "    'learning_rate': 0.08777255350163136,\n",
        "    'depth': 10,\n",
        "    'l2_leaf_reg': 0.1259643500248322,\n",
        "    'bootstrap_type': 'Bayesian',\n",
        "    'random_strength': 4.276181166674371e-08,\n",
        "    'bagging_temperature': 0.35995482350907326,\n",
        "    'od_type': 'Iter',\n",
        "    'od_wait': 39,\n",
        "    \"verbose\": False,\n",
        "    \"allow_writing_files\": False,\n",
        "    \"task_type\": 'GPU',\n",
        "    \"cat_features\": categorical_features\n",
        "} # 0.9841773055825763\n",
        "\n",
        "lgb_params = {\n",
        "    'n_estimators': 2500,\n",
        "    'random_state':42,\n",
        "    'max_bin':1024,\n",
        "    'colsample_bytree':0.6,\n",
        "    'reg_lambda': 80,\n",
        "#     'device': 'gpu',\n",
        "    'verbosity': -1\n",
        "}"
      ]
    },
    {
      "cell_type": "markdown",
      "metadata": {
        "id": "piLOrFBQGgEY"
      },
      "source": [
        "## Prediction"
      ]
    },
    {
      "cell_type": "code",
      "execution_count": 32,
      "metadata": {
        "execution": {
          "iopub.execute_input": "2024-08-26T14:22:25.566648Z",
          "iopub.status.busy": "2024-08-26T14:22:25.566214Z"
        },
        "id": "qf0kl_mFGgEY",
        "outputId": "93d72939-7212-4371-afa4-70a2fadc09f3",
        "trusted": true
      },
      "outputs": [
        {
          "name": "stdout",
          "output_type": "stream",
          "text": [
            "================================================================================\n",
            "Training LGBMClassifier\n",
            "================================================================================\n",
            "--- Fold 1 MCC Score: 0.984924\n",
            "--- Fold 2 MCC Score: 0.985051\n",
            "--- Fold 3 MCC Score: 0.985136\n",
            "--- Fold 4 MCC Score: 0.985082\n",
            "--- Fold 5 MCC Score: 0.984670\n",
            "\n",
            "---> Mean MCC Score: 0.984973 ± 0.000167\n",
            "\n",
            "\n"
          ]
        }
      ],
      "source": [
        "oof_probs = {}\n",
        "# oof_probs['xgb'], _ = model_trainer(XGBClassifier(**xgb_params), X, y, random_state=101)\n",
        "# oof_probs['cat'], _ = model_trainer(CatBoostClassifier(**cat_params), X, y, random_state=101)\n",
        "oof_probs['lgb'], _ = model_trainer(LGBMClassifier(**lgb_params), X, y, random_state=101)"
      ]
    },
    {
      "cell_type": "code",
      "execution_count": 49,
      "metadata": {
        "id": "Zymiibz5GgEZ",
        "trusted": true
      },
      "outputs": [],
      "source": [
        "oof_preds = {}\n",
        "for model in oof_probs.keys():\n",
        "    oof_preds[model] = np.argmax(np.mean(oof_probs[model], axis=0), axis=1)"
      ]
    },
    {
      "cell_type": "markdown",
      "metadata": {
        "id": "gBfKy5z5GgEZ"
      },
      "source": [
        "# Submission"
      ]
    },
    {
      "cell_type": "code",
      "execution_count": 35,
      "metadata": {},
      "outputs": [
        {
          "data": {
            "text/html": [
              "<div>\n",
              "<style scoped>\n",
              "    .dataframe tbody tr th:only-of-type {\n",
              "        vertical-align: middle;\n",
              "    }\n",
              "\n",
              "    .dataframe tbody tr th {\n",
              "        vertical-align: top;\n",
              "    }\n",
              "\n",
              "    .dataframe thead th {\n",
              "        text-align: right;\n",
              "    }\n",
              "</style>\n",
              "<table border=\"1\" class=\"dataframe\">\n",
              "  <thead>\n",
              "    <tr style=\"text-align: right;\">\n",
              "      <th></th>\n",
              "      <th>cap-diameter</th>\n",
              "      <th>cap-shape</th>\n",
              "      <th>cap-surface</th>\n",
              "      <th>cap-color</th>\n",
              "      <th>does-bruise-or-bleed</th>\n",
              "      <th>gill-attachment</th>\n",
              "      <th>gill-spacing</th>\n",
              "      <th>gill-color</th>\n",
              "      <th>stem-height</th>\n",
              "      <th>stem-width</th>\n",
              "      <th>stem-root</th>\n",
              "      <th>stem-surface</th>\n",
              "      <th>stem-color</th>\n",
              "      <th>veil-type</th>\n",
              "      <th>veil-color</th>\n",
              "      <th>has-ring</th>\n",
              "      <th>ring-type</th>\n",
              "      <th>spore-print-color</th>\n",
              "      <th>habitat</th>\n",
              "      <th>season</th>\n",
              "    </tr>\n",
              "    <tr>\n",
              "      <th>id</th>\n",
              "      <th></th>\n",
              "      <th></th>\n",
              "      <th></th>\n",
              "      <th></th>\n",
              "      <th></th>\n",
              "      <th></th>\n",
              "      <th></th>\n",
              "      <th></th>\n",
              "      <th></th>\n",
              "      <th></th>\n",
              "      <th></th>\n",
              "      <th></th>\n",
              "      <th></th>\n",
              "      <th></th>\n",
              "      <th></th>\n",
              "      <th></th>\n",
              "      <th></th>\n",
              "      <th></th>\n",
              "      <th></th>\n",
              "      <th></th>\n",
              "    </tr>\n",
              "  </thead>\n",
              "  <tbody>\n",
              "    <tr>\n",
              "      <th>3116945</th>\n",
              "      <td>8.64</td>\n",
              "      <td>x</td>\n",
              "      <td>missing</td>\n",
              "      <td>n</td>\n",
              "      <td>t</td>\n",
              "      <td>missing</td>\n",
              "      <td>missing</td>\n",
              "      <td>w</td>\n",
              "      <td>11.13</td>\n",
              "      <td>17.12</td>\n",
              "      <td>b</td>\n",
              "      <td>missing</td>\n",
              "      <td>w</td>\n",
              "      <td>u</td>\n",
              "      <td>w</td>\n",
              "      <td>t</td>\n",
              "      <td>g</td>\n",
              "      <td>missing</td>\n",
              "      <td>d</td>\n",
              "      <td>a</td>\n",
              "    </tr>\n",
              "    <tr>\n",
              "      <th>3116946</th>\n",
              "      <td>6.90</td>\n",
              "      <td>o</td>\n",
              "      <td>t</td>\n",
              "      <td>o</td>\n",
              "      <td>f</td>\n",
              "      <td>missing</td>\n",
              "      <td>c</td>\n",
              "      <td>y</td>\n",
              "      <td>1.27</td>\n",
              "      <td>10.75</td>\n",
              "      <td>missing</td>\n",
              "      <td>missing</td>\n",
              "      <td>n</td>\n",
              "      <td>missing</td>\n",
              "      <td>missing</td>\n",
              "      <td>f</td>\n",
              "      <td>f</td>\n",
              "      <td>missing</td>\n",
              "      <td>d</td>\n",
              "      <td>a</td>\n",
              "    </tr>\n",
              "    <tr>\n",
              "      <th>3116947</th>\n",
              "      <td>2.00</td>\n",
              "      <td>b</td>\n",
              "      <td>g</td>\n",
              "      <td>n</td>\n",
              "      <td>f</td>\n",
              "      <td>missing</td>\n",
              "      <td>c</td>\n",
              "      <td>n</td>\n",
              "      <td>6.18</td>\n",
              "      <td>3.14</td>\n",
              "      <td>missing</td>\n",
              "      <td>missing</td>\n",
              "      <td>n</td>\n",
              "      <td>missing</td>\n",
              "      <td>missing</td>\n",
              "      <td>f</td>\n",
              "      <td>f</td>\n",
              "      <td>missing</td>\n",
              "      <td>d</td>\n",
              "      <td>s</td>\n",
              "    </tr>\n",
              "    <tr>\n",
              "      <th>3116948</th>\n",
              "      <td>3.47</td>\n",
              "      <td>x</td>\n",
              "      <td>t</td>\n",
              "      <td>n</td>\n",
              "      <td>f</td>\n",
              "      <td>s</td>\n",
              "      <td>c</td>\n",
              "      <td>n</td>\n",
              "      <td>4.98</td>\n",
              "      <td>8.51</td>\n",
              "      <td>missing</td>\n",
              "      <td>missing</td>\n",
              "      <td>w</td>\n",
              "      <td>missing</td>\n",
              "      <td>n</td>\n",
              "      <td>t</td>\n",
              "      <td>z</td>\n",
              "      <td>missing</td>\n",
              "      <td>d</td>\n",
              "      <td>u</td>\n",
              "    </tr>\n",
              "    <tr>\n",
              "      <th>3116949</th>\n",
              "      <td>6.17</td>\n",
              "      <td>x</td>\n",
              "      <td>h</td>\n",
              "      <td>y</td>\n",
              "      <td>f</td>\n",
              "      <td>p</td>\n",
              "      <td>missing</td>\n",
              "      <td>y</td>\n",
              "      <td>6.73</td>\n",
              "      <td>13.70</td>\n",
              "      <td>missing</td>\n",
              "      <td>missing</td>\n",
              "      <td>y</td>\n",
              "      <td>missing</td>\n",
              "      <td>y</td>\n",
              "      <td>t</td>\n",
              "      <td>missing</td>\n",
              "      <td>missing</td>\n",
              "      <td>d</td>\n",
              "      <td>u</td>\n",
              "    </tr>\n",
              "    <tr>\n",
              "      <th>...</th>\n",
              "      <td>...</td>\n",
              "      <td>...</td>\n",
              "      <td>...</td>\n",
              "      <td>...</td>\n",
              "      <td>...</td>\n",
              "      <td>...</td>\n",
              "      <td>...</td>\n",
              "      <td>...</td>\n",
              "      <td>...</td>\n",
              "      <td>...</td>\n",
              "      <td>...</td>\n",
              "      <td>...</td>\n",
              "      <td>...</td>\n",
              "      <td>...</td>\n",
              "      <td>...</td>\n",
              "      <td>...</td>\n",
              "      <td>...</td>\n",
              "      <td>...</td>\n",
              "      <td>...</td>\n",
              "      <td>...</td>\n",
              "    </tr>\n",
              "    <tr>\n",
              "      <th>5194904</th>\n",
              "      <td>0.88</td>\n",
              "      <td>x</td>\n",
              "      <td>g</td>\n",
              "      <td>w</td>\n",
              "      <td>f</td>\n",
              "      <td>a</td>\n",
              "      <td>d</td>\n",
              "      <td>w</td>\n",
              "      <td>2.67</td>\n",
              "      <td>1.35</td>\n",
              "      <td>missing</td>\n",
              "      <td>missing</td>\n",
              "      <td>e</td>\n",
              "      <td>missing</td>\n",
              "      <td>missing</td>\n",
              "      <td>f</td>\n",
              "      <td>f</td>\n",
              "      <td>missing</td>\n",
              "      <td>d</td>\n",
              "      <td>u</td>\n",
              "    </tr>\n",
              "    <tr>\n",
              "      <th>5194905</th>\n",
              "      <td>3.12</td>\n",
              "      <td>x</td>\n",
              "      <td>s</td>\n",
              "      <td>w</td>\n",
              "      <td>f</td>\n",
              "      <td>d</td>\n",
              "      <td>c</td>\n",
              "      <td>w</td>\n",
              "      <td>2.69</td>\n",
              "      <td>7.38</td>\n",
              "      <td>missing</td>\n",
              "      <td>missing</td>\n",
              "      <td>w</td>\n",
              "      <td>missing</td>\n",
              "      <td>missing</td>\n",
              "      <td>f</td>\n",
              "      <td>f</td>\n",
              "      <td>missing</td>\n",
              "      <td>g</td>\n",
              "      <td>a</td>\n",
              "    </tr>\n",
              "    <tr>\n",
              "      <th>5194906</th>\n",
              "      <td>5.73</td>\n",
              "      <td>x</td>\n",
              "      <td>e</td>\n",
              "      <td>e</td>\n",
              "      <td>f</td>\n",
              "      <td>a</td>\n",
              "      <td>missing</td>\n",
              "      <td>w</td>\n",
              "      <td>6.16</td>\n",
              "      <td>9.74</td>\n",
              "      <td>missing</td>\n",
              "      <td>missing</td>\n",
              "      <td>y</td>\n",
              "      <td>missing</td>\n",
              "      <td>w</td>\n",
              "      <td>t</td>\n",
              "      <td>z</td>\n",
              "      <td>missing</td>\n",
              "      <td>d</td>\n",
              "      <td>a</td>\n",
              "    </tr>\n",
              "    <tr>\n",
              "      <th>5194907</th>\n",
              "      <td>5.03</td>\n",
              "      <td>b</td>\n",
              "      <td>g</td>\n",
              "      <td>n</td>\n",
              "      <td>f</td>\n",
              "      <td>a</td>\n",
              "      <td>d</td>\n",
              "      <td>g</td>\n",
              "      <td>6.00</td>\n",
              "      <td>3.46</td>\n",
              "      <td>missing</td>\n",
              "      <td>s</td>\n",
              "      <td>g</td>\n",
              "      <td>missing</td>\n",
              "      <td>missing</td>\n",
              "      <td>f</td>\n",
              "      <td>f</td>\n",
              "      <td>missing</td>\n",
              "      <td>d</td>\n",
              "      <td>a</td>\n",
              "    </tr>\n",
              "    <tr>\n",
              "      <th>5194908</th>\n",
              "      <td>15.51</td>\n",
              "      <td>f</td>\n",
              "      <td>missing</td>\n",
              "      <td>w</td>\n",
              "      <td>f</td>\n",
              "      <td>d</td>\n",
              "      <td>c</td>\n",
              "      <td>y</td>\n",
              "      <td>2.69</td>\n",
              "      <td>17.71</td>\n",
              "      <td>missing</td>\n",
              "      <td>missing</td>\n",
              "      <td>w</td>\n",
              "      <td>missing</td>\n",
              "      <td>missing</td>\n",
              "      <td>f</td>\n",
              "      <td>f</td>\n",
              "      <td>missing</td>\n",
              "      <td>d</td>\n",
              "      <td>w</td>\n",
              "    </tr>\n",
              "  </tbody>\n",
              "</table>\n",
              "<p>2077964 rows × 20 columns</p>\n",
              "</div>"
            ],
            "text/plain": [
              "         cap-diameter cap-shape cap-surface cap-color does-bruise-or-bleed  \\\n",
              "id                                                                           \n",
              "3116945          8.64         x     missing         n                    t   \n",
              "3116946          6.90         o           t         o                    f   \n",
              "3116947          2.00         b           g         n                    f   \n",
              "3116948          3.47         x           t         n                    f   \n",
              "3116949          6.17         x           h         y                    f   \n",
              "...               ...       ...         ...       ...                  ...   \n",
              "5194904          0.88         x           g         w                    f   \n",
              "5194905          3.12         x           s         w                    f   \n",
              "5194906          5.73         x           e         e                    f   \n",
              "5194907          5.03         b           g         n                    f   \n",
              "5194908         15.51         f     missing         w                    f   \n",
              "\n",
              "        gill-attachment gill-spacing gill-color  stem-height  stem-width  \\\n",
              "id                                                                         \n",
              "3116945         missing      missing          w        11.13       17.12   \n",
              "3116946         missing            c          y         1.27       10.75   \n",
              "3116947         missing            c          n         6.18        3.14   \n",
              "3116948               s            c          n         4.98        8.51   \n",
              "3116949               p      missing          y         6.73       13.70   \n",
              "...                 ...          ...        ...          ...         ...   \n",
              "5194904               a            d          w         2.67        1.35   \n",
              "5194905               d            c          w         2.69        7.38   \n",
              "5194906               a      missing          w         6.16        9.74   \n",
              "5194907               a            d          g         6.00        3.46   \n",
              "5194908               d            c          y         2.69       17.71   \n",
              "\n",
              "        stem-root stem-surface stem-color veil-type veil-color has-ring  \\\n",
              "id                                                                        \n",
              "3116945         b      missing          w         u          w        t   \n",
              "3116946   missing      missing          n   missing    missing        f   \n",
              "3116947   missing      missing          n   missing    missing        f   \n",
              "3116948   missing      missing          w   missing          n        t   \n",
              "3116949   missing      missing          y   missing          y        t   \n",
              "...           ...          ...        ...       ...        ...      ...   \n",
              "5194904   missing      missing          e   missing    missing        f   \n",
              "5194905   missing      missing          w   missing    missing        f   \n",
              "5194906   missing      missing          y   missing          w        t   \n",
              "5194907   missing            s          g   missing    missing        f   \n",
              "5194908   missing      missing          w   missing    missing        f   \n",
              "\n",
              "        ring-type spore-print-color habitat season  \n",
              "id                                                  \n",
              "3116945         g           missing       d      a  \n",
              "3116946         f           missing       d      a  \n",
              "3116947         f           missing       d      s  \n",
              "3116948         z           missing       d      u  \n",
              "3116949   missing           missing       d      u  \n",
              "...           ...               ...     ...    ...  \n",
              "5194904         f           missing       d      u  \n",
              "5194905         f           missing       g      a  \n",
              "5194906         z           missing       d      a  \n",
              "5194907         f           missing       d      a  \n",
              "5194908         f           missing       d      w  \n",
              "\n",
              "[2077964 rows x 20 columns]"
            ]
          },
          "execution_count": 35,
          "metadata": {},
          "output_type": "execute_result"
        }
      ],
      "source": [
        "test_df"
      ]
    },
    {
      "cell_type": "code",
      "execution_count": 37,
      "metadata": {},
      "outputs": [
        {
          "data": {
            "text/html": [
              "<div>\n",
              "<style scoped>\n",
              "    .dataframe tbody tr th:only-of-type {\n",
              "        vertical-align: middle;\n",
              "    }\n",
              "\n",
              "    .dataframe tbody tr th {\n",
              "        vertical-align: top;\n",
              "    }\n",
              "\n",
              "    .dataframe thead th {\n",
              "        text-align: right;\n",
              "    }\n",
              "</style>\n",
              "<table border=\"1\" class=\"dataframe\">\n",
              "  <thead>\n",
              "    <tr style=\"text-align: right;\">\n",
              "      <th></th>\n",
              "      <th>id</th>\n",
              "      <th>class</th>\n",
              "    </tr>\n",
              "  </thead>\n",
              "  <tbody>\n",
              "    <tr>\n",
              "      <th>0</th>\n",
              "      <td>3116945</td>\n",
              "      <td>e</td>\n",
              "    </tr>\n",
              "    <tr>\n",
              "      <th>1</th>\n",
              "      <td>3116946</td>\n",
              "      <td>e</td>\n",
              "    </tr>\n",
              "    <tr>\n",
              "      <th>2</th>\n",
              "      <td>3116947</td>\n",
              "      <td>e</td>\n",
              "    </tr>\n",
              "    <tr>\n",
              "      <th>3</th>\n",
              "      <td>3116948</td>\n",
              "      <td>e</td>\n",
              "    </tr>\n",
              "    <tr>\n",
              "      <th>4</th>\n",
              "      <td>3116949</td>\n",
              "      <td>e</td>\n",
              "    </tr>\n",
              "  </tbody>\n",
              "</table>\n",
              "</div>"
            ],
            "text/plain": [
              "        id class\n",
              "0  3116945     e\n",
              "1  3116946     e\n",
              "2  3116947     e\n",
              "3  3116948     e\n",
              "4  3116949     e"
            ]
          },
          "execution_count": 37,
          "metadata": {},
          "output_type": "execute_result"
        }
      ],
      "source": [
        "sub = pd.read_csv(\"/Users/no.2/Desktop/mush/playground-series-s4e8/sample_submission.csv\")"
      ]
    },
    {
      "cell_type": "code",
      "execution_count": 38,
      "metadata": {},
      "outputs": [
        {
          "name": "stdout",
          "output_type": "stream",
          "text": [
            "done!\n"
          ]
        }
      ],
      "source": [
        "# 전체 데이터로 학습, test 예측\n",
        "model = LGBMClassifier(**lgb_params)\n",
        "model.fit(X, y)\n",
        "pred = model.predict(test_df)\n",
        "print('done!')\n"
      ]
    },
    {
      "cell_type": "code",
      "execution_count": 40,
      "metadata": {},
      "outputs": [],
      "source": [
        "# target 변환 및 csv 생성\n",
        "sub[target] = lab_enc.inverse_transform(pred)\n",
        "sub.to_csv(\"submission.csv\", index=False)"
      ]
    },
    {
      "cell_type": "code",
      "execution_count": 50,
      "metadata": {
        "id": "Fql-pm1JGgEZ",
        "trusted": true
      },
      "outputs": [],
      "source": [
        "sub = pd.read_csv(\"/Users/no.2/Desktop/mush/playground-series-s4e8/sample_submission.csv\")\n",
        "preds = [pred for model, pred in oof_preds.items()]\n",
        "md = mode(preds, axis=0)[0] if len(preds)>1 else preds[0]\n",
        "sub[target] = lab_enc.inverse_transform(md)\n",
        "sub.to_csv(\"submission_2.csv\", index=False)"
      ]
    },
    {
      "cell_type": "code",
      "execution_count": 51,
      "metadata": {},
      "outputs": [
        {
          "data": {
            "text/plain": [
              "[array([0, 1, 1, ..., 1, 0, 0])]"
            ]
          },
          "execution_count": 51,
          "metadata": {},
          "output_type": "execute_result"
        }
      ],
      "source": [
        "preds"
      ]
    },
    {
      "cell_type": "code",
      "execution_count": null,
      "metadata": {},
      "outputs": [],
      "source": []
    }
  ],
  "metadata": {
    "accelerator": "GPU",
    "colab": {
      "gpuType": "A100",
      "machine_shape": "hm",
      "name": "[0.98530] 🍄‍🟫 Can you eat 🍄‍🟫?",
      "provenance": []
    },
    "kaggle": {
      "accelerator": "gpu",
      "dataSources": [
        {
          "databundleVersionId": 9045607,
          "sourceId": 76727,
          "sourceType": "competition"
        },
        {
          "datasetId": 2327251,
          "sourceId": 3918849,
          "sourceType": "datasetVersion"
        },
        {
          "sourceId": 192934997,
          "sourceType": "kernelVersion"
        },
        {
          "sourceId": 192988856,
          "sourceType": "kernelVersion"
        },
        {
          "sourceId": 193240295,
          "sourceType": "kernelVersion"
        },
        {
          "sourceId": 194042613,
          "sourceType": "kernelVersion"
        },
        {
          "sourceId": 194069363,
          "sourceType": "kernelVersion"
        }
      ],
      "dockerImageVersionId": 30747,
      "isGpuEnabled": true,
      "isInternetEnabled": true,
      "language": "python",
      "sourceType": "notebook"
    },
    "kernelspec": {
      "display_name": "Python 3",
      "name": "python3"
    },
    "language_info": {
      "codemirror_mode": {
        "name": "ipython",
        "version": 3
      },
      "file_extension": ".py",
      "mimetype": "text/x-python",
      "name": "python",
      "nbconvert_exporter": "python",
      "pygments_lexer": "ipython3",
      "version": "3.9.6"
    }
  },
  "nbformat": 4,
  "nbformat_minor": 0
}
