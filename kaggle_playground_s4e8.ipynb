{
  "metadata": {
    "kernelspec": {
      "name": "python3",
      "display_name": "Python 3"
    },
    "language_info": {
      "name": "python",
      "version": "3.10.13",
      "mimetype": "text/x-python",
      "codemirror_mode": {
        "name": "ipython",
        "version": 3
      },
      "pygments_lexer": "ipython3",
      "nbconvert_exporter": "python",
      "file_extension": ".py"
    },
    "kaggle": {
      "accelerator": "gpu",
      "dataSources": [
        {
          "sourceId": 76727,
          "databundleVersionId": 9045607,
          "sourceType": "competition"
        },
        {
          "sourceId": 3918849,
          "sourceType": "datasetVersion",
          "datasetId": 2327251
        },
        {
          "sourceId": 192934997,
          "sourceType": "kernelVersion"
        },
        {
          "sourceId": 192988856,
          "sourceType": "kernelVersion"
        },
        {
          "sourceId": 193224738,
          "sourceType": "kernelVersion"
        },
        {
          "sourceId": 193240295,
          "sourceType": "kernelVersion"
        },
        {
          "sourceId": 193241746,
          "sourceType": "kernelVersion"
        }
      ],
      "dockerImageVersionId": 30746,
      "isInternetEnabled": true,
      "language": "python",
      "sourceType": "notebook",
      "isGpuEnabled": true
    },
    "colab": {
      "provenance": [],
      "machine_shape": "hm",
      "gpuType": "A100"
    },
    "accelerator": "GPU"
  },
  "nbformat_minor": 0,
  "nbformat": 4,
  "cells": [
    {
      "cell_type": "markdown",
      "source": [
        "# Binary Prediction of Poisonous Mushrooms\n",
        "Playground Series - Season 4, Episode 8\n",
        "### https://www.kaggle.com/competitions/playground-series-s4e8/overview"
      ],
      "metadata": {
        "id": "-qSbvZgBg0Xg"
      }
    },
    {
      "cell_type": "markdown",
      "source": [
        "# Import Libraries"
      ],
      "metadata": {
        "id": "L1T1byW6UKkl"
      }
    },
    {
      "cell_type": "code",
      "source": [
        "!pip install catboost"
      ],
      "metadata": {
        "id": "gjuLm9a6Ubug"
      },
      "execution_count": null,
      "outputs": []
    },
    {
      "cell_type": "code",
      "source": [
        "import numpy as np\n",
        "import pandas as pd\n",
        "import matplotlib.pyplot as plt\n",
        "import seaborn as sns\n",
        "import warnings\n",
        "\n",
        "warnings.filterwarnings(\"ignore\")\n",
        "\n",
        "from sklearn.impute import SimpleImputer\n",
        "from sklearn.model_selection import StratifiedKFold, train_test_split, cross_val_score, cross_validate\n",
        "from sklearn.metrics import matthews_corrcoef, f1_score, confusion_matrix, ConfusionMatrixDisplay, make_scorer\n",
        "from sklearn.preprocessing import StandardScaler, LabelEncoder\n",
        "from scipy.stats import mode\n",
        "\n",
        "from xgboost import XGBClassifier\n",
        "from catboost import CatBoostClassifier\n",
        "from lightgbm import LGBMClassifier"
      ],
      "metadata": {
        "execution": {
          "iopub.status.busy": "2024-08-20T12:10:29.506495Z",
          "iopub.execute_input": "2024-08-20T12:10:29.506939Z",
          "iopub.status.idle": "2024-08-20T12:10:34.512828Z",
          "shell.execute_reply.started": "2024-08-20T12:10:29.506877Z",
          "shell.execute_reply": "2024-08-20T12:10:34.51182Z"
        },
        "trusted": true,
        "id": "hJ2nzQANUKkl"
      },
      "execution_count": null,
      "outputs": []
    },
    {
      "cell_type": "markdown",
      "source": [
        "# Loading Data"
      ],
      "metadata": {
        "id": "dTsHE9xjUKkm"
      }
    },
    {
      "cell_type": "code",
      "source": [
        "train_df = pd.read_csv(\"/kaggle/input/playground-series-s4e8/train.csv\", index_col='id')\n",
        "# orig_df = pd.read_csv(\"/kaggle/input/secondary-mushroom-dataset-data-set/MushroomDataset/secondary_data.csv\", sep=\";\")\n",
        "test_df = pd.read_csv(\"/kaggle/input/playground-series-s4e8/test.csv\", index_col='id')"
      ],
      "metadata": {
        "execution": {
          "iopub.status.busy": "2024-08-20T12:10:34.514839Z",
          "iopub.execute_input": "2024-08-20T12:10:34.515592Z",
          "iopub.status.idle": "2024-08-20T12:10:50.358689Z",
          "shell.execute_reply.started": "2024-08-20T12:10:34.515554Z",
          "shell.execute_reply": "2024-08-20T12:10:50.357816Z"
        },
        "trusted": true,
        "id": "AYPJiWkyUKkm"
      },
      "execution_count": null,
      "outputs": []
    },
    {
      "cell_type": "code",
      "source": [
        "print(train_df.duplicated().sum())\n",
        "train_df.drop_duplicates(inplace=True)"
      ],
      "metadata": {
        "execution": {
          "iopub.status.busy": "2024-08-20T12:11:12.297846Z",
          "iopub.execute_input": "2024-08-20T12:11:12.298135Z",
          "iopub.status.idle": "2024-08-20T12:11:19.908957Z",
          "shell.execute_reply.started": "2024-08-20T12:11:12.29811Z",
          "shell.execute_reply": "2024-08-20T12:11:19.90811Z"
        },
        "trusted": true,
        "id": "y3llHrvsUKkn",
        "outputId": "afa2154b-85ef-4216-8a70-2ab831a9a852",
        "colab": {
          "base_uri": "https://localhost:8080/"
        }
      },
      "execution_count": null,
      "outputs": [
        {
          "output_type": "stream",
          "name": "stdout",
          "text": [
            "0\n"
          ]
        }
      ]
    },
    {
      "cell_type": "code",
      "source": [
        "target = 'class'"
      ],
      "metadata": {
        "execution": {
          "iopub.status.busy": "2024-08-20T12:11:28.261989Z",
          "iopub.execute_input": "2024-08-20T12:11:28.262438Z",
          "iopub.status.idle": "2024-08-20T12:11:28.267933Z",
          "shell.execute_reply.started": "2024-08-20T12:11:28.262398Z",
          "shell.execute_reply": "2024-08-20T12:11:28.266978Z"
        },
        "trusted": true,
        "id": "A7jhjpvpUKkn"
      },
      "execution_count": null,
      "outputs": []
    },
    {
      "cell_type": "code",
      "source": [
        "features = train_df.drop(target, axis=1).columns.to_list()\n",
        "features"
      ],
      "metadata": {
        "execution": {
          "iopub.status.busy": "2024-08-20T12:11:28.269282Z",
          "iopub.execute_input": "2024-08-20T12:11:28.269789Z",
          "iopub.status.idle": "2024-08-20T12:11:29.017621Z",
          "shell.execute_reply.started": "2024-08-20T12:11:28.269762Z",
          "shell.execute_reply": "2024-08-20T12:11:29.01672Z"
        },
        "trusted": true,
        "id": "EdKADRY2UKkn",
        "outputId": "236da15a-6560-4069-c99c-e16f578a76b6",
        "colab": {
          "base_uri": "https://localhost:8080/"
        }
      },
      "execution_count": null,
      "outputs": [
        {
          "output_type": "execute_result",
          "data": {
            "text/plain": [
              "['cap-diameter',\n",
              " 'cap-shape',\n",
              " 'cap-surface',\n",
              " 'cap-color',\n",
              " 'does-bruise-or-bleed',\n",
              " 'gill-attachment',\n",
              " 'gill-spacing',\n",
              " 'gill-color',\n",
              " 'stem-height',\n",
              " 'stem-width',\n",
              " 'stem-root',\n",
              " 'stem-surface',\n",
              " 'stem-color',\n",
              " 'veil-type',\n",
              " 'veil-color',\n",
              " 'has-ring',\n",
              " 'ring-type',\n",
              " 'spore-print-color',\n",
              " 'habitat',\n",
              " 'season']"
            ]
          },
          "metadata": {},
          "execution_count": 11
        }
      ]
    },
    {
      "cell_type": "code",
      "source": [
        "features_with_high_null_values = [feature for feature in features if (train_df[feature].isna().sum()/len(train_df)*100)>20]\n",
        "features_with_high_null_values"
      ],
      "metadata": {
        "execution": {
          "iopub.status.busy": "2024-08-20T12:11:29.018892Z",
          "iopub.execute_input": "2024-08-20T12:11:29.019234Z",
          "iopub.status.idle": "2024-08-20T12:11:32.939179Z",
          "shell.execute_reply.started": "2024-08-20T12:11:29.019202Z",
          "shell.execute_reply": "2024-08-20T12:11:32.9383Z"
        },
        "trusted": true,
        "id": "dl5o2cp2UKkn",
        "outputId": "ccfc30ff-4efe-4b59-bf86-85514c6467cf",
        "colab": {
          "base_uri": "https://localhost:8080/"
        }
      },
      "execution_count": null,
      "outputs": [
        {
          "output_type": "execute_result",
          "data": {
            "text/plain": [
              "['cap-surface',\n",
              " 'gill-spacing',\n",
              " 'stem-root',\n",
              " 'stem-surface',\n",
              " 'veil-type',\n",
              " 'veil-color',\n",
              " 'spore-print-color']"
            ]
          },
          "metadata": {},
          "execution_count": 12
        }
      ]
    },
    {
      "cell_type": "code",
      "source": [
        "categorical_features = train_df[features].select_dtypes(include='object').columns.to_list()\n",
        "categorical_features"
      ],
      "metadata": {
        "execution": {
          "iopub.status.busy": "2024-08-20T12:11:32.940182Z",
          "iopub.execute_input": "2024-08-20T12:11:32.940443Z",
          "iopub.status.idle": "2024-08-20T12:11:35.934008Z",
          "shell.execute_reply.started": "2024-08-20T12:11:32.940419Z",
          "shell.execute_reply": "2024-08-20T12:11:35.933052Z"
        },
        "trusted": true,
        "id": "Rv201RU3UKkn",
        "outputId": "d0014510-d2a6-4084-9dcd-db75c411c197",
        "colab": {
          "base_uri": "https://localhost:8080/"
        }
      },
      "execution_count": null,
      "outputs": [
        {
          "output_type": "execute_result",
          "data": {
            "text/plain": [
              "['cap-shape',\n",
              " 'cap-surface',\n",
              " 'cap-color',\n",
              " 'does-bruise-or-bleed',\n",
              " 'gill-attachment',\n",
              " 'gill-spacing',\n",
              " 'gill-color',\n",
              " 'stem-root',\n",
              " 'stem-surface',\n",
              " 'stem-color',\n",
              " 'veil-type',\n",
              " 'veil-color',\n",
              " 'has-ring',\n",
              " 'ring-type',\n",
              " 'spore-print-color',\n",
              " 'habitat',\n",
              " 'season']"
            ]
          },
          "metadata": {},
          "execution_count": 13
        }
      ]
    },
    {
      "cell_type": "code",
      "source": [
        "numerical_features = list(set(features) - set(categorical_features))\n",
        "numerical_features"
      ],
      "metadata": {
        "execution": {
          "iopub.status.busy": "2024-08-20T12:11:35.935239Z",
          "iopub.execute_input": "2024-08-20T12:11:35.935532Z",
          "iopub.status.idle": "2024-08-20T12:11:35.941629Z",
          "shell.execute_reply.started": "2024-08-20T12:11:35.935507Z",
          "shell.execute_reply": "2024-08-20T12:11:35.940772Z"
        },
        "trusted": true,
        "id": "77Ks31nDUKko",
        "outputId": "328ffb79-3c47-4f2d-9d8e-dbfcb2d2eb07",
        "colab": {
          "base_uri": "https://localhost:8080/"
        }
      },
      "execution_count": null,
      "outputs": [
        {
          "output_type": "execute_result",
          "data": {
            "text/plain": [
              "['cap-diameter', 'stem-width', 'stem-height']"
            ]
          },
          "metadata": {},
          "execution_count": 14
        }
      ]
    },
    {
      "cell_type": "markdown",
      "source": [
        "# Imputing Null Values"
      ],
      "metadata": {
        "id": "iv1q74PHUKkp"
      }
    },
    {
      "cell_type": "code",
      "source": [
        "def cleaner(df):\n",
        "    for col in categorical_features:\n",
        "        df[col] = df[col].fillna('missing')\n",
        "        df.loc[df[col].value_counts(dropna=False)[df[col]].values < 100, col] = \"noise\"\n",
        "        df[col] = df[col].astype('category')\n",
        "\n",
        "    return df"
      ],
      "metadata": {
        "execution": {
          "iopub.status.busy": "2024-08-17T10:21:59.287669Z",
          "iopub.execute_input": "2024-08-17T10:21:59.28802Z",
          "iopub.status.idle": "2024-08-17T10:21:59.29399Z",
          "shell.execute_reply.started": "2024-08-17T10:21:59.287994Z",
          "shell.execute_reply": "2024-08-17T10:21:59.29285Z"
        },
        "trusted": true,
        "id": "p-Uv8ffdUKkp"
      },
      "execution_count": null,
      "outputs": []
    },
    {
      "cell_type": "code",
      "source": [
        "train_df = cleaner(train_df)\n",
        "test_df = cleaner(test_df)"
      ],
      "metadata": {
        "execution": {
          "iopub.status.busy": "2024-08-17T10:22:02.153672Z",
          "iopub.execute_input": "2024-08-17T10:22:02.154015Z",
          "iopub.status.idle": "2024-08-17T10:22:31.155272Z",
          "shell.execute_reply.started": "2024-08-17T10:22:02.153988Z",
          "shell.execute_reply": "2024-08-17T10:22:31.154481Z"
        },
        "trusted": true,
        "id": "OBEZUBQgUKkq"
      },
      "execution_count": null,
      "outputs": []
    },
    {
      "cell_type": "code",
      "source": [
        "cap_diameter_mean = pd.concat([train_df['cap-diameter'], test_df['cap-diameter']]).mean(numeric_only=True)\n",
        "train_df['cap-diameter'].fillna(cap_diameter_mean, inplace=True)\n",
        "test_df['cap-diameter'].fillna(cap_diameter_mean, inplace=True)"
      ],
      "metadata": {
        "execution": {
          "iopub.status.busy": "2024-08-17T10:22:31.157144Z",
          "iopub.execute_input": "2024-08-17T10:22:31.158008Z",
          "iopub.status.idle": "2024-08-17T10:22:31.220402Z",
          "shell.execute_reply.started": "2024-08-17T10:22:31.157972Z",
          "shell.execute_reply": "2024-08-17T10:22:31.219517Z"
        },
        "trusted": true,
        "id": "T_pXFU7IUKkq"
      },
      "execution_count": null,
      "outputs": []
    },
    {
      "cell_type": "markdown",
      "source": [
        "# Model Training"
      ],
      "metadata": {
        "id": "CxLE4u4DUKkr"
      }
    },
    {
      "cell_type": "code",
      "source": [
        "X = train_df.copy()\n",
        "y = X.pop(target)\n",
        "\n",
        "lab_enc = LabelEncoder().fit(y)\n",
        "y = lab_enc.transform(y)"
      ],
      "metadata": {
        "execution": {
          "iopub.status.busy": "2024-08-17T10:22:31.221581Z",
          "iopub.execute_input": "2024-08-17T10:22:31.221918Z",
          "iopub.status.idle": "2024-08-17T10:22:32.038267Z",
          "shell.execute_reply.started": "2024-08-17T10:22:31.221888Z",
          "shell.execute_reply": "2024-08-17T10:22:32.037474Z"
        },
        "trusted": true,
        "id": "nEpKgvM5UKkr"
      },
      "execution_count": null,
      "outputs": []
    },
    {
      "cell_type": "code",
      "source": [
        "def model_report(estimator, X, y, cv=5):\n",
        "    print(\"=\"*80)\n",
        "    print(f\"    Model: {estimator.__class__.__name__}\")\n",
        "    print(\"=\"*80)\n",
        "\n",
        "    X_train, X_test, y_train, y_test = train_test_split(X, y, train_size=1/cv, shuffle=True, stratify=y, random_state=42)\n",
        "\n",
        "    estimator.fit(X_train, y_train)\n",
        "    y_pred = estimator.predict(X_test)\n",
        "    f1 = f1_score(y_test, y_pred)\n",
        "    mcc = matthews_corrcoef(y_test, y_pred)\n",
        "    print(f\"F1 Score : {f1.mean():.6f}\")\n",
        "    print(f\"MCC Score: {mcc.mean():.6f}\")\n",
        "\n",
        "    ConfusionMatrixDisplay(confusion_matrix(y_test, y_pred)).plot()\n",
        "    plt.title(\"Confusion Matrix\")\n",
        "    plt.show()\n",
        "\n",
        "    print()"
      ],
      "metadata": {
        "execution": {
          "iopub.status.busy": "2024-08-17T10:22:33.008447Z",
          "iopub.execute_input": "2024-08-17T10:22:33.009231Z",
          "iopub.status.idle": "2024-08-17T10:22:33.015837Z",
          "shell.execute_reply.started": "2024-08-17T10:22:33.009204Z",
          "shell.execute_reply": "2024-08-17T10:22:33.014778Z"
        },
        "trusted": true,
        "id": "Av1e_1peUKkr"
      },
      "execution_count": null,
      "outputs": []
    },
    {
      "cell_type": "code",
      "source": [
        "def model_trainer(model, X, y, n_splits=5, random_state=42):\n",
        "    skfold = StratifiedKFold(n_splits=n_splits, shuffle=True, random_state=random_state)\n",
        "\n",
        "    oof_probs, oof_mccs = [], []\n",
        "    print(\"=\"*80)\n",
        "    print(f\"Training {model.__class__.__name__}\")\n",
        "    print(\"=\"*80, end=\"\\n\")\n",
        "    for fold, (train_idx, test_idx) in enumerate(skfold.split(X, y)):\n",
        "        X_train, y_train = X.iloc[train_idx, :], y[train_idx]\n",
        "        X_test, y_test = X.iloc[test_idx, :], y[test_idx]\n",
        "\n",
        "        model.fit(X_train, y_train)\n",
        "        y_pred = model.predict(X_test)\n",
        "\n",
        "        mcc = matthews_corrcoef(y_pred, y_test)\n",
        "        oof_mccs.append(mcc)\n",
        "        oof_probs.append(model.predict_proba(test_df))\n",
        "        print(f\"--- Fold {fold+1} MCC Score: {mcc:.6f}\")\n",
        "    print(f\"\\n---> Mean MCC Score: {np.mean(oof_mccs):.6f} \\xb1 {np.std(oof_mccs):.6f}\\n\\n\")\n",
        "    return oof_probs, oof_mccs"
      ],
      "metadata": {
        "execution": {
          "iopub.status.busy": "2024-08-17T10:22:34.414604Z",
          "iopub.execute_input": "2024-08-17T10:22:34.41518Z",
          "iopub.status.idle": "2024-08-17T10:22:34.423208Z",
          "shell.execute_reply.started": "2024-08-17T10:22:34.415154Z",
          "shell.execute_reply": "2024-08-17T10:22:34.422105Z"
        },
        "trusted": true,
        "id": "0p2bIp7zUKkr"
      },
      "execution_count": null,
      "outputs": []
    },
    {
      "cell_type": "markdown",
      "source": [
        "## Hyperparameter Tuning"
      ],
      "metadata": {
        "id": "0pb7pZFrUKks"
      }
    },
    {
      "cell_type": "code",
      "source": [
        "xgb_params = {\n",
        "    'n_estimators': 2407,\n",
        "    'eta': 0.009462133032592785,\n",
        "    'gamma': 0.2865859948765318,\n",
        "    'max_depth': 31,\n",
        "    'min_child_weight': 47,\n",
        "    'subsample': 0.6956431754146083,\n",
        "    'colsample_bytree': 0.3670732604094118,\n",
        "    'grow_policy': 'lossguide',\n",
        "    'max_leaves': 73,\n",
        "    'enable_categorical': True,\n",
        "    'n_jobs': -1,\n",
        "    'device': 'cuda',\n",
        "    'tree_method': 'hist'\n",
        "} # 0.9844272567086021\n",
        "\n",
        "cat_params = {\n",
        "    'iterations': 1041,\n",
        "    'learning_rate': 0.08777255350163136,\n",
        "    'depth': 10,\n",
        "    'l2_leaf_reg': 0.1259643500248322,\n",
        "    'bootstrap_type': 'Bayesian',\n",
        "    'random_strength': 4.276181166674371e-08,\n",
        "    'bagging_temperature': 0.35995482350907326,\n",
        "    'od_type': 'Iter',\n",
        "    'od_wait': 39,\n",
        "    \"verbose\": False,\n",
        "    \"allow_writing_files\": False,\n",
        "    \"task_type\": 'GPU',\n",
        "    \"cat_features\": categorical_features\n",
        "} # 0.9841773055825763\n",
        "\n",
        "lgb_params = {\n",
        "    'n_estimators': 2500,\n",
        "    'random_state':42,\n",
        "    'max_bin':1024,\n",
        "    'colsample_bytree':0.6,\n",
        "    'reg_lambda': 80,\n",
        "#     'device': 'gpu',\n",
        "    'verbosity': -1\n",
        "}"
      ],
      "metadata": {
        "_kg_hide-input": false,
        "execution": {
          "iopub.status.busy": "2024-08-17T10:22:58.939372Z",
          "iopub.execute_input": "2024-08-17T10:22:58.939738Z",
          "iopub.status.idle": "2024-08-17T10:22:58.947088Z",
          "shell.execute_reply.started": "2024-08-17T10:22:58.939712Z",
          "shell.execute_reply": "2024-08-17T10:22:58.946204Z"
        },
        "trusted": true,
        "id": "iigG7dPgUKkt"
      },
      "execution_count": null,
      "outputs": []
    },
    {
      "cell_type": "markdown",
      "source": [
        "## Prediction"
      ],
      "metadata": {
        "id": "g_xIf8s3UKku"
      }
    },
    {
      "cell_type": "code",
      "source": [
        "oof_probs = {}\n",
        "oof_probs['xgb'], _ = model_trainer(XGBClassifier(**xgb_params), X, y, random_state=101)\n",
        "oof_probs['cat'], _ = model_trainer(CatBoostClassifier(**cat_params), X, y, random_state=101)\n",
        "oof_probs['lgb'], _ = model_trainer(LGBMClassifier(**lgb_params), X, y, random_state=101)"
      ],
      "metadata": {
        "execution": {
          "iopub.status.busy": "2024-08-17T10:34:50.058052Z",
          "iopub.execute_input": "2024-08-17T10:34:50.05888Z",
          "iopub.status.idle": "2024-08-17T11:07:02.916433Z",
          "shell.execute_reply.started": "2024-08-17T10:34:50.058849Z",
          "shell.execute_reply": "2024-08-17T11:07:02.915456Z"
        },
        "trusted": true,
        "id": "3LtdkklOUKku",
        "outputId": "b817bbe7-e768-4325-d2df-67aff78aa882",
        "colab": {
          "base_uri": "https://localhost:8080/"
        }
      },
      "execution_count": null,
      "outputs": [
        {
          "output_type": "stream",
          "name": "stdout",
          "text": [
            "================================================================================\n",
            "Training XGBClassifier\n",
            "================================================================================\n",
            "--- Fold 1 MCC Score: 0.984666\n",
            "--- Fold 2 MCC Score: 0.984426\n",
            "--- Fold 3 MCC Score: 0.984837\n",
            "--- Fold 4 MCC Score: 0.984477\n",
            "--- Fold 5 MCC Score: 0.984487\n",
            "\n",
            "---> Mean MCC Score: 0.984579 ± 0.000153\n",
            "\n",
            "\n",
            "================================================================================\n",
            "Training CatBoostClassifier\n",
            "================================================================================\n",
            "--- Fold 1 MCC Score: 0.984662\n",
            "--- Fold 2 MCC Score: 0.984361\n",
            "--- Fold 3 MCC Score: 0.984814\n",
            "--- Fold 4 MCC Score: 0.984328\n",
            "--- Fold 5 MCC Score: 0.984179\n",
            "\n",
            "---> Mean MCC Score: 0.984469 ± 0.000233\n",
            "\n",
            "\n",
            "================================================================================\n",
            "Training LGBMClassifier\n",
            "================================================================================\n",
            "--- Fold 1 MCC Score: 0.984746\n",
            "--- Fold 2 MCC Score: 0.984484\n",
            "--- Fold 3 MCC Score: 0.985011\n",
            "--- Fold 4 MCC Score: 0.984594\n",
            "--- Fold 5 MCC Score: 0.984409\n",
            "\n",
            "---> Mean MCC Score: 0.984649 ± 0.000214\n",
            "\n",
            "\n"
          ]
        }
      ]
    },
    {
      "cell_type": "code",
      "source": [
        "oof_preds = {}\n",
        "for model in oof_probs.keys():\n",
        "    oof_preds[model] = np.argmax(np.mean(oof_probs[model], axis=0), axis=1)"
      ],
      "metadata": {
        "execution": {
          "iopub.status.busy": "2024-08-17T11:08:22.544652Z",
          "iopub.execute_input": "2024-08-17T11:08:22.545364Z",
          "iopub.status.idle": "2024-08-17T11:08:22.878718Z",
          "shell.execute_reply.started": "2024-08-17T11:08:22.545333Z",
          "shell.execute_reply": "2024-08-17T11:08:22.877672Z"
        },
        "trusted": true,
        "id": "tP_SZ9GTUKku"
      },
      "execution_count": null,
      "outputs": []
    },
    {
      "cell_type": "markdown",
      "source": [
        "# Submission"
      ],
      "metadata": {
        "id": "tREFeRsEUKku"
      }
    },
    {
      "cell_type": "code",
      "source": [
        "sub = pd.read_csv(\"/kaggle/input/playground-series-s4e8/sample_submission.csv\")\n",
        "preds = [pred for model, pred in oof_preds.items()]\n",
        "sub[target] = lab_enc.inverse_transform(preds[2]) # lightGBM\n",
        "sub.to_csv(\"submission_onlytrain.csv\", index=False)"
      ],
      "metadata": {
        "execution": {
          "iopub.status.busy": "2024-08-14T09:35:02.570931Z",
          "iopub.execute_input": "2024-08-14T09:35:02.571361Z",
          "iopub.status.idle": "2024-08-14T09:35:05.654647Z",
          "shell.execute_reply.started": "2024-08-14T09:35:02.571327Z",
          "shell.execute_reply": "2024-08-14T09:35:05.653556Z"
        },
        "trusted": true,
        "id": "geF85z3tUKku"
      },
      "execution_count": null,
      "outputs": []
    },
    {
      "cell_type": "code",
      "source": [],
      "metadata": {
        "id": "Okbv4y_BhyOG"
      },
      "execution_count": null,
      "outputs": []
    }
  ]
}