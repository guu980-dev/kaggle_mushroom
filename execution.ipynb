{
 "cells": [
  {
   "cell_type": "markdown",
   "metadata": {},
   "source": [
    "Import Libraries"
   ]
  },
  {
   "cell_type": "code",
   "execution_count": 1,
   "metadata": {},
   "outputs": [
    {
     "name": "stderr",
     "output_type": "stream",
     "text": [
      "2024-08-28 02:50:30.610615: I tensorflow/core/util/port.cc:153] oneDNN custom operations are on. You may see slightly different numerical results due to floating-point round-off errors from different computation orders. To turn them off, set the environment variable `TF_ENABLE_ONEDNN_OPTS=0`.\n",
      "2024-08-28 02:50:30.619042: E external/local_xla/xla/stream_executor/cuda/cuda_fft.cc:485] Unable to register cuFFT factory: Attempting to register factory for plugin cuFFT when one has already been registered\n",
      "2024-08-28 02:50:30.629301: E external/local_xla/xla/stream_executor/cuda/cuda_dnn.cc:8454] Unable to register cuDNN factory: Attempting to register factory for plugin cuDNN when one has already been registered\n",
      "2024-08-28 02:50:30.632401: E external/local_xla/xla/stream_executor/cuda/cuda_blas.cc:1452] Unable to register cuBLAS factory: Attempting to register factory for plugin cuBLAS when one has already been registered\n",
      "2024-08-28 02:50:30.639933: I tensorflow/core/platform/cpu_feature_guard.cc:210] This TensorFlow binary is optimized to use available CPU instructions in performance-critical operations.\n",
      "To enable the following instructions: AVX2 AVX_VNNI FMA, in other operations, rebuild TensorFlow with the appropriate compiler flags.\n",
      "2024-08-28 02:50:31.133285: W tensorflow/compiler/tf2tensorrt/utils/py_utils.cc:38] TF-TRT Warning: Could not find TensorRT\n"
     ]
    }
   ],
   "source": [
    "import numpy as np\n",
    "import pandas as pd\n",
    "import matplotlib.pyplot as plt\n",
    "import seaborn as sns\n",
    "import warnings\n",
    "\n",
    "warnings.filterwarnings(\"ignore\")\n",
    "\n",
    "from sklearn.impute import SimpleImputer\n",
    "from sklearn.model_selection import StratifiedKFold, train_test_split, cross_val_score, cross_validate\n",
    "from sklearn.metrics import matthews_corrcoef, f1_score, confusion_matrix, ConfusionMatrixDisplay, make_scorer\n",
    "from sklearn.preprocessing import StandardScaler, LabelEncoder\n",
    "from scipy.stats import mode\n",
    "from sklearn.base import clone\n",
    "from sklearn.linear_model import LogisticRegression\n",
    "from sklearn.feature_selection import RFECV\n",
    "from sklearn.pipeline import Pipeline, make_pipeline\n",
    "from sklearn.compose import ColumnTransformer\n",
    "from sklearn.preprocessing import OneHotEncoder, PowerTransformer\n",
    "from sklearn.ensemble import BaggingClassifier\n",
    "\n",
    "from xgboost import XGBClassifier\n",
    "from catboost import CatBoostClassifier\n",
    "from lightgbm import LGBMClassifier\n",
    "from tensorflow import keras\n",
    "from scikeras.wrappers import KerasClassifier"
   ]
  },
  {
   "cell_type": "markdown",
   "metadata": {},
   "source": [
    "Load Data"
   ]
  },
  {
   "cell_type": "code",
   "execution_count": 2,
   "metadata": {},
   "outputs": [],
   "source": [
    "train_df = pd.read_csv(\"data/playground-series-s4e8/train.csv\", index_col='id')\n",
    "orig_df = pd.read_csv(\"data/secondary-mushroom-dataset-data-set/MushroomDataset/secondary_data.csv\", sep=\";\")\n",
    "test_df = pd.read_csv(\"data/playground-series-s4e8/test.csv\", index_col='id')\n",
    "train_df = pd.concat([train_df, orig_df], ignore_index=True) # Combine the competition data with the secondary data"
   ]
  },
  {
   "cell_type": "markdown",
   "metadata": {},
   "source": [
    "Pre-process Data"
   ]
  },
  {
   "cell_type": "code",
   "execution_count": 3,
   "metadata": {},
   "outputs": [],
   "source": [
    "# Remove Duplicates\n",
    "train_df.drop_duplicates(inplace=True)\n",
    "\n",
    "# Categorize Features\n",
    "target = 'class'\n",
    "features = train_df.drop(target, axis=1).columns.to_list()\n",
    "features_with_high_null_values = [feature for feature in features if (train_df[feature].isna().sum()/len(train_df)*100)>20]\n",
    "categorical_features = train_df[features].select_dtypes(include='object').columns.to_list()\n",
    "numerical_features = list(set(features) - set(categorical_features))"
   ]
  },
  {
   "cell_type": "code",
   "execution_count": 4,
   "metadata": {},
   "outputs": [],
   "source": [
    "''' Impute Missing Values (Null Values) '''\n",
    "\n",
    "# Clean Categorical Features\n",
    "def cleaner(df):\n",
    "    for col in categorical_features:\n",
    "        df[col] = df[col].fillna('missing')\n",
    "        df.loc[df[col].value_counts(dropna=False)[df[col]].values < 100, col] = \"noise\"\n",
    "        df[col] = df[col].astype('category')\n",
    "\n",
    "    return df\n",
    "\n",
    "train_df = cleaner(train_df)\n",
    "test_df = cleaner(test_df)\n",
    "\n",
    "# Clean Numerical Features with mean\n",
    "cap_diameter_mean = pd.concat([train_df['cap-diameter'], test_df['cap-diameter']]).mean(numeric_only=True)\n",
    "train_df['cap-diameter'].fillna(cap_diameter_mean, inplace=True)\n",
    "test_df['cap-diameter'].fillna(cap_diameter_mean, inplace=True)"
   ]
  },
  {
   "cell_type": "code",
   "execution_count": 5,
   "metadata": {},
   "outputs": [],
   "source": [
    "X = train_df.copy()\n",
    "y = X.pop(target)\n",
    "\n",
    "lab_enc = LabelEncoder().fit(y)\n",
    "y = lab_enc.transform(y)"
   ]
  },
  {
   "cell_type": "markdown",
   "metadata": {},
   "source": [
    "Prepare Training"
   ]
  },
  {
   "cell_type": "code",
   "execution_count": 6,
   "metadata": {},
   "outputs": [],
   "source": [
    "def model_report(estimator, X, y, cv=5):\n",
    "    print(\"=\"*80)\n",
    "    print(f\"    Model: {estimator.__class__.__name__}\")\n",
    "    print(\"=\"*80)\n",
    "    \n",
    "    X_train, X_test, y_train, y_test = train_test_split(X, y, train_size=1/cv, shuffle=True, stratify=y, random_state=42)\n",
    "    \n",
    "    estimator.fit(X_train, y_train)\n",
    "    y_pred = estimator.predict(X_test)\n",
    "    f1 = f1_score(y_test, y_pred)\n",
    "    mcc = matthews_corrcoef(y_test, y_pred)\n",
    "    print(f\"F1 Score : {f1.mean():.6f}\")\n",
    "    print(f\"MCC Score: {mcc.mean():.6f}\")\n",
    "    \n",
    "    ConfusionMatrixDisplay(confusion_matrix(y_test, y_pred)).plot()\n",
    "    plt.title(\"Confusion Matrix\")\n",
    "    plt.show()\n",
    "\n",
    "    print()"
   ]
  },
  {
   "cell_type": "code",
   "execution_count": 8,
   "metadata": {},
   "outputs": [],
   "source": [
    "def model_trainer(model, X, y, test_set, skfold):\n",
    "    print(\"=\"*80)\n",
    "    print(f\"Training {model.__class__.__name__}\")\n",
    "    print(\"=\"*80, end=\"\\n\")\n",
    "\n",
    "    oof_mccs = []\n",
    "    test_probs = np.zeros((test_set.shape[0],))   # test set probabilities. Average of each fold's probability prediction on test set.\n",
    "    oof_probs = np.zeros((X.shape[0],))   # training set probabilities\n",
    "\n",
    "    for fold, (train_idx, val_idx) in enumerate(skfold.split(X, y)):\n",
    "        # Select train, validation set by each fold\n",
    "        X_train, y_train = X.iloc[train_idx, :], y[train_idx]\n",
    "        X_val, y_val = X.iloc[val_idx, :], y[val_idx]\n",
    "\n",
    "        # Train Model\n",
    "        model = clone(model)\n",
    "        model.fit(X_train, y_train)\n",
    "\n",
    "        # Evaluate by validation set\n",
    "        val_probs = model.predict_proba(X_val)[:, 1]   # Calculate probability\n",
    "        oof_probs[val_idx] = val_probs   # Save probability of this fold's validation set\n",
    "        val_preds = (val_probs > 0.5).astype(int)   # Convert probability to label\n",
    "        mcc = matthews_corrcoef(y_val, val_preds)   # Calculate mcc score\n",
    "        oof_mccs.append(mcc)   # Save mcc score of this fold's validation set\n",
    "        print(f\"--- Fold {fold+1} MCC Score: {mcc:.6f}\")\n",
    "\n",
    "        # Predict on test set\n",
    "        test_probs += model.predict_proba(test_set)[:, 1] / skfold.get_n_splits()   # Aggregate test set probabilities\n",
    "\n",
    "    mean_mcc_score = np.mean(oof_mccs)\n",
    "    std_mcc_score = np.std(oof_mccs)\n",
    "    print(f\"\\n---> Mean MCC Score: {mean_mcc_score:.6f} \\xb1 {std_mcc_score:.6f}\\n\\n\")\n",
    "    \n",
    "    total_mcc_score = matthews_corrcoef(y, (oof_probs > 0.5).astype(int))\n",
    "    print(f\"Total MCC Score: {total_mcc_score:.6f}\")\n",
    "\n",
    "    return oof_mccs, test_probs, oof_probs"
   ]
  },
  {
   "cell_type": "markdown",
   "metadata": {},
   "source": [
    "Baseline Models"
   ]
  },
  {
   "cell_type": "code",
   "execution_count": 9,
   "metadata": {},
   "outputs": [],
   "source": [
    "''' tree-based models '''\n",
    "\n",
    "xgb_clf = XGBClassifier(enable_categorical=True, device=\"cuda\", tree_method=\"hist\")\n",
    "cat_clf = CatBoostClassifier(\n",
    "    cat_features=categorical_features,\n",
    "    verbose=False,\n",
    "    allow_writing_files=False,\n",
    "    task_type=\"GPU\"\n",
    ")\n",
    "lgb_clf = LGBMClassifier(device='gpu', verbosity=-1)"
   ]
  },
  {
   "cell_type": "code",
   "execution_count": 10,
   "metadata": {},
   "outputs": [
    {
     "name": "stderr",
     "output_type": "stream",
     "text": [
      "WARNING: All log messages before absl::InitializeLog() is called are written to STDERR\n",
      "I0000 00:00:1724781101.838324   25593 cuda_executor.cc:1015] successful NUMA node read from SysFS had negative value (-1), but there must be at least one NUMA node, so returning NUMA node zero. See more at https://github.com/torvalds/linux/blob/v6.0/Documentation/ABI/testing/sysfs-bus-pci#L344-L355\n",
      "I0000 00:00:1724781101.948898   25593 cuda_executor.cc:1015] successful NUMA node read from SysFS had negative value (-1), but there must be at least one NUMA node, so returning NUMA node zero. See more at https://github.com/torvalds/linux/blob/v6.0/Documentation/ABI/testing/sysfs-bus-pci#L344-L355\n",
      "I0000 00:00:1724781101.951077   25593 cuda_executor.cc:1015] successful NUMA node read from SysFS had negative value (-1), but there must be at least one NUMA node, so returning NUMA node zero. See more at https://github.com/torvalds/linux/blob/v6.0/Documentation/ABI/testing/sysfs-bus-pci#L344-L355\n",
      "I0000 00:00:1724781101.953696   25593 cuda_executor.cc:1015] successful NUMA node read from SysFS had negative value (-1), but there must be at least one NUMA node, so returning NUMA node zero. See more at https://github.com/torvalds/linux/blob/v6.0/Documentation/ABI/testing/sysfs-bus-pci#L344-L355\n",
      "I0000 00:00:1724781101.954929   25593 cuda_executor.cc:1015] successful NUMA node read from SysFS had negative value (-1), but there must be at least one NUMA node, so returning NUMA node zero. See more at https://github.com/torvalds/linux/blob/v6.0/Documentation/ABI/testing/sysfs-bus-pci#L344-L355\n",
      "I0000 00:00:1724781101.956165   25593 cuda_executor.cc:1015] successful NUMA node read from SysFS had negative value (-1), but there must be at least one NUMA node, so returning NUMA node zero. See more at https://github.com/torvalds/linux/blob/v6.0/Documentation/ABI/testing/sysfs-bus-pci#L344-L355\n",
      "I0000 00:00:1724781102.043549   25593 cuda_executor.cc:1015] successful NUMA node read from SysFS had negative value (-1), but there must be at least one NUMA node, so returning NUMA node zero. See more at https://github.com/torvalds/linux/blob/v6.0/Documentation/ABI/testing/sysfs-bus-pci#L344-L355\n",
      "I0000 00:00:1724781102.044395   25593 cuda_executor.cc:1015] successful NUMA node read from SysFS had negative value (-1), but there must be at least one NUMA node, so returning NUMA node zero. See more at https://github.com/torvalds/linux/blob/v6.0/Documentation/ABI/testing/sysfs-bus-pci#L344-L355\n",
      "I0000 00:00:1724781102.045174   25593 cuda_executor.cc:1015] successful NUMA node read from SysFS had negative value (-1), but there must be at least one NUMA node, so returning NUMA node zero. See more at https://github.com/torvalds/linux/blob/v6.0/Documentation/ABI/testing/sysfs-bus-pci#L344-L355\n",
      "2024-08-28 02:51:42.045928: I tensorflow/core/common_runtime/gpu/gpu_device.cc:2021] Created device /job:localhost/replica:0/task:0/device:GPU:0 with 9597 MB memory:  -> device: 0, name: NVIDIA GeForce RTX 4070 Ti, pci bus id: 0000:01:00.0, compute capability: 8.9\n"
     ]
    },
    {
     "name": "stdout",
     "output_type": "stream",
     "text": [
      "You must install pydot (`pip install pydot`) for `plot_model` to work.\n"
     ]
    },
    {
     "data": {
      "text/plain": [
       "None"
      ]
     },
     "metadata": {},
     "output_type": "display_data"
    }
   ],
   "source": [
    "''' Neural Network models '''\n",
    "\n",
    "# Neural network (Keras) with two hidden layers (one-hot encoded)\n",
    "def get_model(meta):\n",
    "    model = keras.models.Sequential()\n",
    "    model.add(keras.layers.Input(meta[\"X_shape_\"][1:]))\n",
    "    model.add(keras.layers.Dense(64, activation='relu'))\n",
    "    model.add(keras.layers.Dense(64, activation='relu'))\n",
    "    model.add(keras.layers.Dense(1, activation='sigmoid'))\n",
    "    return model\n",
    "\n",
    "display(keras.utils.plot_model(get_model({\"X_shape_\": X.shape}),\n",
    "                       show_shapes=True, show_layer_activations=True, dpi=80))\n",
    "\n",
    "\n",
    "nn_clf = KerasClassifier(\n",
    "    get_model,\n",
    "    loss=\"binary_crossentropy\",\n",
    "    optimizer=keras.optimizers.AdamW(learning_rate=0.01),\n",
    "    validation_split=0.03,\n",
    "    batch_size=8192,\n",
    "    validation_batch_size=65536,\n",
    "    epochs=50,\n",
    "    verbose=0, # or 2\n",
    "    callbacks=[keras.callbacks.ReduceLROnPlateau(patience=3),\n",
    "               keras.callbacks.EarlyStopping(patience=5, min_delta=0.00003)]\n",
    ")\n",
    "\n",
    "nn_model = make_pipeline(ColumnTransformer([\n",
    "                                        ('float', make_pipeline(PowerTransformer(),\n",
    "                                                                 SimpleImputer(add_indicator=True)),\n",
    "                                          numerical_features),\n",
    "                                         ('cat', OneHotEncoder(drop='first',\n",
    "                                                               sparse_output=False,\n",
    "                                                               dtype=np.float32,\n",
    "                                                               handle_unknown='infrequent_if_exist',\n",
    "                                                               min_frequency=50),\n",
    "                                          categorical_features),\n",
    "                                        ]),\n",
    "                      StandardScaler(),\n",
    "                      BaggingClassifier(nn_clf, n_estimators=7, bootstrap=False))\n",
    "# cross_validate(nn_model, 'Keras')"
   ]
  },
  {
   "cell_type": "markdown",
   "metadata": {},
   "source": [
    "Hyper Parameters"
   ]
  },
  {
   "cell_type": "code",
   "execution_count": 11,
   "metadata": {},
   "outputs": [],
   "source": [
    "xgb_params = {\n",
    "    'n_estimators': 2407,\n",
    "    'eta': 0.009462133032592785,\n",
    "    'gamma': 0.2865859948765318,\n",
    "    'max_depth': 31,\n",
    "    'min_child_weight': 47,\n",
    "    'subsample': 0.6956431754146083,\n",
    "    'colsample_bytree': 0.3670732604094118,\n",
    "    'grow_policy': 'lossguide',\n",
    "    'max_leaves': 73,\n",
    "    'enable_categorical': True,\n",
    "    'n_jobs': -1,\n",
    "    'device': 'cuda',\n",
    "    'tree_method': 'hist'\n",
    "} # 0.9844272567086021\n",
    "\n",
    "cat_params = {\n",
    "    'iterations': 1041,\n",
    "    'learning_rate': 0.08777255350163136,\n",
    "    'depth': 10,\n",
    "    'l2_leaf_reg': 0.1259643500248322,\n",
    "    'bootstrap_type': 'Bayesian',\n",
    "    'random_strength': 4.276181166674371e-08,\n",
    "    'bagging_temperature': 0.35995482350907326,\n",
    "    'od_type': 'Iter',\n",
    "    'od_wait': 39,\n",
    "    \"verbose\": False,\n",
    "    \"allow_writing_files\": False,\n",
    "    \"task_type\": 'GPU',\n",
    "    \"cat_features\": categorical_features\n",
    "} # 0.9841773055825763\n",
    "\n",
    "lgb_params = {\n",
    "    'n_estimators': 2500,\n",
    "    'random_state':42,\n",
    "    'max_bin':1024,\n",
    "    'colsample_bytree':0.6,\n",
    "    'reg_lambda': 80,\n",
    "    # 'device': 'gpu',\n",
    "    'verbosity': -1\n",
    "}"
   ]
  },
  {
   "cell_type": "markdown",
   "metadata": {},
   "source": [
    "Train Base Model"
   ]
  },
  {
   "cell_type": "code",
   "execution_count": 12,
   "metadata": {},
   "outputs": [],
   "source": [
    "# %% time\n",
    "cv_summary, test_probs, oof_probs = pd.DataFrame(), pd.DataFrame(), pd.DataFrame()\n",
    "random_state = 101\n",
    "skfold = StratifiedKFold(n_splits=5, shuffle=True, random_state=random_state)"
   ]
  },
  {
   "cell_type": "code",
   "execution_count": 14,
   "metadata": {},
   "outputs": [
    {
     "name": "stdout",
     "output_type": "stream",
     "text": [
      "================================================================================\n",
      "Training XGBClassifier\n",
      "================================================================================\n",
      "--- Fold 1 MCC Score: 0.984879\n",
      "--- Fold 2 MCC Score: 0.984927\n",
      "--- Fold 3 MCC Score: 0.984749\n",
      "--- Fold 4 MCC Score: 0.984930\n",
      "--- Fold 5 MCC Score: 0.984882\n",
      "\n",
      "---> Mean MCC Score: 0.984873 ± 0.000066\n",
      "\n",
      "\n",
      "Total MCC Score: 0.984873\n"
     ]
    }
   ],
   "source": [
    "cv_summary['xgb'], test_probs['xgb'], oof_probs['xgb'] = model_trainer(XGBClassifier(**xgb_params), X, y, test_df, skfold)"
   ]
  },
  {
   "cell_type": "code",
   "execution_count": 15,
   "metadata": {},
   "outputs": [
    {
     "name": "stdout",
     "output_type": "stream",
     "text": [
      "================================================================================\n",
      "Training CatBoostClassifier\n",
      "================================================================================\n"
     ]
    },
    {
     "name": "stderr",
     "output_type": "stream",
     "text": [
      "Warning: less than 75% gpu memory available for training. Free: 1410.625 Total: 11901.3125\n"
     ]
    },
    {
     "name": "stdout",
     "output_type": "stream",
     "text": [
      "--- Fold 1 MCC Score: 0.984602\n"
     ]
    },
    {
     "name": "stderr",
     "output_type": "stream",
     "text": [
      "Warning: less than 75% gpu memory available for training. Free: 1419.0625 Total: 11901.3125\n"
     ]
    },
    {
     "name": "stdout",
     "output_type": "stream",
     "text": [
      "--- Fold 2 MCC Score: 0.984942\n"
     ]
    },
    {
     "name": "stderr",
     "output_type": "stream",
     "text": [
      "Warning: less than 75% gpu memory available for training. Free: 1426.9375 Total: 11901.3125\n"
     ]
    },
    {
     "name": "stdout",
     "output_type": "stream",
     "text": [
      "--- Fold 3 MCC Score: 0.984591\n"
     ]
    },
    {
     "name": "stderr",
     "output_type": "stream",
     "text": [
      "Warning: less than 75% gpu memory available for training. Free: 1426.9375 Total: 11901.3125\n"
     ]
    },
    {
     "name": "stdout",
     "output_type": "stream",
     "text": [
      "--- Fold 4 MCC Score: 0.984799\n"
     ]
    },
    {
     "name": "stderr",
     "output_type": "stream",
     "text": [
      "Warning: less than 75% gpu memory available for training. Free: 1556.25 Total: 11901.3125\n"
     ]
    },
    {
     "name": "stdout",
     "output_type": "stream",
     "text": [
      "--- Fold 5 MCC Score: 0.984780\n",
      "\n",
      "---> Mean MCC Score: 0.984743 ± 0.000132\n",
      "\n",
      "\n",
      "Total MCC Score: 0.984743\n"
     ]
    }
   ],
   "source": [
    "cv_summary['cat'], test_probs['cat'], oof_probs['cat'] = model_trainer(CatBoostClassifier(**cat_params), X, y, test_df, skfold)"
   ]
  },
  {
   "cell_type": "code",
   "execution_count": 16,
   "metadata": {},
   "outputs": [
    {
     "name": "stdout",
     "output_type": "stream",
     "text": [
      "================================================================================\n",
      "Training LGBMClassifier\n",
      "================================================================================\n",
      "--- Fold 1 MCC Score: 0.985025\n",
      "--- Fold 2 MCC Score: 0.984989\n",
      "--- Fold 3 MCC Score: 0.984879\n",
      "--- Fold 4 MCC Score: 0.984977\n",
      "--- Fold 5 MCC Score: 0.984971\n",
      "\n",
      "---> Mean MCC Score: 0.984968 ± 0.000048\n",
      "\n",
      "\n",
      "Total MCC Score: 0.984968\n"
     ]
    }
   ],
   "source": [
    "\n",
    "cv_summary['lgb'], test_probs['lgb'], oof_probs['lgb'] = model_trainer(LGBMClassifier(**lgb_params), X, y, test_df, skfold)"
   ]
  },
  {
   "cell_type": "code",
   "execution_count": 13,
   "metadata": {},
   "outputs": [
    {
     "name": "stdout",
     "output_type": "stream",
     "text": [
      "================================================================================\n",
      "Training Pipeline\n",
      "================================================================================\n"
     ]
    },
    {
     "name": "stderr",
     "output_type": "stream",
     "text": [
      "WARNING: All log messages before absl::InitializeLog() is called are written to STDERR\n",
      "I0000 00:00:1724781175.611582   26678 service.cc:146] XLA service 0x7765d40041f0 initialized for platform CUDA (this does not guarantee that XLA will be used). Devices:\n",
      "I0000 00:00:1724781175.611599   26678 service.cc:154]   StreamExecutor device (0): NVIDIA GeForce RTX 4070 Ti, Compute Capability 8.9\n",
      "2024-08-28 02:52:55.625084: I tensorflow/compiler/mlir/tensorflow/utils/dump_mlir_util.cc:268] disabling MLIR crash reproducer, set env var `MLIR_CRASH_REPRODUCER_DIRECTORY` to enable.\n",
      "2024-08-28 02:52:55.721749: I external/local_xla/xla/stream_executor/cuda/cuda_dnn.cc:531] Loaded cuDNN version 8905\n",
      "I0000 00:00:1724781176.089416   26678 device_compiler.h:188] Compiled cluster using XLA!  This line is logged at most once for the lifetime of the process.\n"
     ]
    },
    {
     "name": "stdout",
     "output_type": "stream",
     "text": [
      "--- Fold 1 MCC Score: 0.984307\n",
      "--- Fold 2 MCC Score: 0.984485\n",
      "--- Fold 3 MCC Score: 0.984378\n",
      "--- Fold 4 MCC Score: 0.984448\n",
      "--- Fold 5 MCC Score: 0.984561\n",
      "\n",
      "---> Mean MCC Score: 0.984436 ± 0.000087\n",
      "\n",
      "\n",
      "Total MCC Score: 0.984436\n"
     ]
    }
   ],
   "source": [
    "cv_summary['nn'], test_probs['nn'], oof_probs['nn'] = model_trainer(nn_model, X, y, test_df, skfold)"
   ]
  },
  {
   "cell_type": "code",
   "execution_count": 17,
   "metadata": {},
   "outputs": [
    {
     "data": {
      "text/html": [
       "<style type=\"text/css\">\n",
       "#T_13af4_row0_col0, #T_13af4_row0_col1, #T_13af4_row0_col2, #T_13af4_row0_col3, #T_13af4_row0_col4, #T_13af4_row0_col5, #T_13af4_row1_col1, #T_13af4_row1_col3, #T_13af4_row2_col1, #T_13af4_row2_col6 {\n",
       "  background-color: #1b9e77;\n",
       "  color: #f1f1f1;\n",
       "}\n",
       "#T_13af4_row0_col6, #T_13af4_row3_col0, #T_13af4_row3_col1, #T_13af4_row3_col2, #T_13af4_row3_col3, #T_13af4_row3_col4, #T_13af4_row3_col5 {\n",
       "  background-color: #666666;\n",
       "  color: #f1f1f1;\n",
       "}\n",
       "#T_13af4_row1_col0, #T_13af4_row1_col4, #T_13af4_row1_col5 {\n",
       "  background-color: #d95f02;\n",
       "  color: #f1f1f1;\n",
       "}\n",
       "#T_13af4_row1_col2, #T_13af4_row2_col3 {\n",
       "  background-color: #7570b3;\n",
       "  color: #f1f1f1;\n",
       "}\n",
       "#T_13af4_row1_col6 {\n",
       "  background-color: #a6761d;\n",
       "  color: #f1f1f1;\n",
       "}\n",
       "#T_13af4_row2_col0, #T_13af4_row2_col2, #T_13af4_row3_col6 {\n",
       "  background-color: #66a61e;\n",
       "  color: #f1f1f1;\n",
       "}\n",
       "#T_13af4_row2_col4, #T_13af4_row2_col5 {\n",
       "  background-color: #e7298a;\n",
       "  color: #f1f1f1;\n",
       "}\n",
       "</style>\n",
       "<table id=\"T_13af4\">\n",
       "  <thead>\n",
       "    <tr>\n",
       "      <th class=\"blank level0\" >&nbsp;</th>\n",
       "      <th id=\"T_13af4_level0_col0\" class=\"col_heading level0 col0\" >fold1</th>\n",
       "      <th id=\"T_13af4_level0_col1\" class=\"col_heading level0 col1\" >fold2</th>\n",
       "      <th id=\"T_13af4_level0_col2\" class=\"col_heading level0 col2\" >fold3</th>\n",
       "      <th id=\"T_13af4_level0_col3\" class=\"col_heading level0 col3\" >fold4</th>\n",
       "      <th id=\"T_13af4_level0_col4\" class=\"col_heading level0 col4\" >fold5</th>\n",
       "      <th id=\"T_13af4_level0_col5\" class=\"col_heading level0 col5\" >Mean</th>\n",
       "      <th id=\"T_13af4_level0_col6\" class=\"col_heading level0 col6\" >Std</th>\n",
       "    </tr>\n",
       "  </thead>\n",
       "  <tbody>\n",
       "    <tr>\n",
       "      <th id=\"T_13af4_level0_row0\" class=\"row_heading level0 row0\" >lgb</th>\n",
       "      <td id=\"T_13af4_row0_col0\" class=\"data row0 col0\" >0.985025</td>\n",
       "      <td id=\"T_13af4_row0_col1\" class=\"data row0 col1\" >0.984989</td>\n",
       "      <td id=\"T_13af4_row0_col2\" class=\"data row0 col2\" >0.984879</td>\n",
       "      <td id=\"T_13af4_row0_col3\" class=\"data row0 col3\" >0.984977</td>\n",
       "      <td id=\"T_13af4_row0_col4\" class=\"data row0 col4\" >0.984971</td>\n",
       "      <td id=\"T_13af4_row0_col5\" class=\"data row0 col5\" >0.984968</td>\n",
       "      <td id=\"T_13af4_row0_col6\" class=\"data row0 col6\" >0.000048</td>\n",
       "    </tr>\n",
       "    <tr>\n",
       "      <th id=\"T_13af4_level0_row1\" class=\"row_heading level0 row1\" >xgb</th>\n",
       "      <td id=\"T_13af4_row1_col0\" class=\"data row1 col0\" >0.984879</td>\n",
       "      <td id=\"T_13af4_row1_col1\" class=\"data row1 col1\" >0.984927</td>\n",
       "      <td id=\"T_13af4_row1_col2\" class=\"data row1 col2\" >0.984749</td>\n",
       "      <td id=\"T_13af4_row1_col3\" class=\"data row1 col3\" >0.984930</td>\n",
       "      <td id=\"T_13af4_row1_col4\" class=\"data row1 col4\" >0.984882</td>\n",
       "      <td id=\"T_13af4_row1_col5\" class=\"data row1 col5\" >0.984873</td>\n",
       "      <td id=\"T_13af4_row1_col6\" class=\"data row1 col6\" >0.000066</td>\n",
       "    </tr>\n",
       "    <tr>\n",
       "      <th id=\"T_13af4_level0_row2\" class=\"row_heading level0 row2\" >cat</th>\n",
       "      <td id=\"T_13af4_row2_col0\" class=\"data row2 col0\" >0.984602</td>\n",
       "      <td id=\"T_13af4_row2_col1\" class=\"data row2 col1\" >0.984942</td>\n",
       "      <td id=\"T_13af4_row2_col2\" class=\"data row2 col2\" >0.984591</td>\n",
       "      <td id=\"T_13af4_row2_col3\" class=\"data row2 col3\" >0.984799</td>\n",
       "      <td id=\"T_13af4_row2_col4\" class=\"data row2 col4\" >0.984780</td>\n",
       "      <td id=\"T_13af4_row2_col5\" class=\"data row2 col5\" >0.984743</td>\n",
       "      <td id=\"T_13af4_row2_col6\" class=\"data row2 col6\" >0.000132</td>\n",
       "    </tr>\n",
       "    <tr>\n",
       "      <th id=\"T_13af4_level0_row3\" class=\"row_heading level0 row3\" >nn</th>\n",
       "      <td id=\"T_13af4_row3_col0\" class=\"data row3 col0\" >0.984307</td>\n",
       "      <td id=\"T_13af4_row3_col1\" class=\"data row3 col1\" >0.984485</td>\n",
       "      <td id=\"T_13af4_row3_col2\" class=\"data row3 col2\" >0.984378</td>\n",
       "      <td id=\"T_13af4_row3_col3\" class=\"data row3 col3\" >0.984448</td>\n",
       "      <td id=\"T_13af4_row3_col4\" class=\"data row3 col4\" >0.984561</td>\n",
       "      <td id=\"T_13af4_row3_col5\" class=\"data row3 col5\" >0.984436</td>\n",
       "      <td id=\"T_13af4_row3_col6\" class=\"data row3 col6\" >0.000087</td>\n",
       "    </tr>\n",
       "  </tbody>\n",
       "</table>\n"
      ],
      "text/plain": [
       "<pandas.io.formats.style.Styler at 0x7766d17844c0>"
      ]
     },
     "execution_count": 17,
     "metadata": {},
     "output_type": "execute_result"
    }
   ],
   "source": [
    "# Performance Summary for comparing model (Not Needed)\n",
    "transposed_df = cv_summary.transpose()\n",
    "transposed_df.columns = ['fold1','fold2','fold3','fold4','fold5']\n",
    "transposed_df['Mean'] = transposed_df.mean(axis=1)\n",
    "transposed_df['Std'] = transposed_df.std(axis=1)\n",
    "transposed_df.sort_values(by = 'Mean', ascending=False).style.background_gradient('Dark2_r')"
   ]
  },
  {
   "cell_type": "code",
   "execution_count": 18,
   "metadata": {},
   "outputs": [
    {
     "data": {
      "image/png": "[encoded data removed]",
      "text/plain": [
       "<Figure size 2000x2000 with 1 Axes>"
      ]
     },
     "metadata": {},
     "output_type": "display_data"
    }
   ],
   "source": [
    "# Model diversity check (Not Needed)\n",
    "sns.set(font_scale=1.1)\n",
    "correlation_train = oof_probs.corr()\n",
    "mask = np.triu(correlation_train.corr())\n",
    "plt.figure(figsize=(20, 20))\n",
    "sns.heatmap(correlation_train,\n",
    "            annot=True,\n",
    "            fmt='.3f',\n",
    "            cmap='coolwarm',\n",
    "            square=True,\n",
    "            mask=mask,\n",
    "            linewidths=1,\n",
    "            cbar=False);"
   ]
  },
  {
   "cell_type": "markdown",
   "metadata": {},
   "source": [
    "### Ensemble"
   ]
  },
  {
   "cell_type": "markdown",
   "metadata": {},
   "source": [
    "1. Voting"
   ]
  },
  {
   "cell_type": "code",
   "execution_count": 19,
   "metadata": {},
   "outputs": [],
   "source": [
    "#voting hard & soft\n",
    "def voting_ensemble(oof_probs, y, threshold=0.5, voting_type='soft'):\n",
    "    if voting_type == 'soft':\n",
    "        ensemble_preds = oof_probs.mean(axis=1)\n",
    "        ensemble_class_preds = (ensemble_preds > threshold).astype(int)\n",
    "        \n",
    "    elif voting_type == 'hard':\n",
    "        binary_preds = (oof_probs > threshold).astype(int)\n",
    "        ensemble_class_preds = mode(binary_preds, axis=1)[0].flatten()\n",
    "    \n",
    "    mcc_score = matthews_corrcoef(y, ensemble_class_preds)\n",
    "    \n",
    "    return mcc_score, ensemble_class_preds"
   ]
  },
  {
   "cell_type": "code",
   "execution_count": 20,
   "metadata": {},
   "outputs": [
    {
     "name": "stdout",
     "output_type": "stream",
     "text": [
      "0.9851520695912667\n"
     ]
    }
   ],
   "source": [
    "soft_vote_score, soft_vote_pred = voting_ensemble(oof_probs, y, voting_type='soft')\n",
    "print(soft_vote_score)"
   ]
  },
  {
   "cell_type": "code",
   "execution_count": 21,
   "metadata": {},
   "outputs": [
    {
     "name": "stdout",
     "output_type": "stream",
     "text": [
      "0.9851002816352973\n"
     ]
    }
   ],
   "source": [
    "hard_vote_score, hard_vote_pred = voting_ensemble(oof_probs, y, voting_type='hard')\n",
    "print(hard_vote_score)"
   ]
  },
  {
   "cell_type": "code",
   "execution_count": 22,
   "metadata": {},
   "outputs": [],
   "source": [
    "#voting hard & soft\n",
    "def voting_ensemble_only_pred(oof_probs, threshold=0.5, voting_type='soft'):\n",
    "  if voting_type == 'soft':\n",
    "      ensemble_preds = oof_probs.mean(axis=1)\n",
    "      ensemble_class_preds = (ensemble_preds > threshold).astype(int)\n",
    "      \n",
    "  elif voting_type == 'hard':\n",
    "      binary_preds = (oof_probs > threshold).astype(int)\n",
    "      ensemble_class_preds = mode(binary_preds, axis=1)[0].flatten()\n",
    "\n",
    "  return ensemble_class_preds"
   ]
  },
  {
   "cell_type": "code",
   "execution_count": 23,
   "metadata": {},
   "outputs": [],
   "source": [
    "soft_vote_pred_test = voting_ensemble_only_pred(test_probs, voting_type='soft')"
   ]
  },
  {
   "cell_type": "code",
   "execution_count": 24,
   "metadata": {},
   "outputs": [
    {
     "name": "stdout",
     "output_type": "stream",
     "text": [
      "0          0\n",
      "1          1\n",
      "2          1\n",
      "3          1\n",
      "4          0\n",
      "          ..\n",
      "2077959    1\n",
      "2077960    1\n",
      "2077961    1\n",
      "2077962    0\n",
      "2077963    0\n",
      "Length: 2077964, dtype: int64\n"
     ]
    }
   ],
   "source": [
    "print(soft_vote_pred_test)"
   ]
  },
  {
   "cell_type": "markdown",
   "metadata": {},
   "source": [
    "2. Stacking"
   ]
  },
  {
   "cell_type": "code",
   "execution_count": 25,
   "metadata": {},
   "outputs": [],
   "source": [
    "#parameters for meta model                                                                                                 \n",
    "meta_model_params = {\n",
    "    'C': 0.000237302749626327,\n",
    "    'max_iter': 2500,\n",
    "    'tol': 9.996751434702547e-05,\n",
    "    'solver': 'saga',\n",
    "    'penalty': 'l1'\n",
    "}\n",
    "\n",
    "meta_model = LogisticRegression(**meta_model_params, random_state=random_state)"
   ]
  },
  {
   "cell_type": "code",
   "execution_count": 26,
   "metadata": {},
   "outputs": [
    {
     "name": "stdout",
     "output_type": "stream",
     "text": [
      "Best CV score: \n",
      "0.9851371650771382\n",
      "Number of available models: 4\n",
      "Number of selected models for ensemble: 4\n",
      "Selected models: ['nn' 'xgb' 'cat' 'lgb']\n"
     ]
    }
   ],
   "source": [
    "# %%time\n",
    "\n",
    "#Deciding which models to include ensemble\n",
    "\n",
    "min_features_to_select = 1\n",
    "\n",
    "# Create a pipeline with preprocessor and RFECV\n",
    "pipeline = Pipeline([\n",
    "    ('Scaler', StandardScaler()),\n",
    "    ('rfecv', RFECV(estimator=meta_model,\n",
    "                    step=1,\n",
    "                    cv=skfold,\n",
    "                    scoring=make_scorer(matthews_corrcoef),\n",
    "                    min_features_to_select=min_features_to_select,\n",
    "                    n_jobs=-1,))\n",
    "])\n",
    "\n",
    "# Fit the pipeline on oof_preds\n",
    "pipeline.fit(oof_probs, y)\n",
    "\n",
    "#CV score\n",
    "print(\"Best CV score: \")\n",
    "selected_models = np.array(oof_probs.columns)[pipeline.named_steps['rfecv'].support_]\n",
    "print( pipeline.named_steps['rfecv'].cv_results_[\"mean_test_score\"][len(selected_models) - 1])\n",
    "\n",
    "\n",
    "# Selected models after RFECV\n",
    "print('Number of available models:', len(oof_probs.columns))\n",
    "print('Number of selected models for ensemble:', len(selected_models))\n",
    "print(\"Selected models:\", selected_models)"
   ]
  },
  {
   "cell_type": "code",
   "execution_count": 27,
   "metadata": {},
   "outputs": [],
   "source": [
    "meta_model = meta_model.fit(oof_probs[selected_models], y)"
   ]
  },
  {
   "cell_type": "code",
   "execution_count": 28,
   "metadata": {},
   "outputs": [
    {
     "name": "stdout",
     "output_type": "stream",
     "text": [
      "0.9851251771261301\n"
     ]
    }
   ],
   "source": [
    "preds_train =  meta_model.predict(oof_probs[selected_models])\n",
    "mcc_score = matthews_corrcoef(y, preds_train)\n",
    "print(mcc_score)"
   ]
  },
  {
   "cell_type": "code",
   "execution_count": 29,
   "metadata": {},
   "outputs": [],
   "source": [
    "preds_test =  meta_model.predict(test_probs[selected_models])\n",
    "preds_test = lab_enc.inverse_transform(preds_test)"
   ]
  },
  {
   "cell_type": "markdown",
   "metadata": {},
   "source": [
    "Submission"
   ]
  },
  {
   "cell_type": "code",
   "execution_count": 30,
   "metadata": {},
   "outputs": [],
   "source": [
    "''' Stacking '''\n",
    "\n",
    "output = pd.DataFrame({'id': test_df.index,\n",
    "                       'class': preds_test})\n",
    "output.to_csv('pred/submission.csv', index=False)"
   ]
  },
  {
   "cell_type": "code",
   "execution_count": 31,
   "metadata": {},
   "outputs": [],
   "source": [
    "''' Soft Voting '''\n",
    "soft_vote_pred_test = lab_enc.inverse_transform(soft_vote_pred_test)\n",
    "output = pd.DataFrame({'id': test_df.index,\n",
    "                       'class': soft_vote_pred_test})\n",
    "output.to_csv('pred/submission_soft_vote_1.csv', index=False)"
   ]
  },
  {
   "cell_type": "code",
   "execution_count": null,
   "metadata": {},
   "outputs": [],
   "source": [
    "output.head()"
   ]
  },
  {
   "cell_type": "code",
   "execution_count": null,
   "metadata": {},
   "outputs": [],
   "source": [
    "#save oofs and test predictions for later usage\n",
    "oof_probs.to_parquet('oof_predictions_v01.parquet', index=False)\n",
    "test_probs.to_parquet('test_predictions_v01.parquet', index=False)"
   ]
  },
  {
   "cell_type": "code",
   "execution_count": null,
   "metadata": {},
   "outputs": [],
   "source": [
    "# sub = pd.read_csv(\"/data/playground-series-s4e8/sample_submission.csv\")\n",
    "# preds = [pred for model, pred in oof_preds.items()]\n",
    "# md = mode(preds, axis=0)[0] if len(preds)>1 else preds[0]\n",
    "# sub[target] = lab_enc.inverse_transform(md)\n",
    "# sub.to_csv(\"submission.csv\", index=False)"
   ]
  },
  {
   "cell_type": "code",
   "execution_count": null,
   "metadata": {},
   "outputs": [],
   "source": [
    "# ext1 = pd.read_csv(\"/kaggle/input/mario-s-nightmare-15-th-place-solution/submission.csv\")[target].ravel()\n",
    "# ext2 = pd.read_csv(\"/kaggle/input/ps4e8-binary-class-mathews-correlation-coeff/submission.csv\")[target].ravel()\n",
    "# ext3 = pd.read_csv(\"/kaggle/input/playgrounds4e08-modeblend/submission.csv\")[target].ravel()\n",
    "# ext4 = pd.read_csv(\"/kaggle/input/autogloun-t8-dslanders/submission.csv\")[target].ravel()\n",
    "# ext5 = pd.read_csv(\"/kaggle/input/mario-s-nightmare-denselight-0-990/submission_test7.csv\")[target].ravel()\n",
    "\n",
    "# preds = [ext1, ext2, ext3, ext4, ext5]\n",
    "# preds = [lab_enc.transform(x) for x in preds]\n",
    "# md = mode(preds, axis=0)[0]\n",
    "# sub[target] = lab_enc.inverse_transform(md)\n",
    "# sub.to_csv(\"submission.csv\", index=False)"
   ]
  }
 ],
 "metadata": {
  "kernelspec": {
   "display_name": ".venv",
   "language": "python",
   "name": "python3"
  },
  "language_info": {
   "codemirror_mode": {
    "name": "ipython",
    "version": 3
   },
   "file_extension": ".py",
   "mimetype": "text/x-python",
   "name": "python",
   "nbconvert_exporter": "python",
   "pygments_lexer": "ipython3",
   "version": "3.10.12"
  }
 },
 "nbformat": 4,
 "nbformat_minor": 2
}
